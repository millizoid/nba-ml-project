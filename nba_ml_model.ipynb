{
 "cells": [
  {
   "cell_type": "markdown",
   "id": "33dd6c4c",
   "metadata": {
    "id": "33dd6c4c"
   },
   "source": [
    "# NBA Player Efficiency Analysis Code\n",
    "## Predicting Player Efficiency Rating (PER)\n",
    "### Author: Millie Cox\n",
    "#### Date: 12/07/2023\n",
    "\n",
    "In the realm of NBA basketball, where only five players grace the court for each team simultaneously, the strategic deployment of top-performing athletes is paramount. The quest to more accurately gauge player performance on this elite stage has proven to be a persistent challenge. A notable advancement in this pursuit is the introduction of Player Efficiency Rating (PER), an advanced metric designed to transcend traditional box score statistics. PER strives to unveil the true elements that contribute to a player's value within a team context. My goal is to develop a predictive model for a player's PER rating based on their season-long statistics. Additionally, I aim to discern the specific statistical factors that wield the most influence in forecasting a player's efficiency on the court."
   ]
  },
  {
   "attachments": {},
   "cell_type": "markdown",
   "id": "dea0ef0a",
   "metadata": {},
   "source": [
    "## Background / Motivation\n",
    "\n",
    "Evaluating the skill level of a basketball player proves to be a complex task due to the multifaceted nature of the sport. Distinguishing between players becomes challenging as two individuals may possess identical statistics yet exhibit vastly different playing styles. In contrast to sports like football or baseball, where success metrics are more straightforward, quantifying success on the basketball court is a nuanced endeavor. For example, comparing a player scoring 30 points per game on 40% shooting with another scoring 20 points per game on 50% shooting lacks a definitive answer to determine the superior player. This ambiguity is where Player Efficiency Rating (PER) becomes invaluable. Serving as an advanced metric, PER endeavors to gauge a player's efficiency on both offense and defense during their on-court engagements. My objective has been to predict PER by leveraging a player's box score statistics and other pertinent metrics."
   ]
  },
  {
   "cell_type": "markdown",
   "id": "1907b143",
   "metadata": {},
   "source": [
    "## Problem statement \n",
    "\n",
    "There is a common debate in the NBA about what makes a player valuable on offense to the team. I aim to use Player Efficiency Rating (PER) to determine how effective a player is during their time in the game. Assuming this is an accurate measure of a player’s contribution to the game, I hope to look beyond the box score and uncover what attributes truly make a player ‘efficient’."
   ]
  },
  {
   "cell_type": "markdown",
   "id": "3b8d5cda",
   "metadata": {},
   "source": [
    "## Data sources\n",
    "\n",
    "I used NBA player data dating back to 1950 from [Kaggle](https://www.kaggle.com/code/piyush1912/nba-top-players-deep-learning/input?select=Seasons_Stats.csv). This dataset gives in depth statistics about players from any year, which helps in determining the variables that are associated with strong PER. Each row represents a season for a player, and the data has 24,700 rows total. Each column represents a different statistic, with 53 columns total. I will use some years to train the model and some as the test dataset. It's important to note that PER as a metric was not adopted until 1952."
   ]
  },
  {
   "cell_type": "markdown",
   "id": "eb0187d0",
   "metadata": {},
   "source": [
    "## Stakeholders\n",
    "\n",
    "If PER is truly a reasonable metric to gauge player performance, I will be able to see which factors of a player’s game are most associated their performance on the court and use these to predict a player’s PER given their in-game statistics. This will be valuable to coaches and scouts who can look for desirable attributes in their players and could help make game time decisions and recruit future prospects. Most importantly, a player looking to improve their game will be able to focus on factors most associated with increased player performance. This will both make them more appealing to coaches who are aware of advanced analytics and help them become more efficient on the court. It is worth noting that PER is purely an individual statistic, so it does not account for interactions with other players and team environments. Therefore, simply amassing a group of players that have the traits of high PER players could have adverse effects on the team as a whole, and I was unable to take this limitation into account due to the scope of this project."
   ]
  },
  {
   "attachments": {},
   "cell_type": "markdown",
   "id": "fe7ea9bb",
   "metadata": {
    "id": "fe7ea9bb"
   },
   "source": [
    "## Data Cleaning, Preparation, and Evaluation\n"
   ]
  },
  {
   "attachments": {},
   "cell_type": "markdown",
   "id": "GWeZWIZDmRuQ",
   "metadata": {
    "id": "GWeZWIZDmRuQ"
   },
   "source": [
    "### Data Check\n",
    "\n",
    "Before starting on the data cleaning process, a preliminary data check involves importing essential libraries and exploring a snapshot of the dataset's summary statistics. Armed with pandas, numpy, seaborn, and matplotlib, we set the stage for a thorough examination."
   ]
  },
  {
   "cell_type": "code",
   "execution_count": 2,
   "id": "2HYc-bfsmVbI",
   "metadata": {
    "id": "2HYc-bfsmVbI"
   },
   "outputs": [],
   "source": [
    "# Importing libraries\n",
    "import pandas as pd\n",
    "import numpy as np\n",
    "import seaborn as sns\n",
    "import matplotlib.pyplot as plt\n",
    "from statsmodels.tools import add_constant\n",
    "from statsmodels.stats.outliers_influence import variance_inflation_factor\n",
    "from sklearn.metrics import mean_squared_error, mean_absolute_error\n",
    "from sklearn.model_selection import cross_val_score, train_test_split\n",
    "from sklearn.model_selection import cross_val_predict, cross_validate\n",
    "from sklearn.metrics import roc_curve, precision_recall_curve, auc\n",
    "from sklearn.metrics import make_scorer, recall_score, accuracy_score\n",
    "from sklearn.metrics import precision_score, confusion_matrix\n",
    "from sklearn.model_selection import StratifiedKFold, KFold\n",
    "from sklearn.tree import DecisionTreeClassifier, DecisionTreeRegressor\n",
    "from sklearn.model_selection import GridSearchCV, RandomizedSearchCV\n",
    "# from pyearth import Earth\n",
    "import xgboost as xgb\n",
    "from sklearn.ensemble import StackingRegressor, VotingRegressor\n",
    "from sklearn.ensemble import RandomForestRegressor, BaggingRegressor\n",
    "from xgboost.sklearn import XGBRegressor\n",
    "from fitter import Fitter, get_common_distributions, get_distributions\n",
    "import itertools as it\n",
    "\n",
    "# Hiding warnings\n",
    "import warnings\n",
    "warnings.filterwarnings('ignore')"
   ]
  },
  {
   "cell_type": "code",
   "execution_count": 3,
   "id": "SPx5x5X6ZnOu",
   "metadata": {
    "id": "SPx5x5X6ZnOu"
   },
   "outputs": [],
   "source": [
    "# Reading data\n",
    "data = pd.read_csv('Seasons_Stats.csv')"
   ]
  },
  {
   "cell_type": "code",
   "execution_count": 4,
   "id": "yaTgepHqp9kB",
   "metadata": {
    "colab": {
     "base_uri": "https://localhost:8080/",
     "height": 390
    },
    "id": "yaTgepHqp9kB",
    "outputId": "ed6669ee-6b52-468b-8ce7-429aa06f87d8"
   },
   "outputs": [
    {
     "data": {
      "text/html": [
       "<div>\n",
       "<style scoped>\n",
       "    .dataframe tbody tr th:only-of-type {\n",
       "        vertical-align: middle;\n",
       "    }\n",
       "\n",
       "    .dataframe tbody tr th {\n",
       "        vertical-align: top;\n",
       "    }\n",
       "\n",
       "    .dataframe thead th {\n",
       "        text-align: right;\n",
       "    }\n",
       "</style>\n",
       "<table border=\"1\" class=\"dataframe\">\n",
       "  <thead>\n",
       "    <tr style=\"text-align: right;\">\n",
       "      <th></th>\n",
       "      <th>Unnamed: 0</th>\n",
       "      <th>Year</th>\n",
       "      <th>Age</th>\n",
       "      <th>G</th>\n",
       "      <th>GS</th>\n",
       "      <th>MP</th>\n",
       "      <th>PER</th>\n",
       "      <th>TS%</th>\n",
       "      <th>3PAr</th>\n",
       "      <th>FTr</th>\n",
       "      <th>...</th>\n",
       "      <th>FT%</th>\n",
       "      <th>ORB</th>\n",
       "      <th>DRB</th>\n",
       "      <th>TRB</th>\n",
       "      <th>AST</th>\n",
       "      <th>STL</th>\n",
       "      <th>BLK</th>\n",
       "      <th>TOV</th>\n",
       "      <th>PF</th>\n",
       "      <th>PTS</th>\n",
       "    </tr>\n",
       "  </thead>\n",
       "  <tbody>\n",
       "    <tr>\n",
       "      <th>count</th>\n",
       "      <td>24691.000000</td>\n",
       "      <td>24624.000000</td>\n",
       "      <td>24616.000000</td>\n",
       "      <td>24624.000000</td>\n",
       "      <td>18233.000000</td>\n",
       "      <td>24138.000000</td>\n",
       "      <td>24101.000000</td>\n",
       "      <td>24538.000000</td>\n",
       "      <td>18839.000000</td>\n",
       "      <td>24525.000000</td>\n",
       "      <td>...</td>\n",
       "      <td>23766.000000</td>\n",
       "      <td>20797.000000</td>\n",
       "      <td>20797.000000</td>\n",
       "      <td>24312.000000</td>\n",
       "      <td>24624.000000</td>\n",
       "      <td>20797.000000</td>\n",
       "      <td>20797.000000</td>\n",
       "      <td>19645.000000</td>\n",
       "      <td>24624.000000</td>\n",
       "      <td>24624.000000</td>\n",
       "    </tr>\n",
       "    <tr>\n",
       "      <th>mean</th>\n",
       "      <td>12345.000000</td>\n",
       "      <td>1992.594989</td>\n",
       "      <td>26.664405</td>\n",
       "      <td>50.837110</td>\n",
       "      <td>23.593375</td>\n",
       "      <td>1209.720317</td>\n",
       "      <td>12.479071</td>\n",
       "      <td>0.493001</td>\n",
       "      <td>0.158604</td>\n",
       "      <td>0.325455</td>\n",
       "      <td>...</td>\n",
       "      <td>0.719279</td>\n",
       "      <td>62.189210</td>\n",
       "      <td>147.199404</td>\n",
       "      <td>224.637381</td>\n",
       "      <td>114.852623</td>\n",
       "      <td>39.897052</td>\n",
       "      <td>24.470260</td>\n",
       "      <td>73.939832</td>\n",
       "      <td>116.339222</td>\n",
       "      <td>510.116350</td>\n",
       "    </tr>\n",
       "    <tr>\n",
       "      <th>std</th>\n",
       "      <td>7127.822084</td>\n",
       "      <td>17.429594</td>\n",
       "      <td>3.841892</td>\n",
       "      <td>26.496161</td>\n",
       "      <td>28.632387</td>\n",
       "      <td>941.146575</td>\n",
       "      <td>6.039014</td>\n",
       "      <td>0.094469</td>\n",
       "      <td>0.187495</td>\n",
       "      <td>0.218971</td>\n",
       "      <td>...</td>\n",
       "      <td>0.141824</td>\n",
       "      <td>67.324881</td>\n",
       "      <td>145.921912</td>\n",
       "      <td>228.190203</td>\n",
       "      <td>135.863913</td>\n",
       "      <td>38.713053</td>\n",
       "      <td>36.935084</td>\n",
       "      <td>67.713803</td>\n",
       "      <td>84.791873</td>\n",
       "      <td>492.922981</td>\n",
       "    </tr>\n",
       "    <tr>\n",
       "      <th>min</th>\n",
       "      <td>0.000000</td>\n",
       "      <td>1950.000000</td>\n",
       "      <td>18.000000</td>\n",
       "      <td>1.000000</td>\n",
       "      <td>0.000000</td>\n",
       "      <td>0.000000</td>\n",
       "      <td>-90.600000</td>\n",
       "      <td>0.000000</td>\n",
       "      <td>0.000000</td>\n",
       "      <td>0.000000</td>\n",
       "      <td>...</td>\n",
       "      <td>0.000000</td>\n",
       "      <td>0.000000</td>\n",
       "      <td>0.000000</td>\n",
       "      <td>0.000000</td>\n",
       "      <td>0.000000</td>\n",
       "      <td>0.000000</td>\n",
       "      <td>0.000000</td>\n",
       "      <td>0.000000</td>\n",
       "      <td>0.000000</td>\n",
       "      <td>0.000000</td>\n",
       "    </tr>\n",
       "    <tr>\n",
       "      <th>25%</th>\n",
       "      <td>6172.500000</td>\n",
       "      <td>1981.000000</td>\n",
       "      <td>24.000000</td>\n",
       "      <td>27.000000</td>\n",
       "      <td>0.000000</td>\n",
       "      <td>340.000000</td>\n",
       "      <td>9.800000</td>\n",
       "      <td>0.458000</td>\n",
       "      <td>0.005000</td>\n",
       "      <td>0.208000</td>\n",
       "      <td>...</td>\n",
       "      <td>0.657000</td>\n",
       "      <td>12.000000</td>\n",
       "      <td>33.000000</td>\n",
       "      <td>51.000000</td>\n",
       "      <td>19.000000</td>\n",
       "      <td>9.000000</td>\n",
       "      <td>3.000000</td>\n",
       "      <td>18.000000</td>\n",
       "      <td>39.000000</td>\n",
       "      <td>106.000000</td>\n",
       "    </tr>\n",
       "    <tr>\n",
       "      <th>50%</th>\n",
       "      <td>12345.000000</td>\n",
       "      <td>1996.000000</td>\n",
       "      <td>26.000000</td>\n",
       "      <td>58.000000</td>\n",
       "      <td>8.000000</td>\n",
       "      <td>1053.000000</td>\n",
       "      <td>12.700000</td>\n",
       "      <td>0.506000</td>\n",
       "      <td>0.064000</td>\n",
       "      <td>0.296000</td>\n",
       "      <td>...</td>\n",
       "      <td>0.743000</td>\n",
       "      <td>38.000000</td>\n",
       "      <td>106.000000</td>\n",
       "      <td>159.000000</td>\n",
       "      <td>68.000000</td>\n",
       "      <td>29.000000</td>\n",
       "      <td>11.000000</td>\n",
       "      <td>55.000000</td>\n",
       "      <td>109.000000</td>\n",
       "      <td>364.000000</td>\n",
       "    </tr>\n",
       "    <tr>\n",
       "      <th>75%</th>\n",
       "      <td>18517.500000</td>\n",
       "      <td>2007.000000</td>\n",
       "      <td>29.000000</td>\n",
       "      <td>75.000000</td>\n",
       "      <td>45.000000</td>\n",
       "      <td>1971.000000</td>\n",
       "      <td>15.600000</td>\n",
       "      <td>0.544000</td>\n",
       "      <td>0.288000</td>\n",
       "      <td>0.400000</td>\n",
       "      <td>...</td>\n",
       "      <td>0.808000</td>\n",
       "      <td>91.000000</td>\n",
       "      <td>212.000000</td>\n",
       "      <td>322.000000</td>\n",
       "      <td>160.000000</td>\n",
       "      <td>60.000000</td>\n",
       "      <td>29.000000</td>\n",
       "      <td>112.000000</td>\n",
       "      <td>182.000000</td>\n",
       "      <td>778.000000</td>\n",
       "    </tr>\n",
       "    <tr>\n",
       "      <th>max</th>\n",
       "      <td>24690.000000</td>\n",
       "      <td>2017.000000</td>\n",
       "      <td>44.000000</td>\n",
       "      <td>88.000000</td>\n",
       "      <td>83.000000</td>\n",
       "      <td>3882.000000</td>\n",
       "      <td>129.100000</td>\n",
       "      <td>1.136000</td>\n",
       "      <td>1.000000</td>\n",
       "      <td>6.000000</td>\n",
       "      <td>...</td>\n",
       "      <td>1.000000</td>\n",
       "      <td>587.000000</td>\n",
       "      <td>1111.000000</td>\n",
       "      <td>2149.000000</td>\n",
       "      <td>1164.000000</td>\n",
       "      <td>301.000000</td>\n",
       "      <td>456.000000</td>\n",
       "      <td>464.000000</td>\n",
       "      <td>386.000000</td>\n",
       "      <td>4029.000000</td>\n",
       "    </tr>\n",
       "  </tbody>\n",
       "</table>\n",
       "<p>8 rows × 50 columns</p>\n",
       "</div>"
      ],
      "text/plain": [
       "         Unnamed: 0          Year           Age             G            GS  \\\n",
       "count  24691.000000  24624.000000  24616.000000  24624.000000  18233.000000   \n",
       "mean   12345.000000   1992.594989     26.664405     50.837110     23.593375   \n",
       "std     7127.822084     17.429594      3.841892     26.496161     28.632387   \n",
       "min        0.000000   1950.000000     18.000000      1.000000      0.000000   \n",
       "25%     6172.500000   1981.000000     24.000000     27.000000      0.000000   \n",
       "50%    12345.000000   1996.000000     26.000000     58.000000      8.000000   \n",
       "75%    18517.500000   2007.000000     29.000000     75.000000     45.000000   \n",
       "max    24690.000000   2017.000000     44.000000     88.000000     83.000000   \n",
       "\n",
       "                 MP           PER           TS%          3PAr           FTr  \\\n",
       "count  24138.000000  24101.000000  24538.000000  18839.000000  24525.000000   \n",
       "mean    1209.720317     12.479071      0.493001      0.158604      0.325455   \n",
       "std      941.146575      6.039014      0.094469      0.187495      0.218971   \n",
       "min        0.000000    -90.600000      0.000000      0.000000      0.000000   \n",
       "25%      340.000000      9.800000      0.458000      0.005000      0.208000   \n",
       "50%     1053.000000     12.700000      0.506000      0.064000      0.296000   \n",
       "75%     1971.000000     15.600000      0.544000      0.288000      0.400000   \n",
       "max     3882.000000    129.100000      1.136000      1.000000      6.000000   \n",
       "\n",
       "       ...           FT%           ORB           DRB           TRB  \\\n",
       "count  ...  23766.000000  20797.000000  20797.000000  24312.000000   \n",
       "mean   ...      0.719279     62.189210    147.199404    224.637381   \n",
       "std    ...      0.141824     67.324881    145.921912    228.190203   \n",
       "min    ...      0.000000      0.000000      0.000000      0.000000   \n",
       "25%    ...      0.657000     12.000000     33.000000     51.000000   \n",
       "50%    ...      0.743000     38.000000    106.000000    159.000000   \n",
       "75%    ...      0.808000     91.000000    212.000000    322.000000   \n",
       "max    ...      1.000000    587.000000   1111.000000   2149.000000   \n",
       "\n",
       "                AST           STL           BLK           TOV            PF  \\\n",
       "count  24624.000000  20797.000000  20797.000000  19645.000000  24624.000000   \n",
       "mean     114.852623     39.897052     24.470260     73.939832    116.339222   \n",
       "std      135.863913     38.713053     36.935084     67.713803     84.791873   \n",
       "min        0.000000      0.000000      0.000000      0.000000      0.000000   \n",
       "25%       19.000000      9.000000      3.000000     18.000000     39.000000   \n",
       "50%       68.000000     29.000000     11.000000     55.000000    109.000000   \n",
       "75%      160.000000     60.000000     29.000000    112.000000    182.000000   \n",
       "max     1164.000000    301.000000    456.000000    464.000000    386.000000   \n",
       "\n",
       "                PTS  \n",
       "count  24624.000000  \n",
       "mean     510.116350  \n",
       "std      492.922981  \n",
       "min        0.000000  \n",
       "25%      106.000000  \n",
       "50%      364.000000  \n",
       "75%      778.000000  \n",
       "max     4029.000000  \n",
       "\n",
       "[8 rows x 50 columns]"
      ]
     },
     "execution_count": 4,
     "metadata": {},
     "output_type": "execute_result"
    }
   ],
   "source": [
    "# Summary statistics of continuous variables\n",
    "data.describe()"
   ]
  },
  {
   "attachments": {},
   "cell_type": "markdown",
   "id": "32a3fad6",
   "metadata": {},
   "source": [
    "This preliminary exploration provides an overview of the dataset, laying the groundwork for subsequent actions."
   ]
  },
  {
   "attachments": {},
   "cell_type": "markdown",
   "id": "9ba222cc",
   "metadata": {},
   "source": [
    "### Table Describing Each Variable\n",
    "\n",
    "To gain a comprehensive understanding of the dataset's composition, a detailed table describing each variable is constructed. This table showcases the types of variables, the count of missing values, and the number of unique values for both categorical and continuous variables."
   ]
  },
  {
   "cell_type": "code",
   "execution_count": 5,
   "id": "prKEkSi5qLeP",
   "metadata": {
    "colab": {
     "base_uri": "https://localhost:8080/",
     "height": 1000
    },
    "id": "prKEkSi5qLeP",
    "outputId": "0a6cdf52-482f-4cac-a080-bb70597a6c8c"
   },
   "outputs": [
    {
     "data": {
      "text/html": [
       "<div>\n",
       "<style scoped>\n",
       "    .dataframe tbody tr th:only-of-type {\n",
       "        vertical-align: middle;\n",
       "    }\n",
       "\n",
       "    .dataframe tbody tr th {\n",
       "        vertical-align: top;\n",
       "    }\n",
       "\n",
       "    .dataframe thead th {\n",
       "        text-align: right;\n",
       "    }\n",
       "</style>\n",
       "<table border=\"1\" class=\"dataframe\">\n",
       "  <thead>\n",
       "    <tr style=\"text-align: right;\">\n",
       "      <th></th>\n",
       "      <th>Variable</th>\n",
       "      <th>Type</th>\n",
       "      <th>Missing Values</th>\n",
       "      <th>Unique Values</th>\n",
       "    </tr>\n",
       "  </thead>\n",
       "  <tbody>\n",
       "    <tr>\n",
       "      <th>0</th>\n",
       "      <td>Unnamed: 0</td>\n",
       "      <td>Continuous</td>\n",
       "      <td>0</td>\n",
       "      <td>-</td>\n",
       "    </tr>\n",
       "    <tr>\n",
       "      <th>1</th>\n",
       "      <td>Year</td>\n",
       "      <td>Continuous</td>\n",
       "      <td>67</td>\n",
       "      <td>-</td>\n",
       "    </tr>\n",
       "    <tr>\n",
       "      <th>2</th>\n",
       "      <td>Player</td>\n",
       "      <td>Categorical</td>\n",
       "      <td>67</td>\n",
       "      <td>3921</td>\n",
       "    </tr>\n",
       "    <tr>\n",
       "      <th>3</th>\n",
       "      <td>Pos</td>\n",
       "      <td>Categorical</td>\n",
       "      <td>67</td>\n",
       "      <td>23</td>\n",
       "    </tr>\n",
       "    <tr>\n",
       "      <th>4</th>\n",
       "      <td>Age</td>\n",
       "      <td>Continuous</td>\n",
       "      <td>75</td>\n",
       "      <td>-</td>\n",
       "    </tr>\n",
       "    <tr>\n",
       "      <th>5</th>\n",
       "      <td>Tm</td>\n",
       "      <td>Categorical</td>\n",
       "      <td>67</td>\n",
       "      <td>69</td>\n",
       "    </tr>\n",
       "    <tr>\n",
       "      <th>6</th>\n",
       "      <td>G</td>\n",
       "      <td>Continuous</td>\n",
       "      <td>67</td>\n",
       "      <td>-</td>\n",
       "    </tr>\n",
       "    <tr>\n",
       "      <th>7</th>\n",
       "      <td>GS</td>\n",
       "      <td>Continuous</td>\n",
       "      <td>6458</td>\n",
       "      <td>-</td>\n",
       "    </tr>\n",
       "    <tr>\n",
       "      <th>8</th>\n",
       "      <td>MP</td>\n",
       "      <td>Continuous</td>\n",
       "      <td>553</td>\n",
       "      <td>-</td>\n",
       "    </tr>\n",
       "    <tr>\n",
       "      <th>9</th>\n",
       "      <td>PER</td>\n",
       "      <td>Continuous</td>\n",
       "      <td>590</td>\n",
       "      <td>-</td>\n",
       "    </tr>\n",
       "    <tr>\n",
       "      <th>10</th>\n",
       "      <td>TS%</td>\n",
       "      <td>Continuous</td>\n",
       "      <td>153</td>\n",
       "      <td>-</td>\n",
       "    </tr>\n",
       "    <tr>\n",
       "      <th>11</th>\n",
       "      <td>3PAr</td>\n",
       "      <td>Continuous</td>\n",
       "      <td>5852</td>\n",
       "      <td>-</td>\n",
       "    </tr>\n",
       "    <tr>\n",
       "      <th>12</th>\n",
       "      <td>FTr</td>\n",
       "      <td>Continuous</td>\n",
       "      <td>166</td>\n",
       "      <td>-</td>\n",
       "    </tr>\n",
       "    <tr>\n",
       "      <th>13</th>\n",
       "      <td>ORB%</td>\n",
       "      <td>Continuous</td>\n",
       "      <td>3899</td>\n",
       "      <td>-</td>\n",
       "    </tr>\n",
       "    <tr>\n",
       "      <th>14</th>\n",
       "      <td>DRB%</td>\n",
       "      <td>Continuous</td>\n",
       "      <td>3899</td>\n",
       "      <td>-</td>\n",
       "    </tr>\n",
       "    <tr>\n",
       "      <th>15</th>\n",
       "      <td>TRB%</td>\n",
       "      <td>Continuous</td>\n",
       "      <td>3120</td>\n",
       "      <td>-</td>\n",
       "    </tr>\n",
       "    <tr>\n",
       "      <th>16</th>\n",
       "      <td>AST%</td>\n",
       "      <td>Continuous</td>\n",
       "      <td>2136</td>\n",
       "      <td>-</td>\n",
       "    </tr>\n",
       "    <tr>\n",
       "      <th>17</th>\n",
       "      <td>STL%</td>\n",
       "      <td>Continuous</td>\n",
       "      <td>3899</td>\n",
       "      <td>-</td>\n",
       "    </tr>\n",
       "    <tr>\n",
       "      <th>18</th>\n",
       "      <td>BLK%</td>\n",
       "      <td>Continuous</td>\n",
       "      <td>3899</td>\n",
       "      <td>-</td>\n",
       "    </tr>\n",
       "    <tr>\n",
       "      <th>19</th>\n",
       "      <td>TOV%</td>\n",
       "      <td>Continuous</td>\n",
       "      <td>5109</td>\n",
       "      <td>-</td>\n",
       "    </tr>\n",
       "    <tr>\n",
       "      <th>20</th>\n",
       "      <td>USG%</td>\n",
       "      <td>Continuous</td>\n",
       "      <td>5051</td>\n",
       "      <td>-</td>\n",
       "    </tr>\n",
       "    <tr>\n",
       "      <th>21</th>\n",
       "      <td>blanl</td>\n",
       "      <td>Continuous</td>\n",
       "      <td>24691</td>\n",
       "      <td>-</td>\n",
       "    </tr>\n",
       "    <tr>\n",
       "      <th>22</th>\n",
       "      <td>OWS</td>\n",
       "      <td>Continuous</td>\n",
       "      <td>106</td>\n",
       "      <td>-</td>\n",
       "    </tr>\n",
       "    <tr>\n",
       "      <th>23</th>\n",
       "      <td>DWS</td>\n",
       "      <td>Continuous</td>\n",
       "      <td>106</td>\n",
       "      <td>-</td>\n",
       "    </tr>\n",
       "    <tr>\n",
       "      <th>24</th>\n",
       "      <td>WS</td>\n",
       "      <td>Continuous</td>\n",
       "      <td>106</td>\n",
       "      <td>-</td>\n",
       "    </tr>\n",
       "    <tr>\n",
       "      <th>25</th>\n",
       "      <td>WS/48</td>\n",
       "      <td>Continuous</td>\n",
       "      <td>590</td>\n",
       "      <td>-</td>\n",
       "    </tr>\n",
       "    <tr>\n",
       "      <th>26</th>\n",
       "      <td>blank2</td>\n",
       "      <td>Continuous</td>\n",
       "      <td>24691</td>\n",
       "      <td>-</td>\n",
       "    </tr>\n",
       "    <tr>\n",
       "      <th>27</th>\n",
       "      <td>OBPM</td>\n",
       "      <td>Continuous</td>\n",
       "      <td>3894</td>\n",
       "      <td>-</td>\n",
       "    </tr>\n",
       "    <tr>\n",
       "      <th>28</th>\n",
       "      <td>DBPM</td>\n",
       "      <td>Continuous</td>\n",
       "      <td>3894</td>\n",
       "      <td>-</td>\n",
       "    </tr>\n",
       "    <tr>\n",
       "      <th>29</th>\n",
       "      <td>BPM</td>\n",
       "      <td>Continuous</td>\n",
       "      <td>3894</td>\n",
       "      <td>-</td>\n",
       "    </tr>\n",
       "    <tr>\n",
       "      <th>30</th>\n",
       "      <td>VORP</td>\n",
       "      <td>Continuous</td>\n",
       "      <td>3894</td>\n",
       "      <td>-</td>\n",
       "    </tr>\n",
       "    <tr>\n",
       "      <th>31</th>\n",
       "      <td>FG</td>\n",
       "      <td>Continuous</td>\n",
       "      <td>67</td>\n",
       "      <td>-</td>\n",
       "    </tr>\n",
       "    <tr>\n",
       "      <th>32</th>\n",
       "      <td>FGA</td>\n",
       "      <td>Continuous</td>\n",
       "      <td>67</td>\n",
       "      <td>-</td>\n",
       "    </tr>\n",
       "    <tr>\n",
       "      <th>33</th>\n",
       "      <td>FG%</td>\n",
       "      <td>Continuous</td>\n",
       "      <td>166</td>\n",
       "      <td>-</td>\n",
       "    </tr>\n",
       "    <tr>\n",
       "      <th>34</th>\n",
       "      <td>3P</td>\n",
       "      <td>Continuous</td>\n",
       "      <td>5764</td>\n",
       "      <td>-</td>\n",
       "    </tr>\n",
       "    <tr>\n",
       "      <th>35</th>\n",
       "      <td>3PA</td>\n",
       "      <td>Continuous</td>\n",
       "      <td>5764</td>\n",
       "      <td>-</td>\n",
       "    </tr>\n",
       "    <tr>\n",
       "      <th>36</th>\n",
       "      <td>3P%</td>\n",
       "      <td>Continuous</td>\n",
       "      <td>9275</td>\n",
       "      <td>-</td>\n",
       "    </tr>\n",
       "    <tr>\n",
       "      <th>37</th>\n",
       "      <td>2P</td>\n",
       "      <td>Continuous</td>\n",
       "      <td>67</td>\n",
       "      <td>-</td>\n",
       "    </tr>\n",
       "    <tr>\n",
       "      <th>38</th>\n",
       "      <td>2PA</td>\n",
       "      <td>Continuous</td>\n",
       "      <td>67</td>\n",
       "      <td>-</td>\n",
       "    </tr>\n",
       "    <tr>\n",
       "      <th>39</th>\n",
       "      <td>2P%</td>\n",
       "      <td>Continuous</td>\n",
       "      <td>195</td>\n",
       "      <td>-</td>\n",
       "    </tr>\n",
       "    <tr>\n",
       "      <th>40</th>\n",
       "      <td>eFG%</td>\n",
       "      <td>Continuous</td>\n",
       "      <td>166</td>\n",
       "      <td>-</td>\n",
       "    </tr>\n",
       "    <tr>\n",
       "      <th>41</th>\n",
       "      <td>FT</td>\n",
       "      <td>Continuous</td>\n",
       "      <td>67</td>\n",
       "      <td>-</td>\n",
       "    </tr>\n",
       "    <tr>\n",
       "      <th>42</th>\n",
       "      <td>FTA</td>\n",
       "      <td>Continuous</td>\n",
       "      <td>67</td>\n",
       "      <td>-</td>\n",
       "    </tr>\n",
       "    <tr>\n",
       "      <th>43</th>\n",
       "      <td>FT%</td>\n",
       "      <td>Continuous</td>\n",
       "      <td>925</td>\n",
       "      <td>-</td>\n",
       "    </tr>\n",
       "    <tr>\n",
       "      <th>44</th>\n",
       "      <td>ORB</td>\n",
       "      <td>Continuous</td>\n",
       "      <td>3894</td>\n",
       "      <td>-</td>\n",
       "    </tr>\n",
       "    <tr>\n",
       "      <th>45</th>\n",
       "      <td>DRB</td>\n",
       "      <td>Continuous</td>\n",
       "      <td>3894</td>\n",
       "      <td>-</td>\n",
       "    </tr>\n",
       "    <tr>\n",
       "      <th>46</th>\n",
       "      <td>TRB</td>\n",
       "      <td>Continuous</td>\n",
       "      <td>379</td>\n",
       "      <td>-</td>\n",
       "    </tr>\n",
       "    <tr>\n",
       "      <th>47</th>\n",
       "      <td>AST</td>\n",
       "      <td>Continuous</td>\n",
       "      <td>67</td>\n",
       "      <td>-</td>\n",
       "    </tr>\n",
       "    <tr>\n",
       "      <th>48</th>\n",
       "      <td>STL</td>\n",
       "      <td>Continuous</td>\n",
       "      <td>3894</td>\n",
       "      <td>-</td>\n",
       "    </tr>\n",
       "    <tr>\n",
       "      <th>49</th>\n",
       "      <td>BLK</td>\n",
       "      <td>Continuous</td>\n",
       "      <td>3894</td>\n",
       "      <td>-</td>\n",
       "    </tr>\n",
       "    <tr>\n",
       "      <th>50</th>\n",
       "      <td>TOV</td>\n",
       "      <td>Continuous</td>\n",
       "      <td>5046</td>\n",
       "      <td>-</td>\n",
       "    </tr>\n",
       "    <tr>\n",
       "      <th>51</th>\n",
       "      <td>PF</td>\n",
       "      <td>Continuous</td>\n",
       "      <td>67</td>\n",
       "      <td>-</td>\n",
       "    </tr>\n",
       "    <tr>\n",
       "      <th>52</th>\n",
       "      <td>PTS</td>\n",
       "      <td>Continuous</td>\n",
       "      <td>67</td>\n",
       "      <td>-</td>\n",
       "    </tr>\n",
       "  </tbody>\n",
       "</table>\n",
       "</div>"
      ],
      "text/plain": [
       "      Variable         Type  Missing Values Unique Values\n",
       "0   Unnamed: 0   Continuous               0             -\n",
       "1         Year   Continuous              67             -\n",
       "2       Player  Categorical              67          3921\n",
       "3          Pos  Categorical              67            23\n",
       "4          Age   Continuous              75             -\n",
       "5           Tm  Categorical              67            69\n",
       "6            G   Continuous              67             -\n",
       "7           GS   Continuous            6458             -\n",
       "8           MP   Continuous             553             -\n",
       "9          PER   Continuous             590             -\n",
       "10         TS%   Continuous             153             -\n",
       "11        3PAr   Continuous            5852             -\n",
       "12         FTr   Continuous             166             -\n",
       "13        ORB%   Continuous            3899             -\n",
       "14        DRB%   Continuous            3899             -\n",
       "15        TRB%   Continuous            3120             -\n",
       "16        AST%   Continuous            2136             -\n",
       "17        STL%   Continuous            3899             -\n",
       "18        BLK%   Continuous            3899             -\n",
       "19        TOV%   Continuous            5109             -\n",
       "20        USG%   Continuous            5051             -\n",
       "21       blanl   Continuous           24691             -\n",
       "22         OWS   Continuous             106             -\n",
       "23         DWS   Continuous             106             -\n",
       "24          WS   Continuous             106             -\n",
       "25       WS/48   Continuous             590             -\n",
       "26      blank2   Continuous           24691             -\n",
       "27        OBPM   Continuous            3894             -\n",
       "28        DBPM   Continuous            3894             -\n",
       "29         BPM   Continuous            3894             -\n",
       "30        VORP   Continuous            3894             -\n",
       "31          FG   Continuous              67             -\n",
       "32         FGA   Continuous              67             -\n",
       "33         FG%   Continuous             166             -\n",
       "34          3P   Continuous            5764             -\n",
       "35         3PA   Continuous            5764             -\n",
       "36         3P%   Continuous            9275             -\n",
       "37          2P   Continuous              67             -\n",
       "38         2PA   Continuous              67             -\n",
       "39         2P%   Continuous             195             -\n",
       "40        eFG%   Continuous             166             -\n",
       "41          FT   Continuous              67             -\n",
       "42         FTA   Continuous              67             -\n",
       "43         FT%   Continuous             925             -\n",
       "44         ORB   Continuous            3894             -\n",
       "45         DRB   Continuous            3894             -\n",
       "46         TRB   Continuous             379             -\n",
       "47         AST   Continuous              67             -\n",
       "48         STL   Continuous            3894             -\n",
       "49         BLK   Continuous            3894             -\n",
       "50         TOV   Continuous            5046             -\n",
       "51          PF   Continuous              67             -\n",
       "52         PTS   Continuous              67             -"
      ]
     },
     "execution_count": 5,
     "metadata": {},
     "output_type": "execute_result"
    }
   ],
   "source": [
    "# Table describing each variable\n",
    "table_rows = []\n",
    "for var in data.columns:\n",
    "    # Check if the variable is categorical or continuous\n",
    "    if data[var].dtype == 'object':\n",
    "        missing_values = data[var].isnull().sum()\n",
    "        unique_values = data[var].nunique()\n",
    "        table_rows.append([var, 'Categorical',\n",
    "                           missing_values, unique_values])\n",
    "    else:\n",
    "        # If continuous, calculate the summary statistics\n",
    "        desc = data[var].describe()\n",
    "        missing_values = data[var].isnull().sum()\n",
    "        unique_values = '-'\n",
    "        table_rows.append([var, 'Continuous',\n",
    "                           missing_values, unique_values])\n",
    "\n",
    "# Create a DataFrame from the table rows\n",
    "table_df = pd.DataFrame(table_rows, columns=['Variable',\n",
    "                                             'Type',\n",
    "                                             'Missing Values',\n",
    "                                             'Unique Values'])\n",
    "\n",
    "# Print the table\n",
    "table_df"
   ]
  },
  {
   "attachments": {},
   "cell_type": "markdown",
   "id": "cd107b8b",
   "metadata": {},
   "source": [
    "This comprehensive table equips us with insights into the nature and characteristics of each variable, guiding subsequent cleaning and preparation steps."
   ]
  },
  {
   "attachments": {},
   "cell_type": "markdown",
   "id": "yLoBhhSoofLE",
   "metadata": {
    "id": "yLoBhhSoofLE"
   },
   "source": [
    "### Data Cleaning/Preparation\n",
    "\n",
    "Armed with insights from the data check and variable table, we'll begin data cleaning and preparation. Key steps in this process include:\n",
    "\n",
    "**Eliminating Meaningless/Irrelevant Columns**\n",
    "\n",
    "Columns deemed meaningless (blanl, blank2, Unnamed: 0) or irrelevant to player statistics (Year, Player, Tm) are systematically removed to streamline the dataset.\n",
    "\n",
    "**Converting Categorical Variables to Dummy Variables**\n",
    "\n",
    "The sole remaining categorical variable (Pos) undergoes transformation into dummy variables, enhancing its compatibility with subsequent analysis.\n",
    "\n",
    "**Dropping Variables Affected by Game Performance**\n",
    "\n",
    "Variables susceptible to game performance influence (G, GS, MP) are strategically dropped to ensure model robustness.\n",
    "\n",
    "**Train-Test Split**\n",
    "\n",
    "Finally, the dataset is partitioned into an 80-20 train-test split, setting the stage for modeling."
   ]
  },
  {
   "cell_type": "code",
   "execution_count": 6,
   "id": "eohQDuKfobHq",
   "metadata": {
    "id": "eohQDuKfobHq"
   },
   "outputs": [],
   "source": [
    "# Dropping meaningless/irrelevant columns\n",
    "data = data.drop(['Year', 'Player', 'Tm', 'blanl', 'blank2', 'Unnamed: 0'], axis = 1)\n",
    "\n",
    "# Converting categorical variables to dummy variables, then dropping NAs\n",
    "data = pd.get_dummies(data)\n",
    "data = data.dropna()\n",
    "\n",
    "# Splitting response and predictors\n",
    "y = data.PER\n",
    "X = data.drop('PER', axis = 1)\n",
    "\n",
    "# Dropping variables that will be affected by game performance\n",
    "X = X.drop(['G','GS','MP'], axis = 1)\n",
    "\n",
    "# 80/20 train test split\n",
    "X_train, X_test, y_train, y_test = train_test_split(X, y, test_size = 0.2, random_state = 1)"
   ]
  },
  {
   "attachments": {},
   "cell_type": "markdown",
   "id": "b5b56288",
   "metadata": {},
   "source": [
    "This systematic approach ensures a refined and robust dataset, laying the foundation for subsequent modeling and analysis. Stay tuned for further insights into predicting Player Efficiency Rating (PER) and unraveling the intricate dynamics of NBA player performance."
   ]
  },
  {
   "cell_type": "markdown",
   "id": "fbb11c9b",
   "metadata": {
    "id": "fbb11c9b"
   },
   "source": [
    "## Exploratory data analysis"
   ]
  },
  {
   "attachments": {},
   "cell_type": "markdown",
   "id": "lqcTX_n3ubUa",
   "metadata": {
    "id": "lqcTX_n3ubUa"
   },
   "source": [
    "### Distribution of Response\n",
    "\n",
    "The response variable, Player Efficiency Rating (PER), exhibits an approximately normal distribution. With a mean of 13.2 and a standard deviation of 4.7, PER captures a diverse range of player performances on the NBA court."
   ]
  },
  {
   "cell_type": "code",
   "execution_count": 7,
   "id": "258GMSNgt5Bt",
   "metadata": {
    "colab": {
     "base_uri": "https://localhost:8080/",
     "height": 529
    },
    "id": "258GMSNgt5Bt",
    "outputId": "336b3167-ca0f-41ba-8928-5efbc3b309b4"
   },
   "outputs": [
    {
     "data": {
      "text/html": [
       "<div>\n",
       "<style scoped>\n",
       "    .dataframe tbody tr th:only-of-type {\n",
       "        vertical-align: middle;\n",
       "    }\n",
       "\n",
       "    .dataframe tbody tr th {\n",
       "        vertical-align: top;\n",
       "    }\n",
       "\n",
       "    .dataframe thead th {\n",
       "        text-align: right;\n",
       "    }\n",
       "</style>\n",
       "<table border=\"1\" class=\"dataframe\">\n",
       "  <thead>\n",
       "    <tr style=\"text-align: right;\">\n",
       "      <th></th>\n",
       "      <th>sumsquare_error</th>\n",
       "      <th>aic</th>\n",
       "      <th>bic</th>\n",
       "      <th>kl_div</th>\n",
       "      <th>ks_statistic</th>\n",
       "      <th>ks_pvalue</th>\n",
       "    </tr>\n",
       "  </thead>\n",
       "  <tbody>\n",
       "    <tr>\n",
       "      <th>norm</th>\n",
       "      <td>0.002314</td>\n",
       "      <td>2126.831693</td>\n",
       "      <td>2142.007191</td>\n",
       "      <td>inf</td>\n",
       "      <td>0.037881</td>\n",
       "      <td>1.276353e-18</td>\n",
       "    </tr>\n",
       "  </tbody>\n",
       "</table>\n",
       "</div>"
      ],
      "text/plain": [
       "      sumsquare_error          aic          bic  kl_div  ks_statistic  \\\n",
       "norm         0.002314  2126.831693  2142.007191     inf      0.037881   \n",
       "\n",
       "         ks_pvalue  \n",
       "norm  1.276353e-18  "
      ]
     },
     "execution_count": 7,
     "metadata": {},
     "output_type": "execute_result"
    },
    {
     "data": {
      "image/png": "[encoded data removed]",
      "text/plain": [
       "<Figure size 800x400 with 1 Axes>"
      ]
     },
     "metadata": {},
     "output_type": "display_data"
    }
   ],
   "source": [
    "# Distribution of response variable plot\n",
    "plt.figure(figsize = (8,4))\n",
    "plt.hist(y, bins = 100)\n",
    "\n",
    "plt.title('Distribution of PER')\n",
    "plt.xlabel('PER (%)')\n",
    "plt.ylabel('Density')\n",
    "\n",
    "f = Fitter(y, distributions = ['norm'])\n",
    "f.fit()\n",
    "f.summary()"
   ]
  },
  {
   "attachments": {},
   "cell_type": "markdown",
   "id": "0b5d8826",
   "metadata": {},
   "source": [
    "Further delving into the distribution, statistical fitting unveils that the normal distribution best encapsulates the nuances of PER, as indicated by the minimum sum of squared errors. The optimal normal distribution parameters reveal a central tendency at approximately 13.16 with a spread captured by a standard deviation of 4.66."
   ]
  },
  {
   "cell_type": "code",
   "execution_count": 8,
   "id": "m_HZIaPnu1ai",
   "metadata": {
    "colab": {
     "base_uri": "https://localhost:8080/"
    },
    "id": "m_HZIaPnu1ai",
    "outputId": "e9dbb7e3-7a98-4802-c1cf-fb3a1edee1ad"
   },
   "outputs": [
    {
     "data": {
      "text/plain": [
       "{'norm': {'loc': 13.158210490229688, 'scale': 4.655538680335473}}"
      ]
     },
     "execution_count": 8,
     "metadata": {},
     "output_type": "execute_result"
    }
   ],
   "source": [
    "# Mean and SD of response\n",
    "f.get_best(method = 'sumsquare_error')"
   ]
  },
  {
   "attachments": {},
   "cell_type": "markdown",
   "id": "nMrbRVVJyPY9",
   "metadata": {
    "id": "nMrbRVVJyPY9"
   },
   "source": [
    "### Correlations\n",
    "\n",
    "A correlation matrix illuminates the relationships between variables, with a focus on their connections with PER. Positive correlations dominate, highlighting variables that align with and influence player efficiency. Key insights emerge, showcasing negative correlations with turnover percentage (TOV%) and three-point attempt rate (3PAr), indicating that these aspects may hinder overall player efficiency. On the flip side, strong positive correlations are observed with metrics such as Win Shares per 48 minutes (WS/48), Offensive Box Plus/Minus (OBPM), and Box Plus/Minus (BPM), underscoring the influence of these performance-oriented variables on PER."
   ]
  },
  {
   "cell_type": "code",
   "execution_count": 9,
   "id": "KZq2Y_pYyl5W",
   "metadata": {
    "colab": {
     "base_uri": "https://localhost:8080/",
     "height": 235
    },
    "id": "KZq2Y_pYyl5W",
    "outputId": "9d019722-8892-417f-c33a-ac77b303c5f5"
   },
   "outputs": [
    {
     "data": {
      "text/html": [
       "<div>\n",
       "<style scoped>\n",
       "    .dataframe tbody tr th:only-of-type {\n",
       "        vertical-align: middle;\n",
       "    }\n",
       "\n",
       "    .dataframe tbody tr th {\n",
       "        vertical-align: top;\n",
       "    }\n",
       "\n",
       "    .dataframe thead th {\n",
       "        text-align: right;\n",
       "    }\n",
       "</style>\n",
       "<table border=\"1\" class=\"dataframe\">\n",
       "  <thead>\n",
       "    <tr style=\"text-align: right;\">\n",
       "      <th></th>\n",
       "      <th>Correlation</th>\n",
       "    </tr>\n",
       "  </thead>\n",
       "  <tbody>\n",
       "    <tr>\n",
       "      <th>TOV%</th>\n",
       "      <td>-0.279166</td>\n",
       "    </tr>\n",
       "    <tr>\n",
       "      <th>3PAr</th>\n",
       "      <td>-0.179803</td>\n",
       "    </tr>\n",
       "    <tr>\n",
       "      <th>Pos_SG</th>\n",
       "      <td>-0.083108</td>\n",
       "    </tr>\n",
       "    <tr>\n",
       "      <th>Pos_SF</th>\n",
       "      <td>-0.034578</td>\n",
       "    </tr>\n",
       "    <tr>\n",
       "      <th>Pos_SG-SF</th>\n",
       "      <td>-0.026329</td>\n",
       "    </tr>\n",
       "    <tr>\n",
       "      <th>Pos_PF-SF</th>\n",
       "      <td>-0.016967</td>\n",
       "    </tr>\n",
       "  </tbody>\n",
       "</table>\n",
       "</div>"
      ],
      "text/plain": [
       "           Correlation\n",
       "TOV%         -0.279166\n",
       "3PAr         -0.179803\n",
       "Pos_SG       -0.083108\n",
       "Pos_SF       -0.034578\n",
       "Pos_SG-SF    -0.026329\n",
       "Pos_PF-SF    -0.016967"
      ]
     },
     "execution_count": 9,
     "metadata": {},
     "output_type": "execute_result"
    }
   ],
   "source": [
    "corrs = pd.DataFrame(columns = ['Correlation'])\n",
    "corrs['Correlation'] = data[data.columns[1:]].corrwith(data['PER'])\n",
    "corrs.sort_values(by = 'Correlation', ascending = True).dropna().head(6)"
   ]
  },
  {
   "cell_type": "code",
   "execution_count": 10,
   "id": "oyQ7w3dlzb-B",
   "metadata": {
    "colab": {
     "base_uri": "https://localhost:8080/",
     "height": 235
    },
    "id": "oyQ7w3dlzb-B",
    "outputId": "029b92e0-dc23-49eb-a55a-e853025d38c6"
   },
   "outputs": [
    {
     "data": {
      "text/html": [
       "<div>\n",
       "<style scoped>\n",
       "    .dataframe tbody tr th:only-of-type {\n",
       "        vertical-align: middle;\n",
       "    }\n",
       "\n",
       "    .dataframe tbody tr th {\n",
       "        vertical-align: top;\n",
       "    }\n",
       "\n",
       "    .dataframe thead th {\n",
       "        text-align: right;\n",
       "    }\n",
       "</style>\n",
       "<table border=\"1\" class=\"dataframe\">\n",
       "  <thead>\n",
       "    <tr style=\"text-align: right;\">\n",
       "      <th></th>\n",
       "      <th>Correlation</th>\n",
       "    </tr>\n",
       "  </thead>\n",
       "  <tbody>\n",
       "    <tr>\n",
       "      <th>PER</th>\n",
       "      <td>1.000000</td>\n",
       "    </tr>\n",
       "    <tr>\n",
       "      <th>WS/48</th>\n",
       "      <td>0.851878</td>\n",
       "    </tr>\n",
       "    <tr>\n",
       "      <th>OBPM</th>\n",
       "      <td>0.848397</td>\n",
       "    </tr>\n",
       "    <tr>\n",
       "      <th>BPM</th>\n",
       "      <td>0.805268</td>\n",
       "    </tr>\n",
       "    <tr>\n",
       "      <th>WS</th>\n",
       "      <td>0.734911</td>\n",
       "    </tr>\n",
       "    <tr>\n",
       "      <th>OWS</th>\n",
       "      <td>0.727150</td>\n",
       "    </tr>\n",
       "  </tbody>\n",
       "</table>\n",
       "</div>"
      ],
      "text/plain": [
       "       Correlation\n",
       "PER       1.000000\n",
       "WS/48     0.851878\n",
       "OBPM      0.848397\n",
       "BPM       0.805268\n",
       "WS        0.734911\n",
       "OWS       0.727150"
      ]
     },
     "execution_count": 10,
     "metadata": {},
     "output_type": "execute_result"
    }
   ],
   "source": [
    "corrs.sort_values(by = 'Correlation', ascending = False).dropna().head(6)"
   ]
  },
  {
   "cell_type": "markdown",
   "id": "acab331a",
   "metadata": {
    "id": "acab331a"
   },
   "source": [
    "## Developing the model: Hyperparameter tuning"
   ]
  },
  {
   "attachments": {},
   "cell_type": "markdown",
   "id": "21bc9dcc",
   "metadata": {
    "id": "21bc9dcc"
   },
   "source": [
    "### Base Models\n",
    "\n",
    "#### Multivariate Adaptive Regression Splines (MARS)\n",
    "\n",
    "**Optimal MARS Model**\n",
    "\n",
    "The optimal MARS model showcases a degree of 3, achieving a test Mean Absolute Error (MAE) of 0.4209. Notably, Box Plus/Minus, Usage Percentage, Win Shares Per 48 Minutes, Defensive Box Plus/Minus, and Block Percentage emerge as the top predictors significantly influencing outcomes. The final MARS model with the optimal degree of 3 unfolds its structure, revealing basis functions and coefficients intricately linked to predictor variables."
   ]
  },
  {
   "cell_type": "code",
   "execution_count": null,
   "id": "TpGWw9MA6aUm",
   "metadata": {
    "colab": {
     "base_uri": "https://localhost:8080/"
    },
    "id": "TpGWw9MA6aUm",
    "outputId": "710f3636-6467-428f-8d78-28f8ae5f8c67"
   },
   "outputs": [
    {
     "data": {
      "text/plain": [
       "degree           3\n",
       "MAE      -0.440828\n",
       "Name: 2, dtype: object"
      ]
     },
     "execution_count": 42,
     "metadata": {},
     "output_type": "execute_result"
    }
   ],
   "source": [
    "# Tuning MARS degree\n",
    "mae_iter = pd.DataFrame(columns = ['degree' , 'MAE']) \n",
    "iter_number = 0\n",
    "for d in range (1, 5):\n",
    "    model = Earth(max_terms = 500, max_degree = d)\n",
    "    model.fit(X_train,y_train)\n",
    "    mae = cross_validate(model, X_train, y_train, cv = 5,\n",
    "                         scoring = 'neg_mean_absolute_error')['test_score'].mean()\n",
    "    mae_iter.loc[iter_number,'degree'] = d\n",
    "    mae_iter.loc[iter_number,'MAE'] = mae\n",
    "    iter_number += 1\n",
    "mae_iter.sort_values(by = 'MAE', ascending = False).iloc[0,:]"
   ]
  },
  {
   "cell_type": "code",
   "execution_count": null,
   "id": "KQ7Vq3606oSE",
   "metadata": {
    "colab": {
     "base_uri": "https://localhost:8080/"
    },
    "id": "KQ7Vq3606oSE",
    "outputId": "88edd358-6f72-4ae3-ca70-5dfaab4cf964"
   },
   "outputs": [
    {
     "name": "stdout",
     "output_type": "stream",
     "text": [
      "Earth Model\n",
      "---------------------------------------------------\n",
      "Basis Function               Pruned  Coefficient   \n",
      "---------------------------------------------------\n",
      "(Intercept)                  No      15.6303       \n",
      "h(WS/48+0.263)               No      24.3088       \n",
      "h(-0.263-WS/48)              No      -29.7018      \n",
      "h(USG%-39.9)                 No      0.905595      \n",
      "h(39.9-USG%)                 No      -0.402891     \n",
      "h(BPM-10.1)                  No      -0.548927     \n",
      "h(10.1-BPM)                  No      -0.332364     \n",
      "FG%                          No      7.70568       \n",
      "AST%*h(39.9-USG%)            No      0.00545405    \n",
      "h(TRB%-24.5)*FG%             No      0.681198      \n",
      "h(24.5-TRB%)*FG%             No      -0.469773     \n",
      "h(DBPM-5.6)*h(WS/48+0.263)   No      -1.33274      \n",
      "h(5.6-DBPM)*h(WS/48+0.263)   No      1.67235       \n",
      "BLK%*h(WS/48+0.263)          No      1.73498       \n",
      "h(STL%-6.5)*h(WS/48+0.263)   No      2.35249       \n",
      "h(6.5-STL%)*h(WS/48+0.263)   No      -2.30475      \n",
      "h(TOV%-41)*FG%               No      0.31498       \n",
      "h(41-TOV%)*FG%               No      0.369093      \n",
      "h(FT-601)*h(41-TOV%)*FG%     Yes     None          \n",
      "h(601-FT)*h(41-TOV%)*FG%     No      -0.000216804  \n",
      "PF*h(WS/48+0.263)            No      -0.0251086    \n",
      "h(TRB-971)                   Yes     None          \n",
      "h(971-TRB)                   No      -0.013484     \n",
      "h(3PAr-0.86)*h(971-TRB)      No      -0.0113422    \n",
      "h(0.86-3PAr)*h(971-TRB)      No      0.00290997    \n",
      "TS%*h(971-TRB)               No      0.0151823     \n",
      "h(WS/48-0.299)*h(39.9-USG%)  No      -2.31725      \n",
      "h(0.299-WS/48)*h(39.9-USG%)  No      0.399778      \n",
      "h(OBPM-9)*FG%                No      0.891912      \n",
      "h(9-OBPM)*FG%                No      -0.406421     \n",
      "---------------------------------------------------\n",
      "MSE: 0.3581, GCV: 0.3624, RSQ: 0.9832, GRSQ: 0.9830\n"
     ]
    }
   ],
   "source": [
    "# Final MARS model with optimal degree\n",
    "mars_model = Earth(max_terms = 500, max_degree = 3,\n",
    "                   feature_importance_type = 'rss')\n",
    "mars_model.fit(X_train, y_train)\n",
    "\n",
    "print(mars_model.summary())"
   ]
  },
  {
   "cell_type": "code",
   "execution_count": null,
   "id": "AhAio2RC7G0F",
   "metadata": {
    "colab": {
     "base_uri": "https://localhost:8080/"
    },
    "id": "AhAio2RC7G0F",
    "outputId": "4a0636a3-14e8-4f7c-9879-3ab62c7d46d0"
   },
   "outputs": [
    {
     "name": "stdout",
     "output_type": "stream",
     "text": [
      "Test MAE:  0.42089758429537827\n"
     ]
    }
   ],
   "source": [
    "# MARS test MAE\n",
    "mars_pred = mars_model.predict(X_test)\n",
    "print('Test MAE: ', mean_absolute_error(mars_pred, y_test))"
   ]
  },
  {
   "cell_type": "code",
   "execution_count": null,
   "id": "BWpq90HC8dvn",
   "metadata": {
    "colab": {
     "base_uri": "https://localhost:8080/",
     "height": 204
    },
    "id": "BWpq90HC8dvn",
    "outputId": "0b5a57c0-78ad-4979-998e-82af132b156b"
   },
   "outputs": [
    {
     "data": {
      "text/html": [
       "\n",
       "  <div id=\"df-a3ff6efd-9f18-445d-be8a-8268d373c91b\">\n",
       "    <div class=\"colab-df-container\">\n",
       "      <div>\n",
       "<style scoped>\n",
       "    .dataframe tbody tr th:only-of-type {\n",
       "        vertical-align: middle;\n",
       "    }\n",
       "\n",
       "    .dataframe tbody tr th {\n",
       "        vertical-align: top;\n",
       "    }\n",
       "\n",
       "    .dataframe thead th {\n",
       "        text-align: right;\n",
       "    }\n",
       "</style>\n",
       "<table border=\"1\" class=\"dataframe\">\n",
       "  <thead>\n",
       "    <tr style=\"text-align: right;\">\n",
       "      <th></th>\n",
       "      <th>predictor</th>\n",
       "      <th>importance</th>\n",
       "    </tr>\n",
       "  </thead>\n",
       "  <tbody>\n",
       "    <tr>\n",
       "      <th>0</th>\n",
       "      <td>BPM</td>\n",
       "      <td>0.565432</td>\n",
       "    </tr>\n",
       "    <tr>\n",
       "      <th>1</th>\n",
       "      <td>USG%</td>\n",
       "      <td>0.168296</td>\n",
       "    </tr>\n",
       "    <tr>\n",
       "      <th>2</th>\n",
       "      <td>WS/48</td>\n",
       "      <td>0.105595</td>\n",
       "    </tr>\n",
       "    <tr>\n",
       "      <th>3</th>\n",
       "      <td>DBPM</td>\n",
       "      <td>0.042832</td>\n",
       "    </tr>\n",
       "    <tr>\n",
       "      <th>4</th>\n",
       "      <td>BLK%</td>\n",
       "      <td>0.041101</td>\n",
       "    </tr>\n",
       "  </tbody>\n",
       "</table>\n",
       "</div>\n",
       "      <button class=\"colab-df-convert\" onclick=\"convertToInteractive('df-a3ff6efd-9f18-445d-be8a-8268d373c91b')\"\n",
       "              title=\"Convert this dataframe to an interactive table.\"\n",
       "              style=\"display:none;\">\n",
       "        \n",
       "  <svg xmlns=\"http://www.w3.org/2000/svg\" height=\"24px\"viewBox=\"0 0 24 24\"\n",
       "       width=\"24px\">\n",
       "    <path d=\"M0 0h24v24H0V0z\" fill=\"none\"/>\n",
       "    <path d=\"M18.56 5.44l.94 2.06.94-2.06 2.06-.94-2.06-.94-.94-2.06-.94 2.06-2.06.94zm-11 1L8.5 8.5l.94-2.06 2.06-.94-2.06-.94L8.5 2.5l-.94 2.06-2.06.94zm10 10l.94 2.06.94-2.06 2.06-.94-2.06-.94-.94-2.06-.94 2.06-2.06.94z\"/><path d=\"M17.41 7.96l-1.37-1.37c-.4-.4-.92-.59-1.43-.59-.52 0-1.04.2-1.43.59L10.3 9.45l-7.72 7.72c-.78.78-.78 2.05 0 2.83L4 21.41c.39.39.9.59 1.41.59.51 0 1.02-.2 1.41-.59l7.78-7.78 2.81-2.81c.8-.78.8-2.07 0-2.86zM5.41 20L4 18.59l7.72-7.72 1.47 1.35L5.41 20z\"/>\n",
       "  </svg>\n",
       "      </button>\n",
       "      \n",
       "  <style>\n",
       "    .colab-df-container {\n",
       "      display:flex;\n",
       "      flex-wrap:wrap;\n",
       "      gap: 12px;\n",
       "    }\n",
       "\n",
       "    .colab-df-convert {\n",
       "      background-color: #E8F0FE;\n",
       "      border: none;\n",
       "      border-radius: 50%;\n",
       "      cursor: pointer;\n",
       "      display: none;\n",
       "      fill: #1967D2;\n",
       "      height: 32px;\n",
       "      padding: 0 0 0 0;\n",
       "      width: 32px;\n",
       "    }\n",
       "\n",
       "    .colab-df-convert:hover {\n",
       "      background-color: #E2EBFA;\n",
       "      box-shadow: 0px 1px 2px rgba(60, 64, 67, 0.3), 0px 1px 3px 1px rgba(60, 64, 67, 0.15);\n",
       "      fill: #174EA6;\n",
       "    }\n",
       "\n",
       "    [theme=dark] .colab-df-convert {\n",
       "      background-color: #3B4455;\n",
       "      fill: #D2E3FC;\n",
       "    }\n",
       "\n",
       "    [theme=dark] .colab-df-convert:hover {\n",
       "      background-color: #434B5C;\n",
       "      box-shadow: 0px 1px 3px 1px rgba(0, 0, 0, 0.15);\n",
       "      filter: drop-shadow(0px 1px 2px rgba(0, 0, 0, 0.3));\n",
       "      fill: #FFFFFF;\n",
       "    }\n",
       "  </style>\n",
       "\n",
       "      <script>\n",
       "        const buttonEl =\n",
       "          document.querySelector('#df-a3ff6efd-9f18-445d-be8a-8268d373c91b button.colab-df-convert');\n",
       "        buttonEl.style.display =\n",
       "          google.colab.kernel.accessAllowed ? 'block' : 'none';\n",
       "\n",
       "        async function convertToInteractive(key) {\n",
       "          const element = document.querySelector('#df-a3ff6efd-9f18-445d-be8a-8268d373c91b');\n",
       "          const dataTable =\n",
       "            await google.colab.kernel.invokeFunction('convertToInteractive',\n",
       "                                                     [key], {});\n",
       "          if (!dataTable) return;\n",
       "\n",
       "          const docLinkHtml = 'Like what you see? Visit the ' +\n",
       "            '<a target=\"_blank\" href=https://colab.research.google.com/notebooks/data_table.ipynb>data table notebook</a>'\n",
       "            + ' to learn more about interactive tables.';\n",
       "          element.innerHTML = '';\n",
       "          dataTable['output_type'] = 'display_data';\n",
       "          await google.colab.output.renderOutput(dataTable, element);\n",
       "          const docLink = document.createElement('div');\n",
       "          docLink.innerHTML = docLinkHtml;\n",
       "          element.appendChild(docLink);\n",
       "        }\n",
       "      </script>\n",
       "    </div>\n",
       "  </div>\n",
       "  "
      ],
      "text/plain": [
       "  predictor  importance\n",
       "0       BPM    0.565432\n",
       "1      USG%    0.168296\n",
       "2     WS/48    0.105595\n",
       "3      DBPM    0.042832\n",
       "4      BLK%    0.041101"
      ]
     },
     "execution_count": 46,
     "metadata": {},
     "output_type": "execute_result"
    }
   ],
   "source": [
    "# MARS feature importances\n",
    "feat_imp = pd.DataFrame(columns = ['predictor', 'importance'])\n",
    "imps = mars_model.feature_importances_\n",
    "\n",
    "feat_imp.loc[:,'predictor'] = X.columns\n",
    "feat_imp.loc[:,'importance'] = imps\n",
    "\n",
    "feat_imp.sort_values(by = 'importance', ascending = False).reset_index(drop = True).head()"
   ]
  },
  {
   "attachments": {},
   "cell_type": "markdown",
   "id": "b29b37de",
   "metadata": {},
   "source": [
    "#### Decision Tree\n",
    "\n",
    "**Optimal Decision Tree Model**\n",
    "\n",
    "The optimal decision tree model, with a max_depth of 13 and max_leaf_nodes of 620, attains a test MAE of 1.1376. Influential predictors include Offensive Box Plus/Minus, Win Shares Per 48 Minutes, Usage Percentage, 3-Point Attempt Rate, and True Shooting Percentage."
   ]
  },
  {
   "cell_type": "code",
   "execution_count": null,
   "id": "PcAYpHq48-k5",
   "metadata": {
    "colab": {
     "base_uri": "https://localhost:8080/"
    },
    "id": "PcAYpHq48-k5",
    "outputId": "ad4f5049-b210-4eb4-e02c-61e950b84dd1"
   },
   "outputs": [
    {
     "name": "stdout",
     "output_type": "stream",
     "text": [
      "Fitting 5 folds for each of 720 candidates, totalling 3600 fits\n",
      "-1.12918877133901 {'max_depth': 13, 'max_leaf_nodes': 620}\n"
     ]
    }
   ],
   "source": [
    "# Decision tree coarse grid search\n",
    "dt = DecisionTreeRegressor(random_state = 1)\n",
    "\n",
    "parameters = {'max_depth': range(9, 15),\n",
    "              'max_leaf_nodes': range(200, 800, 5)}\n",
    "\n",
    "cv = KFold(n_splits = 5, shuffle = True, random_state = 1)\n",
    "\n",
    "model = GridSearchCV(dt, parameters, n_jobs = -1, verbose = 1, cv = cv,\n",
    "                     scoring = ['neg_mean_absolute_error', 'r2'],\n",
    "                     refit = 'neg_mean_absolute_error')\n",
    "model.fit(X_train, y_train)\n",
    "\n",
    "print(model.best_score_, model.best_params_) "
   ]
  },
  {
   "cell_type": "code",
   "execution_count": null,
   "id": "AAU-K3Nk9noN",
   "metadata": {
    "colab": {
     "base_uri": "https://localhost:8080/",
     "height": 267
    },
    "id": "AAU-K3Nk9noN",
    "outputId": "4edd549d-c139-48a4-eb60-cc14ad2900ce"
   },
   "outputs": [
    {
     "data": {
      "image/png": "[encoded data removed]",
      "text/plain": [
       "<Figure size 1400x500 with 2 Axes>"
      ]
     },
     "metadata": {},
     "output_type": "display_data"
    }
   ],
   "source": [
    "# Visualizing decision tree coarse grid serch\n",
    "cv_results = pd.DataFrame(model.cv_results_)\n",
    "\n",
    "fig, axes = plt.subplots(1, 2, figsize = (14, 5))\n",
    "plt.subplots_adjust(wspace = 0.2)\n",
    "\n",
    "axes[0].plot(cv_results.param_max_depth, np.sqrt(-cv_results.mean_test_neg_mean_absolute_error), 'o')\n",
    "axes[0].set_xlabel('Depth')\n",
    "axes[0].set_ylabel('K-fold MAE')\n",
    "\n",
    "axes[1].plot(cv_results.param_max_leaf_nodes, np.sqrt(-cv_results.mean_test_neg_mean_absolute_error), 'o')\n",
    "axes[1].set_xlabel('Leaves');"
   ]
  },
  {
   "cell_type": "code",
   "execution_count": null,
   "id": "WxnZm3cg9_65",
   "metadata": {
    "colab": {
     "base_uri": "https://localhost:8080/"
    },
    "id": "WxnZm3cg9_65",
    "outputId": "c1b3b0b3-b5ff-4d94-b6db-b8ef917eb774"
   },
   "outputs": [
    {
     "name": "stdout",
     "output_type": "stream",
     "text": [
      "Fitting 5 folds for each of 70 candidates, totalling 350 fits\n",
      "-1.12918877133901 {'max_depth': 13, 'max_leaf_nodes': 620}\n"
     ]
    }
   ],
   "source": [
    "# Decision tree fine grid search\n",
    "dt = DecisionTreeRegressor(random_state = 1)\n",
    "\n",
    "parameters = {'max_depth': range(11, 18),\n",
    "              'max_leaf_nodes': range(600, 650, 5)}\n",
    "\n",
    "cv = KFold(n_splits = 5, shuffle = True, random_state = 1)\n",
    "\n",
    "model = GridSearchCV(dt, parameters, n_jobs = -1, verbose = 1, cv = cv,\n",
    "                     scoring = ['neg_mean_absolute_error', 'r2'],\n",
    "                     refit = 'neg_mean_absolute_error')\n",
    "model.fit(X_train, y_train)\n",
    "\n",
    "print(model.best_score_, model.best_params_) "
   ]
  },
  {
   "cell_type": "code",
   "execution_count": null,
   "id": "Wn4exefO-hQh",
   "metadata": {
    "colab": {
     "base_uri": "https://localhost:8080/",
     "height": 74
    },
    "id": "Wn4exefO-hQh",
    "outputId": "963c1cd3-c25a-46bd-bfa5-0ae01ebfe1d3"
   },
   "outputs": [
    {
     "data": {
      "text/html": [
       "<style>#sk-container-id-3 {color: black;background-color: white;}#sk-container-id-3 pre{padding: 0;}#sk-container-id-3 div.sk-toggleable {background-color: white;}#sk-container-id-3 label.sk-toggleable__label {cursor: pointer;display: block;width: 100%;margin-bottom: 0;padding: 0.3em;box-sizing: border-box;text-align: center;}#sk-container-id-3 label.sk-toggleable__label-arrow:before {content: \"▸\";float: left;margin-right: 0.25em;color: #696969;}#sk-container-id-3 label.sk-toggleable__label-arrow:hover:before {color: black;}#sk-container-id-3 div.sk-estimator:hover label.sk-toggleable__label-arrow:before {color: black;}#sk-container-id-3 div.sk-toggleable__content {max-height: 0;max-width: 0;overflow: hidden;text-align: left;background-color: #f0f8ff;}#sk-container-id-3 div.sk-toggleable__content pre {margin: 0.2em;color: black;border-radius: 0.25em;background-color: #f0f8ff;}#sk-container-id-3 input.sk-toggleable__control:checked~div.sk-toggleable__content {max-height: 200px;max-width: 100%;overflow: auto;}#sk-container-id-3 input.sk-toggleable__control:checked~label.sk-toggleable__label-arrow:before {content: \"▾\";}#sk-container-id-3 div.sk-estimator input.sk-toggleable__control:checked~label.sk-toggleable__label {background-color: #d4ebff;}#sk-container-id-3 div.sk-label input.sk-toggleable__control:checked~label.sk-toggleable__label {background-color: #d4ebff;}#sk-container-id-3 input.sk-hidden--visually {border: 0;clip: rect(1px 1px 1px 1px);clip: rect(1px, 1px, 1px, 1px);height: 1px;margin: -1px;overflow: hidden;padding: 0;position: absolute;width: 1px;}#sk-container-id-3 div.sk-estimator {font-family: monospace;background-color: #f0f8ff;border: 1px dotted black;border-radius: 0.25em;box-sizing: border-box;margin-bottom: 0.5em;}#sk-container-id-3 div.sk-estimator:hover {background-color: #d4ebff;}#sk-container-id-3 div.sk-parallel-item::after {content: \"\";width: 100%;border-bottom: 1px solid gray;flex-grow: 1;}#sk-container-id-3 div.sk-label:hover label.sk-toggleable__label {background-color: #d4ebff;}#sk-container-id-3 div.sk-serial::before {content: \"\";position: absolute;border-left: 1px solid gray;box-sizing: border-box;top: 0;bottom: 0;left: 50%;z-index: 0;}#sk-container-id-3 div.sk-serial {display: flex;flex-direction: column;align-items: center;background-color: white;padding-right: 0.2em;padding-left: 0.2em;position: relative;}#sk-container-id-3 div.sk-item {position: relative;z-index: 1;}#sk-container-id-3 div.sk-parallel {display: flex;align-items: stretch;justify-content: center;background-color: white;position: relative;}#sk-container-id-3 div.sk-item::before, #sk-container-id-3 div.sk-parallel-item::before {content: \"\";position: absolute;border-left: 1px solid gray;box-sizing: border-box;top: 0;bottom: 0;left: 50%;z-index: -1;}#sk-container-id-3 div.sk-parallel-item {display: flex;flex-direction: column;z-index: 1;position: relative;background-color: white;}#sk-container-id-3 div.sk-parallel-item:first-child::after {align-self: flex-end;width: 50%;}#sk-container-id-3 div.sk-parallel-item:last-child::after {align-self: flex-start;width: 50%;}#sk-container-id-3 div.sk-parallel-item:only-child::after {width: 0;}#sk-container-id-3 div.sk-dashed-wrapped {border: 1px dashed gray;margin: 0 0.4em 0.5em 0.4em;box-sizing: border-box;padding-bottom: 0.4em;background-color: white;}#sk-container-id-3 div.sk-label label {font-family: monospace;font-weight: bold;display: inline-block;line-height: 1.2em;}#sk-container-id-3 div.sk-label-container {text-align: center;}#sk-container-id-3 div.sk-container {/* jupyter's `normalize.less` sets `[hidden] { display: none; }` but bootstrap.min.css set `[hidden] { display: none !important; }` so we also need the `!important` here to be able to override the default hidden behavior on the sphinx rendered scikit-learn.org. See: https://github.com/scikit-learn/scikit-learn/issues/21755 */display: inline-block !important;position: relative;}#sk-container-id-3 div.sk-text-repr-fallback {display: none;}</style><div id=\"sk-container-id-3\" class=\"sk-top-container\"><div class=\"sk-text-repr-fallback\"><pre>DecisionTreeRegressor(max_depth=13, max_leaf_nodes=620, random_state=1)</pre><b>In a Jupyter environment, please rerun this cell to show the HTML representation or trust the notebook. <br />On GitHub, the HTML representation is unable to render, please try loading this page with nbviewer.org.</b></div><div class=\"sk-container\" hidden><div class=\"sk-item\"><div class=\"sk-estimator sk-toggleable\"><input class=\"sk-toggleable__control sk-hidden--visually\" id=\"sk-estimator-id-3\" type=\"checkbox\" checked><label for=\"sk-estimator-id-3\" class=\"sk-toggleable__label sk-toggleable__label-arrow\">DecisionTreeRegressor</label><div class=\"sk-toggleable__content\"><pre>DecisionTreeRegressor(max_depth=13, max_leaf_nodes=620, random_state=1)</pre></div></div></div></div></div>"
      ],
      "text/plain": [
       "DecisionTreeRegressor(max_depth=13, max_leaf_nodes=620, random_state=1)"
      ]
     },
     "execution_count": 71,
     "metadata": {},
     "output_type": "execute_result"
    }
   ],
   "source": [
    "# Final decision tree model with optimal parameters\n",
    "dt_model = DecisionTreeRegressor(random_state = 1, max_depth = 13,\n",
    "                                 max_leaf_nodes = 620) \n",
    "dt_model.fit(X_train, y_train)"
   ]
  },
  {
   "cell_type": "code",
   "execution_count": null,
   "id": "2fJ1dJh5_RD2",
   "metadata": {
    "colab": {
     "base_uri": "https://localhost:8080/"
    },
    "id": "2fJ1dJh5_RD2",
    "outputId": "cfb57086-8566-442f-91cb-48460cca4eb7"
   },
   "outputs": [
    {
     "name": "stdout",
     "output_type": "stream",
     "text": [
      "Test MAE:  1.1375654328460785\n"
     ]
    }
   ],
   "source": [
    "# Decision tree test MAE\n",
    "dt_pred = dt_model.predict(X_test)\n",
    "print('Test MAE: ', mean_absolute_error(dt_pred, y_test))"
   ]
  },
  {
   "cell_type": "code",
   "execution_count": null,
   "id": "NAbxjxDWYkYs",
   "metadata": {
    "colab": {
     "base_uri": "https://localhost:8080/",
     "height": 204
    },
    "id": "NAbxjxDWYkYs",
    "outputId": "4634e22e-ec4f-4c31-ef45-998d6364892a"
   },
   "outputs": [
    {
     "data": {
      "text/html": [
       "\n",
       "  <div id=\"df-ddd2297c-5d0c-403f-a2b3-587045988c37\">\n",
       "    <div class=\"colab-df-container\">\n",
       "      <div>\n",
       "<style scoped>\n",
       "    .dataframe tbody tr th:only-of-type {\n",
       "        vertical-align: middle;\n",
       "    }\n",
       "\n",
       "    .dataframe tbody tr th {\n",
       "        vertical-align: top;\n",
       "    }\n",
       "\n",
       "    .dataframe thead th {\n",
       "        text-align: right;\n",
       "    }\n",
       "</style>\n",
       "<table border=\"1\" class=\"dataframe\">\n",
       "  <thead>\n",
       "    <tr style=\"text-align: right;\">\n",
       "      <th></th>\n",
       "      <th>predictor</th>\n",
       "      <th>importance</th>\n",
       "    </tr>\n",
       "  </thead>\n",
       "  <tbody>\n",
       "    <tr>\n",
       "      <th>0</th>\n",
       "      <td>OBPM</td>\n",
       "      <td>0.535942</td>\n",
       "    </tr>\n",
       "    <tr>\n",
       "      <th>1</th>\n",
       "      <td>WS/48</td>\n",
       "      <td>0.254529</td>\n",
       "    </tr>\n",
       "    <tr>\n",
       "      <th>2</th>\n",
       "      <td>USG%</td>\n",
       "      <td>0.125603</td>\n",
       "    </tr>\n",
       "    <tr>\n",
       "      <th>3</th>\n",
       "      <td>3PAr</td>\n",
       "      <td>0.009948</td>\n",
       "    </tr>\n",
       "    <tr>\n",
       "      <th>4</th>\n",
       "      <td>TS%</td>\n",
       "      <td>0.009651</td>\n",
       "    </tr>\n",
       "  </tbody>\n",
       "</table>\n",
       "</div>\n",
       "      <button class=\"colab-df-convert\" onclick=\"convertToInteractive('df-ddd2297c-5d0c-403f-a2b3-587045988c37')\"\n",
       "              title=\"Convert this dataframe to an interactive table.\"\n",
       "              style=\"display:none;\">\n",
       "        \n",
       "  <svg xmlns=\"http://www.w3.org/2000/svg\" height=\"24px\"viewBox=\"0 0 24 24\"\n",
       "       width=\"24px\">\n",
       "    <path d=\"M0 0h24v24H0V0z\" fill=\"none\"/>\n",
       "    <path d=\"M18.56 5.44l.94 2.06.94-2.06 2.06-.94-2.06-.94-.94-2.06-.94 2.06-2.06.94zm-11 1L8.5 8.5l.94-2.06 2.06-.94-2.06-.94L8.5 2.5l-.94 2.06-2.06.94zm10 10l.94 2.06.94-2.06 2.06-.94-2.06-.94-.94-2.06-.94 2.06-2.06.94z\"/><path d=\"M17.41 7.96l-1.37-1.37c-.4-.4-.92-.59-1.43-.59-.52 0-1.04.2-1.43.59L10.3 9.45l-7.72 7.72c-.78.78-.78 2.05 0 2.83L4 21.41c.39.39.9.59 1.41.59.51 0 1.02-.2 1.41-.59l7.78-7.78 2.81-2.81c.8-.78.8-2.07 0-2.86zM5.41 20L4 18.59l7.72-7.72 1.47 1.35L5.41 20z\"/>\n",
       "  </svg>\n",
       "      </button>\n",
       "      \n",
       "  <style>\n",
       "    .colab-df-container {\n",
       "      display:flex;\n",
       "      flex-wrap:wrap;\n",
       "      gap: 12px;\n",
       "    }\n",
       "\n",
       "    .colab-df-convert {\n",
       "      background-color: #E8F0FE;\n",
       "      border: none;\n",
       "      border-radius: 50%;\n",
       "      cursor: pointer;\n",
       "      display: none;\n",
       "      fill: #1967D2;\n",
       "      height: 32px;\n",
       "      padding: 0 0 0 0;\n",
       "      width: 32px;\n",
       "    }\n",
       "\n",
       "    .colab-df-convert:hover {\n",
       "      background-color: #E2EBFA;\n",
       "      box-shadow: 0px 1px 2px rgba(60, 64, 67, 0.3), 0px 1px 3px 1px rgba(60, 64, 67, 0.15);\n",
       "      fill: #174EA6;\n",
       "    }\n",
       "\n",
       "    [theme=dark] .colab-df-convert {\n",
       "      background-color: #3B4455;\n",
       "      fill: #D2E3FC;\n",
       "    }\n",
       "\n",
       "    [theme=dark] .colab-df-convert:hover {\n",
       "      background-color: #434B5C;\n",
       "      box-shadow: 0px 1px 3px 1px rgba(0, 0, 0, 0.15);\n",
       "      filter: drop-shadow(0px 1px 2px rgba(0, 0, 0, 0.3));\n",
       "      fill: #FFFFFF;\n",
       "    }\n",
       "  </style>\n",
       "\n",
       "      <script>\n",
       "        const buttonEl =\n",
       "          document.querySelector('#df-ddd2297c-5d0c-403f-a2b3-587045988c37 button.colab-df-convert');\n",
       "        buttonEl.style.display =\n",
       "          google.colab.kernel.accessAllowed ? 'block' : 'none';\n",
       "\n",
       "        async function convertToInteractive(key) {\n",
       "          const element = document.querySelector('#df-ddd2297c-5d0c-403f-a2b3-587045988c37');\n",
       "          const dataTable =\n",
       "            await google.colab.kernel.invokeFunction('convertToInteractive',\n",
       "                                                     [key], {});\n",
       "          if (!dataTable) return;\n",
       "\n",
       "          const docLinkHtml = 'Like what you see? Visit the ' +\n",
       "            '<a target=\"_blank\" href=https://colab.research.google.com/notebooks/data_table.ipynb>data table notebook</a>'\n",
       "            + ' to learn more about interactive tables.';\n",
       "          element.innerHTML = '';\n",
       "          dataTable['output_type'] = 'display_data';\n",
       "          await google.colab.output.renderOutput(dataTable, element);\n",
       "          const docLink = document.createElement('div');\n",
       "          docLink.innerHTML = docLinkHtml;\n",
       "          element.appendChild(docLink);\n",
       "        }\n",
       "      </script>\n",
       "    </div>\n",
       "  </div>\n",
       "  "
      ],
      "text/plain": [
       "  predictor  importance\n",
       "0      OBPM    0.535942\n",
       "1     WS/48    0.254529\n",
       "2      USG%    0.125603\n",
       "3      3PAr    0.009948\n",
       "4       TS%    0.009651"
      ]
     },
     "execution_count": 73,
     "metadata": {},
     "output_type": "execute_result"
    }
   ],
   "source": [
    "# Decision tree feature importances\n",
    "feat_imp = pd.DataFrame(columns = ['predictor', 'importance'])\n",
    "imps = dt_model.feature_importances_\n",
    "\n",
    "feat_imp.loc[:,'predictor'] = X.columns\n",
    "feat_imp.loc[:,'importance'] = imps\n",
    "\n",
    "feat_imp.sort_values(by = 'importance', ascending = False).reset_index(drop = True).head()"
   ]
  },
  {
   "attachments": {},
   "cell_type": "markdown",
   "id": "a67c9ff7",
   "metadata": {
    "id": "a67c9ff7"
   },
   "source": [
    "### Random Forest\n",
    "\n",
    "**Optimal Random Forest Model**\n",
    "\n",
    "The optimal random forest model, characterized by n_estimators of 199, max_depth of 40, max_leaf_nodes of 2000, and max_features of 40, exhibits a test MAE of 0.7263. Key predictors include Win Shares Per 48 Minutes, Offensive Box Plus/Minus, Usage Percentage, Offensive Win Shares, and Box Plus/Minus."
   ]
  },
  {
   "cell_type": "code",
   "execution_count": 12,
   "id": "5-koCdPE_4lt",
   "metadata": {
    "colab": {
     "base_uri": "https://localhost:8080/",
     "height": 467
    },
    "id": "5-koCdPE_4lt",
    "outputId": "55a7af3b-3acb-43b8-d517-852269b7606a"
   },
   "outputs": [],
   "source": [
    "# Visualizing OOB MAE\n",
    "oob_mae = {}\n",
    "test_mae = {}\n",
    "\n",
    "for i in np.linspace(10, 500, 30, dtype = int):\n",
    "    model = RandomForestRegressor(n_estimators = i, random_state = 1,\n",
    "                                  max_features = \"sqrt\", n_jobs = -1,\n",
    "                                  oob_score = True).fit(X_train, y_train)\n",
    "    oob_mae[i] = mean_absolute_error(model.oob_prediction_, y_train)\n",
    "    test_mae[i] = mean_absolute_error(model.predict(X_test), y_test)\n",
    "\n",
    "plt.rcParams.update({'font.size': 15})\n",
    "plt.figure(figsize = (8, 6), dpi=80)\n",
    "plt.plot(oob_mae.keys(), oob_mae.values(), label = 'Out of bag MAE')\n",
    "plt.plot(oob_mae.keys(), oob_mae.values(), 'o', color = 'blue')\n",
    "plt.plot(test_mae.keys(), test_mae.values(), label = 'Test data MAE')\n",
    "plt.xlabel('Number of trees')\n",
    "plt.ylabel('MAE')\n",
    "plt.legend()"
   ]
  },
  {
   "cell_type": "code",
   "execution_count": null,
   "id": "wayeZyrOBECp",
   "metadata": {
    "colab": {
     "base_uri": "https://localhost:8080/"
    },
    "id": "wayeZyrOBECp",
    "outputId": "3a4977d6-4f97-41f0-980b-ea70b1c9e938"
   },
   "outputs": [
    {
     "name": "stdout",
     "output_type": "stream",
     "text": [
      "Best params =  (199, 40, 2000, 40)\n",
      "Best score =  0.9547584612812612\n"
     ]
    }
   ],
   "source": [
    "# Random forest hyperparameter tuning\n",
    "params = {'n_estimators': np.linspace(95, 205, 20, dtype = 'int'),\n",
    "          'max_depth': [40, 50, 60],\n",
    "          'max_leaf_nodes': [1000, 1500, 2000],\n",
    "          'max_features': [40, 60, 80]}\n",
    "\n",
    "param_list = list(it.product(*(params[Name] for Name in params)))\n",
    "\n",
    "oob_score = [0] * len(param_list)\n",
    "i = 0\n",
    "for pr in param_list:\n",
    "    model = RandomForestRegressor(random_state = 1, oob_score = True,\n",
    "                                  verbose = False, n_estimators = pr[0],\n",
    "                                  max_depth = pr[1], max_leaf_nodes = pr[2],\n",
    "                                  max_features = pr[3],\n",
    "                                  n_jobs = -1).fit(X_train, y_train)\n",
    "    oob_score[i] = model.oob_score_\n",
    "    i = i + 1\n",
    "    \n",
    "\n",
    "print(\"Best params = \", param_list[np.argmax(oob_score)])\n",
    "print(\"Best score = \", np.max(oob_score))"
   ]
  },
  {
   "cell_type": "code",
   "execution_count": null,
   "id": "f9oqFX9dChLG",
   "metadata": {
    "colab": {
     "base_uri": "https://localhost:8080/",
     "height": 108
    },
    "id": "f9oqFX9dChLG",
    "outputId": "005e6b07-bc8e-452a-b5c3-13fddb62d232"
   },
   "outputs": [
    {
     "data": {
      "text/html": [
       "<style>#sk-container-id-2 {color: black;background-color: white;}#sk-container-id-2 pre{padding: 0;}#sk-container-id-2 div.sk-toggleable {background-color: white;}#sk-container-id-2 label.sk-toggleable__label {cursor: pointer;display: block;width: 100%;margin-bottom: 0;padding: 0.3em;box-sizing: border-box;text-align: center;}#sk-container-id-2 label.sk-toggleable__label-arrow:before {content: \"▸\";float: left;margin-right: 0.25em;color: #696969;}#sk-container-id-2 label.sk-toggleable__label-arrow:hover:before {color: black;}#sk-container-id-2 div.sk-estimator:hover label.sk-toggleable__label-arrow:before {color: black;}#sk-container-id-2 div.sk-toggleable__content {max-height: 0;max-width: 0;overflow: hidden;text-align: left;background-color: #f0f8ff;}#sk-container-id-2 div.sk-toggleable__content pre {margin: 0.2em;color: black;border-radius: 0.25em;background-color: #f0f8ff;}#sk-container-id-2 input.sk-toggleable__control:checked~div.sk-toggleable__content {max-height: 200px;max-width: 100%;overflow: auto;}#sk-container-id-2 input.sk-toggleable__control:checked~label.sk-toggleable__label-arrow:before {content: \"▾\";}#sk-container-id-2 div.sk-estimator input.sk-toggleable__control:checked~label.sk-toggleable__label {background-color: #d4ebff;}#sk-container-id-2 div.sk-label input.sk-toggleable__control:checked~label.sk-toggleable__label {background-color: #d4ebff;}#sk-container-id-2 input.sk-hidden--visually {border: 0;clip: rect(1px 1px 1px 1px);clip: rect(1px, 1px, 1px, 1px);height: 1px;margin: -1px;overflow: hidden;padding: 0;position: absolute;width: 1px;}#sk-container-id-2 div.sk-estimator {font-family: monospace;background-color: #f0f8ff;border: 1px dotted black;border-radius: 0.25em;box-sizing: border-box;margin-bottom: 0.5em;}#sk-container-id-2 div.sk-estimator:hover {background-color: #d4ebff;}#sk-container-id-2 div.sk-parallel-item::after {content: \"\";width: 100%;border-bottom: 1px solid gray;flex-grow: 1;}#sk-container-id-2 div.sk-label:hover label.sk-toggleable__label {background-color: #d4ebff;}#sk-container-id-2 div.sk-serial::before {content: \"\";position: absolute;border-left: 1px solid gray;box-sizing: border-box;top: 0;bottom: 0;left: 50%;z-index: 0;}#sk-container-id-2 div.sk-serial {display: flex;flex-direction: column;align-items: center;background-color: white;padding-right: 0.2em;padding-left: 0.2em;position: relative;}#sk-container-id-2 div.sk-item {position: relative;z-index: 1;}#sk-container-id-2 div.sk-parallel {display: flex;align-items: stretch;justify-content: center;background-color: white;position: relative;}#sk-container-id-2 div.sk-item::before, #sk-container-id-2 div.sk-parallel-item::before {content: \"\";position: absolute;border-left: 1px solid gray;box-sizing: border-box;top: 0;bottom: 0;left: 50%;z-index: -1;}#sk-container-id-2 div.sk-parallel-item {display: flex;flex-direction: column;z-index: 1;position: relative;background-color: white;}#sk-container-id-2 div.sk-parallel-item:first-child::after {align-self: flex-end;width: 50%;}#sk-container-id-2 div.sk-parallel-item:last-child::after {align-self: flex-start;width: 50%;}#sk-container-id-2 div.sk-parallel-item:only-child::after {width: 0;}#sk-container-id-2 div.sk-dashed-wrapped {border: 1px dashed gray;margin: 0 0.4em 0.5em 0.4em;box-sizing: border-box;padding-bottom: 0.4em;background-color: white;}#sk-container-id-2 div.sk-label label {font-family: monospace;font-weight: bold;display: inline-block;line-height: 1.2em;}#sk-container-id-2 div.sk-label-container {text-align: center;}#sk-container-id-2 div.sk-container {/* jupyter's `normalize.less` sets `[hidden] { display: none; }` but bootstrap.min.css set `[hidden] { display: none !important; }` so we also need the `!important` here to be able to override the default hidden behavior on the sphinx rendered scikit-learn.org. See: https://github.com/scikit-learn/scikit-learn/issues/21755 */display: inline-block !important;position: relative;}#sk-container-id-2 div.sk-text-repr-fallback {display: none;}</style><div id=\"sk-container-id-2\" class=\"sk-top-container\"><div class=\"sk-text-repr-fallback\"><pre>RandomForestRegressor(max_depth=40, max_features=40, max_leaf_nodes=2000,\n",
       "                      n_estimators=199, n_jobs=-1, oob_score=True,\n",
       "                      random_state=1)</pre><b>In a Jupyter environment, please rerun this cell to show the HTML representation or trust the notebook. <br />On GitHub, the HTML representation is unable to render, please try loading this page with nbviewer.org.</b></div><div class=\"sk-container\" hidden><div class=\"sk-item\"><div class=\"sk-estimator sk-toggleable\"><input class=\"sk-toggleable__control sk-hidden--visually\" id=\"sk-estimator-id-2\" type=\"checkbox\" checked><label for=\"sk-estimator-id-2\" class=\"sk-toggleable__label sk-toggleable__label-arrow\">RandomForestRegressor</label><div class=\"sk-toggleable__content\"><pre>RandomForestRegressor(max_depth=40, max_features=40, max_leaf_nodes=2000,\n",
       "                      n_estimators=199, n_jobs=-1, oob_score=True,\n",
       "                      random_state=1)</pre></div></div></div></div></div>"
      ],
      "text/plain": [
       "RandomForestRegressor(max_depth=40, max_features=40, max_leaf_nodes=2000,\n",
       "                      n_estimators=199, n_jobs=-1, oob_score=True,\n",
       "                      random_state=1)"
      ]
     },
     "execution_count": 58,
     "metadata": {},
     "output_type": "execute_result"
    }
   ],
   "source": [
    "# Final random forest model with optimal parameters\n",
    "rf_model = RandomForestRegressor(n_estimators = 199, random_state = 1,\n",
    "                                 max_leaf_nodes = 2000, max_depth = 40,\n",
    "                                 oob_score = True, n_jobs=-1,\n",
    "                                 max_features = 40)\n",
    "rf_model.fit(X_train, y_train)"
   ]
  },
  {
   "cell_type": "code",
   "execution_count": null,
   "id": "M5RiU8xfDR6u",
   "metadata": {
    "colab": {
     "base_uri": "https://localhost:8080/"
    },
    "id": "M5RiU8xfDR6u",
    "outputId": "3188d9a3-ff61-4a8e-daa7-3f32eecc0021"
   },
   "outputs": [
    {
     "name": "stdout",
     "output_type": "stream",
     "text": [
      "MAE:  0.7262912174920435\n"
     ]
    }
   ],
   "source": [
    "# Random forest test MAE\n",
    "rf_pred = rf_model.predict(X_test)\n",
    "print('MAE: ', mean_absolute_error(rf_pred, y_test))"
   ]
  },
  {
   "cell_type": "code",
   "execution_count": null,
   "id": "MXur6O1hgrwx",
   "metadata": {
    "colab": {
     "base_uri": "https://localhost:8080/",
     "height": 204
    },
    "id": "MXur6O1hgrwx",
    "outputId": "624f83e4-6b85-40a8-e656-022276cfbfb2"
   },
   "outputs": [
    {
     "data": {
      "text/html": [
       "\n",
       "  <div id=\"df-56ac243b-8cfa-42f2-9ede-192079c26264\">\n",
       "    <div class=\"colab-df-container\">\n",
       "      <div>\n",
       "<style scoped>\n",
       "    .dataframe tbody tr th:only-of-type {\n",
       "        vertical-align: middle;\n",
       "    }\n",
       "\n",
       "    .dataframe tbody tr th {\n",
       "        vertical-align: top;\n",
       "    }\n",
       "\n",
       "    .dataframe thead th {\n",
       "        text-align: right;\n",
       "    }\n",
       "</style>\n",
       "<table border=\"1\" class=\"dataframe\">\n",
       "  <thead>\n",
       "    <tr style=\"text-align: right;\">\n",
       "      <th></th>\n",
       "      <th>predictor</th>\n",
       "      <th>importance</th>\n",
       "    </tr>\n",
       "  </thead>\n",
       "  <tbody>\n",
       "    <tr>\n",
       "      <th>0</th>\n",
       "      <td>WS/48</td>\n",
       "      <td>0.330777</td>\n",
       "    </tr>\n",
       "    <tr>\n",
       "      <th>1</th>\n",
       "      <td>OBPM</td>\n",
       "      <td>0.295105</td>\n",
       "    </tr>\n",
       "    <tr>\n",
       "      <th>2</th>\n",
       "      <td>USG%</td>\n",
       "      <td>0.118119</td>\n",
       "    </tr>\n",
       "    <tr>\n",
       "      <th>3</th>\n",
       "      <td>OWS</td>\n",
       "      <td>0.048091</td>\n",
       "    </tr>\n",
       "    <tr>\n",
       "      <th>4</th>\n",
       "      <td>BPM</td>\n",
       "      <td>0.044103</td>\n",
       "    </tr>\n",
       "  </tbody>\n",
       "</table>\n",
       "</div>\n",
       "      <button class=\"colab-df-convert\" onclick=\"convertToInteractive('df-56ac243b-8cfa-42f2-9ede-192079c26264')\"\n",
       "              title=\"Convert this dataframe to an interactive table.\"\n",
       "              style=\"display:none;\">\n",
       "        \n",
       "  <svg xmlns=\"http://www.w3.org/2000/svg\" height=\"24px\"viewBox=\"0 0 24 24\"\n",
       "       width=\"24px\">\n",
       "    <path d=\"M0 0h24v24H0V0z\" fill=\"none\"/>\n",
       "    <path d=\"M18.56 5.44l.94 2.06.94-2.06 2.06-.94-2.06-.94-.94-2.06-.94 2.06-2.06.94zm-11 1L8.5 8.5l.94-2.06 2.06-.94-2.06-.94L8.5 2.5l-.94 2.06-2.06.94zm10 10l.94 2.06.94-2.06 2.06-.94-2.06-.94-.94-2.06-.94 2.06-2.06.94z\"/><path d=\"M17.41 7.96l-1.37-1.37c-.4-.4-.92-.59-1.43-.59-.52 0-1.04.2-1.43.59L10.3 9.45l-7.72 7.72c-.78.78-.78 2.05 0 2.83L4 21.41c.39.39.9.59 1.41.59.51 0 1.02-.2 1.41-.59l7.78-7.78 2.81-2.81c.8-.78.8-2.07 0-2.86zM5.41 20L4 18.59l7.72-7.72 1.47 1.35L5.41 20z\"/>\n",
       "  </svg>\n",
       "      </button>\n",
       "      \n",
       "  <style>\n",
       "    .colab-df-container {\n",
       "      display:flex;\n",
       "      flex-wrap:wrap;\n",
       "      gap: 12px;\n",
       "    }\n",
       "\n",
       "    .colab-df-convert {\n",
       "      background-color: #E8F0FE;\n",
       "      border: none;\n",
       "      border-radius: 50%;\n",
       "      cursor: pointer;\n",
       "      display: none;\n",
       "      fill: #1967D2;\n",
       "      height: 32px;\n",
       "      padding: 0 0 0 0;\n",
       "      width: 32px;\n",
       "    }\n",
       "\n",
       "    .colab-df-convert:hover {\n",
       "      background-color: #E2EBFA;\n",
       "      box-shadow: 0px 1px 2px rgba(60, 64, 67, 0.3), 0px 1px 3px 1px rgba(60, 64, 67, 0.15);\n",
       "      fill: #174EA6;\n",
       "    }\n",
       "\n",
       "    [theme=dark] .colab-df-convert {\n",
       "      background-color: #3B4455;\n",
       "      fill: #D2E3FC;\n",
       "    }\n",
       "\n",
       "    [theme=dark] .colab-df-convert:hover {\n",
       "      background-color: #434B5C;\n",
       "      box-shadow: 0px 1px 3px 1px rgba(0, 0, 0, 0.15);\n",
       "      filter: drop-shadow(0px 1px 2px rgba(0, 0, 0, 0.3));\n",
       "      fill: #FFFFFF;\n",
       "    }\n",
       "  </style>\n",
       "\n",
       "      <script>\n",
       "        const buttonEl =\n",
       "          document.querySelector('#df-56ac243b-8cfa-42f2-9ede-192079c26264 button.colab-df-convert');\n",
       "        buttonEl.style.display =\n",
       "          google.colab.kernel.accessAllowed ? 'block' : 'none';\n",
       "\n",
       "        async function convertToInteractive(key) {\n",
       "          const element = document.querySelector('#df-56ac243b-8cfa-42f2-9ede-192079c26264');\n",
       "          const dataTable =\n",
       "            await google.colab.kernel.invokeFunction('convertToInteractive',\n",
       "                                                     [key], {});\n",
       "          if (!dataTable) return;\n",
       "\n",
       "          const docLinkHtml = 'Like what you see? Visit the ' +\n",
       "            '<a target=\"_blank\" href=https://colab.research.google.com/notebooks/data_table.ipynb>data table notebook</a>'\n",
       "            + ' to learn more about interactive tables.';\n",
       "          element.innerHTML = '';\n",
       "          dataTable['output_type'] = 'display_data';\n",
       "          await google.colab.output.renderOutput(dataTable, element);\n",
       "          const docLink = document.createElement('div');\n",
       "          docLink.innerHTML = docLinkHtml;\n",
       "          element.appendChild(docLink);\n",
       "        }\n",
       "      </script>\n",
       "    </div>\n",
       "  </div>\n",
       "  "
      ],
      "text/plain": [
       "  predictor  importance\n",
       "0     WS/48    0.330777\n",
       "1      OBPM    0.295105\n",
       "2      USG%    0.118119\n",
       "3       OWS    0.048091\n",
       "4       BPM    0.044103"
      ]
     },
     "execution_count": 60,
     "metadata": {},
     "output_type": "execute_result"
    }
   ],
   "source": [
    "# Random forest feature importances\n",
    "feat_imp = pd.DataFrame(columns = ['predictor', 'importance'])\n",
    "imps = rf_model.feature_importances_\n",
    "\n",
    "feat_imp.loc[:,'predictor'] = X.columns\n",
    "feat_imp.loc[:,'importance'] = imps\n",
    "\n",
    "feat_imp.sort_values(by = 'importance', ascending = False).reset_index(drop = True).head()"
   ]
  },
  {
   "attachments": {},
   "cell_type": "markdown",
   "id": "017ca069",
   "metadata": {
    "id": "017ca069"
   },
   "source": [
    "### Bagged Trees\n",
    "\n",
    "**Optimal Bagged Tree Model**\n",
    "\n",
    "The optimal bagged tree model, configured with n_estimators of 1200, max_samples of 0.8, max_features of 0.8, without bootstrapping, and excluding bootstrap features, yields a test MAE of 0.6934. Top predictors include Offensive Box Plus/Minus, Win Shares Per 48 Minutes, Usage Percentage, Box Plus/Minus, and Offensive Win Shares."
   ]
  },
  {
   "cell_type": "code",
   "execution_count": null,
   "id": "haZFZCXawP8T",
   "metadata": {
    "colab": {
     "base_uri": "https://localhost:8080/",
     "height": 467
    },
    "id": "haZFZCXawP8T",
    "outputId": "833101d5-b76e-4dc5-ef62-dace3b2643c1"
   },
   "outputs": [
    {
     "data": {
      "text/plain": [
       "<matplotlib.legend.Legend at 0x7f89a1d52f50>"
      ]
     },
     "execution_count": 76,
     "metadata": {},
     "output_type": "execute_result"
    },
    {
     "data": {
      "image/png": "[encoded data removed]",
      "text/plain": [
       "<Figure size 640x480 with 1 Axes>"
      ]
     },
     "metadata": {},
     "output_type": "display_data"
    }
   ],
   "source": [
    "# Visualizing OOB MAE\n",
    "oob_mae = {}\n",
    "test_mae = {}\n",
    "\n",
    "for i in np.linspace(10, 400, 40, dtype=int):\n",
    "    model = BaggingRegressor(base_estimator = DecisionTreeRegressor(),\n",
    "                             n_estimators = i, random_state = 1, n_jobs = -1,\n",
    "                             oob_score = True).fit(X_train, y_train)\n",
    "    oob_mae[i] = mean_absolute_error(model.oob_prediction_, y_train)\n",
    "    test_mae[i] = mean_absolute_error(model.predict(X_test), y_test)\n",
    "\n",
    "plt.rcParams.update({'font.size': 15})\n",
    "plt.figure(figsize = (8, 6), dpi = 80)\n",
    "plt.plot(oob_mae.keys(), oob_mae.values(), label = 'Out of bag MAE')\n",
    "plt.plot(oob_mae.keys(), oob_mae.values(), 'o', color = 'blue')\n",
    "plt.plot(test_mae.keys(), test_mae.values(), label = 'Test data MAE')\n",
    "plt.xlabel('Number of trees')\n",
    "plt.ylabel('MAE')\n",
    "plt.legend()"
   ]
  },
  {
   "cell_type": "code",
   "execution_count": null,
   "id": "jyqALmD2hdW9",
   "metadata": {
    "colab": {
     "base_uri": "https://localhost:8080/"
    },
    "id": "jyqALmD2hdW9",
    "outputId": "6db27283-4ed3-4c8e-93db-c40ae6c8db70"
   },
   "outputs": [
    {
     "name": "stdout",
     "output_type": "stream",
     "text": [
      "Fitting 5 folds for each of 108 candidates, totalling 540 fits\n",
      "Test MAE Score : 0.960\n",
      "Best MAE Score Through Grid Search : -0.715\n",
      "Best Parameters :  {'bootstrap': False, 'bootstrap_features': False, 'max_features': 0.7, 'max_samples': 0.7, 'n_estimators': 500}\n"
     ]
    }
   ],
   "source": [
    "# Bagged trees coarse grid search\n",
    "br = BaggingRegressor(base_estimator = DecisionTreeRegressor(),\n",
    "                      random_state = 1, n_jobs=-1)\n",
    "\n",
    "params = {'n_estimators': [200, 350, 500],\n",
    "          'max_samples': [0.5, 0.7, 1.0],\n",
    "          'max_features': [0.5, 0.7, 1.0],\n",
    "          'bootstrap': [True, False],\n",
    "          'bootstrap_features': [True, False]\n",
    "         }\n",
    "\n",
    "cv = KFold(n_splits = 5, shuffle = True, random_state = 1)\n",
    "\n",
    "bagreg_grid = GridSearchCV(br, params, n_jobs = -1, verbose = 1,\n",
    "                           cv = cv, scoring = 'neg_mean_absolute_error')\n",
    "bagreg_grid.fit(X_train, y_train)\n",
    "\n",
    "print('Test MAE Score : %.3f'%bagreg_grid.best_estimator_.score(X_test, y_test))\n",
    "print('Best MAE Score Through Grid Search : %.3f'%bagreg_grid.best_score_)\n",
    "print('Best Parameters : ',bagreg_grid.best_params_)"
   ]
  },
  {
   "cell_type": "code",
   "execution_count": null,
   "id": "98zrLo5uihOp",
   "metadata": {
    "colab": {
     "base_uri": "https://localhost:8080/",
     "height": 273
    },
    "id": "98zrLo5uihOp",
    "outputId": "0767825a-957f-483b-87ca-e3fd63e1b337"
   },
   "outputs": [
    {
     "data": {
      "image/png": "[encoded data removed]",
      "text/plain": [
       "<Figure size 1400x500 with 3 Axes>"
      ]
     },
     "metadata": {},
     "output_type": "display_data"
    }
   ],
   "source": [
    "# Visualizing the bagged trees coarse grid search\n",
    "cv_results = pd.DataFrame(bagreg_grid.cv_results_)\n",
    "\n",
    "fig, axes = plt.subplots(1, 3, figsize = (14, 5))\n",
    "plt.subplots_adjust(wspace = 0.2)\n",
    "\n",
    "axes[0].plot(cv_results.param_n_estimators, np.sqrt(-cv_results.mean_test_score), 'o')\n",
    "axes[0].set_xlabel('Estimators')\n",
    "axes[0].set_ylabel('K-fold MAE')\n",
    "\n",
    "axes[1].plot(cv_results.param_max_samples, np.sqrt(-cv_results.mean_test_score), 'o')\n",
    "axes[1].set_xlabel('Samples')\n",
    "\n",
    "axes[2].plot(cv_results.param_max_features, np.sqrt(-cv_results.mean_test_score), 'o')\n",
    "axes[2].set_xlabel('Features');"
   ]
  },
  {
   "cell_type": "code",
   "execution_count": null,
   "id": "4F2eHXH-ziEc",
   "metadata": {
    "colab": {
     "base_uri": "https://localhost:8080/"
    },
    "id": "4F2eHXH-ziEc",
    "outputId": "b9951a9f-7a5c-4840-ef34-2c8c0441d8bf"
   },
   "outputs": [
    {
     "name": "stdout",
     "output_type": "stream",
     "text": [
      "Fitting 5 folds for each of 27 candidates, totalling 135 fits\n",
      "Test MAE Score : 0.961\n",
      "Best MAE Score Through Grid Search : -0.704\n",
      "Best Parameters :  {'bootstrap': False, 'bootstrap_features': False, 'max_features': 0.8, 'max_samples': 0.8, 'n_estimators': 500}\n"
     ]
    }
   ],
   "source": [
    "# Bagged trees fine grid search\n",
    "br = BaggingRegressor(base_estimator = DecisionTreeRegressor(),\n",
    "                      random_state = 1, n_jobs=-1)\n",
    "\n",
    "params = {'n_estimators': [500, 600, 700],\n",
    "          'max_samples': [0.6, 0.7, 0.8],\n",
    "          'max_features': [0.6, 0.7, 0.8],\n",
    "          'bootstrap': [False],\n",
    "          'bootstrap_features': [False]\n",
    "         }\n",
    "\n",
    "cv = KFold(n_splits = 5, shuffle = True, random_state = 1)\n",
    "\n",
    "bagreg_grid = GridSearchCV(br, params, n_jobs = -1, verbose = 1,\n",
    "                           cv = cv, scoring = 'neg_mean_absolute_error')\n",
    "bagreg_grid.fit(X_train, y_train)\n",
    "\n",
    "print('Test MAE Score : %.3f'%bagreg_grid.best_estimator_.score(X_test, y_test))\n",
    "print('Best MAE Score Through Grid Search : %.3f'%bagreg_grid.best_score_)\n",
    "print('Best Parameters : ', bagreg_grid.best_params_)"
   ]
  },
  {
   "cell_type": "code",
   "execution_count": null,
   "id": "fu0YiKZH4IzA",
   "metadata": {
    "colab": {
     "base_uri": "https://localhost:8080/",
     "height": 115
    },
    "id": "fu0YiKZH4IzA",
    "outputId": "855cf971-892e-4449-adea-6d9f1f6688c3"
   },
   "outputs": [
    {
     "data": {
      "text/html": [
       "<style>#sk-container-id-4 {color: black;background-color: white;}#sk-container-id-4 pre{padding: 0;}#sk-container-id-4 div.sk-toggleable {background-color: white;}#sk-container-id-4 label.sk-toggleable__label {cursor: pointer;display: block;width: 100%;margin-bottom: 0;padding: 0.3em;box-sizing: border-box;text-align: center;}#sk-container-id-4 label.sk-toggleable__label-arrow:before {content: \"▸\";float: left;margin-right: 0.25em;color: #696969;}#sk-container-id-4 label.sk-toggleable__label-arrow:hover:before {color: black;}#sk-container-id-4 div.sk-estimator:hover label.sk-toggleable__label-arrow:before {color: black;}#sk-container-id-4 div.sk-toggleable__content {max-height: 0;max-width: 0;overflow: hidden;text-align: left;background-color: #f0f8ff;}#sk-container-id-4 div.sk-toggleable__content pre {margin: 0.2em;color: black;border-radius: 0.25em;background-color: #f0f8ff;}#sk-container-id-4 input.sk-toggleable__control:checked~div.sk-toggleable__content {max-height: 200px;max-width: 100%;overflow: auto;}#sk-container-id-4 input.sk-toggleable__control:checked~label.sk-toggleable__label-arrow:before {content: \"▾\";}#sk-container-id-4 div.sk-estimator input.sk-toggleable__control:checked~label.sk-toggleable__label {background-color: #d4ebff;}#sk-container-id-4 div.sk-label input.sk-toggleable__control:checked~label.sk-toggleable__label {background-color: #d4ebff;}#sk-container-id-4 input.sk-hidden--visually {border: 0;clip: rect(1px 1px 1px 1px);clip: rect(1px, 1px, 1px, 1px);height: 1px;margin: -1px;overflow: hidden;padding: 0;position: absolute;width: 1px;}#sk-container-id-4 div.sk-estimator {font-family: monospace;background-color: #f0f8ff;border: 1px dotted black;border-radius: 0.25em;box-sizing: border-box;margin-bottom: 0.5em;}#sk-container-id-4 div.sk-estimator:hover {background-color: #d4ebff;}#sk-container-id-4 div.sk-parallel-item::after {content: \"\";width: 100%;border-bottom: 1px solid gray;flex-grow: 1;}#sk-container-id-4 div.sk-label:hover label.sk-toggleable__label {background-color: #d4ebff;}#sk-container-id-4 div.sk-serial::before {content: \"\";position: absolute;border-left: 1px solid gray;box-sizing: border-box;top: 0;bottom: 0;left: 50%;z-index: 0;}#sk-container-id-4 div.sk-serial {display: flex;flex-direction: column;align-items: center;background-color: white;padding-right: 0.2em;padding-left: 0.2em;position: relative;}#sk-container-id-4 div.sk-item {position: relative;z-index: 1;}#sk-container-id-4 div.sk-parallel {display: flex;align-items: stretch;justify-content: center;background-color: white;position: relative;}#sk-container-id-4 div.sk-item::before, #sk-container-id-4 div.sk-parallel-item::before {content: \"\";position: absolute;border-left: 1px solid gray;box-sizing: border-box;top: 0;bottom: 0;left: 50%;z-index: -1;}#sk-container-id-4 div.sk-parallel-item {display: flex;flex-direction: column;z-index: 1;position: relative;background-color: white;}#sk-container-id-4 div.sk-parallel-item:first-child::after {align-self: flex-end;width: 50%;}#sk-container-id-4 div.sk-parallel-item:last-child::after {align-self: flex-start;width: 50%;}#sk-container-id-4 div.sk-parallel-item:only-child::after {width: 0;}#sk-container-id-4 div.sk-dashed-wrapped {border: 1px dashed gray;margin: 0 0.4em 0.5em 0.4em;box-sizing: border-box;padding-bottom: 0.4em;background-color: white;}#sk-container-id-4 div.sk-label label {font-family: monospace;font-weight: bold;display: inline-block;line-height: 1.2em;}#sk-container-id-4 div.sk-label-container {text-align: center;}#sk-container-id-4 div.sk-container {/* jupyter's `normalize.less` sets `[hidden] { display: none; }` but bootstrap.min.css set `[hidden] { display: none !important; }` so we also need the `!important` here to be able to override the default hidden behavior on the sphinx rendered scikit-learn.org. See: https://github.com/scikit-learn/scikit-learn/issues/21755 */display: inline-block !important;position: relative;}#sk-container-id-4 div.sk-text-repr-fallback {display: none;}</style><div id=\"sk-container-id-4\" class=\"sk-top-container\"><div class=\"sk-text-repr-fallback\"><pre>BaggingRegressor(base_estimator=DecisionTreeRegressor(random_state=1),\n",
       "                 bootstrap=False, max_features=0.8, max_samples=0.8,\n",
       "                 n_estimators=1200, n_jobs=-1, random_state=1)</pre><b>In a Jupyter environment, please rerun this cell to show the HTML representation or trust the notebook. <br />On GitHub, the HTML representation is unable to render, please try loading this page with nbviewer.org.</b></div><div class=\"sk-container\" hidden><div class=\"sk-item sk-dashed-wrapped\"><div class=\"sk-label-container\"><div class=\"sk-label sk-toggleable\"><input class=\"sk-toggleable__control sk-hidden--visually\" id=\"sk-estimator-id-4\" type=\"checkbox\" ><label for=\"sk-estimator-id-4\" class=\"sk-toggleable__label sk-toggleable__label-arrow\">BaggingRegressor</label><div class=\"sk-toggleable__content\"><pre>BaggingRegressor(base_estimator=DecisionTreeRegressor(random_state=1),\n",
       "                 bootstrap=False, max_features=0.8, max_samples=0.8,\n",
       "                 n_estimators=1200, n_jobs=-1, random_state=1)</pre></div></div></div><div class=\"sk-parallel\"><div class=\"sk-parallel-item\"><div class=\"sk-item\"><div class=\"sk-label-container\"><div class=\"sk-label sk-toggleable\"><input class=\"sk-toggleable__control sk-hidden--visually\" id=\"sk-estimator-id-5\" type=\"checkbox\" ><label for=\"sk-estimator-id-5\" class=\"sk-toggleable__label sk-toggleable__label-arrow\">base_estimator: DecisionTreeRegressor</label><div class=\"sk-toggleable__content\"><pre>DecisionTreeRegressor(random_state=1)</pre></div></div></div><div class=\"sk-serial\"><div class=\"sk-item\"><div class=\"sk-estimator sk-toggleable\"><input class=\"sk-toggleable__control sk-hidden--visually\" id=\"sk-estimator-id-6\" type=\"checkbox\" ><label for=\"sk-estimator-id-6\" class=\"sk-toggleable__label sk-toggleable__label-arrow\">DecisionTreeRegressor</label><div class=\"sk-toggleable__content\"><pre>DecisionTreeRegressor(random_state=1)</pre></div></div></div></div></div></div></div></div></div></div>"
      ],
      "text/plain": [
       "BaggingRegressor(base_estimator=DecisionTreeRegressor(random_state=1),\n",
       "                 bootstrap=False, max_features=0.8, max_samples=0.8,\n",
       "                 n_estimators=1200, n_jobs=-1, random_state=1)"
      ]
     },
     "execution_count": 88,
     "metadata": {},
     "output_type": "execute_result"
    }
   ],
   "source": [
    "# Final bagging model with optimal parameters (some manual adjustments)\n",
    "br_model = BaggingRegressor(base_estimator = DecisionTreeRegressor(random_state = 1),\n",
    "                            n_estimators = 1200, random_state = 1,\n",
    "                            n_jobs = -1, bootstrap = False,\n",
    "                            max_features = 0.8, max_samples = 0.8,\n",
    "                            bootstrap_features = False)\n",
    "br_model.fit(X_train, y_train)"
   ]
  },
  {
   "cell_type": "code",
   "execution_count": null,
   "id": "zDu4qFfj4sU4",
   "metadata": {
    "colab": {
     "base_uri": "https://localhost:8080/"
    },
    "id": "zDu4qFfj4sU4",
    "outputId": "48ddc958-106f-4ca1-db04-0fe49b7e7887"
   },
   "outputs": [
    {
     "name": "stdout",
     "output_type": "stream",
     "text": [
      "MAE:  0.6933755856473546\n"
     ]
    }
   ],
   "source": [
    "# Bagged trees test MAE\n",
    "br_pred = br_model.predict(X_test)\n",
    "print('MAE: ', mean_absolute_error(br_pred, y_test))"
   ]
  },
  {
   "cell_type": "code",
   "execution_count": 91,
   "id": "o06Aa-D25D8H",
   "metadata": {
    "colab": {
     "base_uri": "https://localhost:8080/",
     "height": 204
    },
    "id": "o06Aa-D25D8H",
    "outputId": "dfe104bc-9f5d-42da-8028-8a1c9f3911a1"
   },
   "outputs": [
    {
     "data": {
      "text/html": [
       "\n",
       "  <div id=\"df-cf2d6e54-bcc1-4061-ad71-bbc3f8d665c4\">\n",
       "    <div class=\"colab-df-container\">\n",
       "      <div>\n",
       "<style scoped>\n",
       "    .dataframe tbody tr th:only-of-type {\n",
       "        vertical-align: middle;\n",
       "    }\n",
       "\n",
       "    .dataframe tbody tr th {\n",
       "        vertical-align: top;\n",
       "    }\n",
       "\n",
       "    .dataframe thead th {\n",
       "        text-align: right;\n",
       "    }\n",
       "</style>\n",
       "<table border=\"1\" class=\"dataframe\">\n",
       "  <thead>\n",
       "    <tr style=\"text-align: right;\">\n",
       "      <th></th>\n",
       "      <th>predictor</th>\n",
       "      <th>importance</th>\n",
       "    </tr>\n",
       "  </thead>\n",
       "  <tbody>\n",
       "    <tr>\n",
       "      <th>16</th>\n",
       "      <td>OBPM</td>\n",
       "      <td>0.368334</td>\n",
       "    </tr>\n",
       "    <tr>\n",
       "      <th>15</th>\n",
       "      <td>WS/48</td>\n",
       "      <td>0.336582</td>\n",
       "    </tr>\n",
       "    <tr>\n",
       "      <th>11</th>\n",
       "      <td>USG%</td>\n",
       "      <td>0.106954</td>\n",
       "    </tr>\n",
       "    <tr>\n",
       "      <th>18</th>\n",
       "      <td>BPM</td>\n",
       "      <td>0.021084</td>\n",
       "    </tr>\n",
       "    <tr>\n",
       "      <th>12</th>\n",
       "      <td>OWS</td>\n",
       "      <td>0.017468</td>\n",
       "    </tr>\n",
       "  </tbody>\n",
       "</table>\n",
       "</div>\n",
       "      <button class=\"colab-df-convert\" onclick=\"convertToInteractive('df-cf2d6e54-bcc1-4061-ad71-bbc3f8d665c4')\"\n",
       "              title=\"Convert this dataframe to an interactive table.\"\n",
       "              style=\"display:none;\">\n",
       "        \n",
       "  <svg xmlns=\"http://www.w3.org/2000/svg\" height=\"24px\"viewBox=\"0 0 24 24\"\n",
       "       width=\"24px\">\n",
       "    <path d=\"M0 0h24v24H0V0z\" fill=\"none\"/>\n",
       "    <path d=\"M18.56 5.44l.94 2.06.94-2.06 2.06-.94-2.06-.94-.94-2.06-.94 2.06-2.06.94zm-11 1L8.5 8.5l.94-2.06 2.06-.94-2.06-.94L8.5 2.5l-.94 2.06-2.06.94zm10 10l.94 2.06.94-2.06 2.06-.94-2.06-.94-.94-2.06-.94 2.06-2.06.94z\"/><path d=\"M17.41 7.96l-1.37-1.37c-.4-.4-.92-.59-1.43-.59-.52 0-1.04.2-1.43.59L10.3 9.45l-7.72 7.72c-.78.78-.78 2.05 0 2.83L4 21.41c.39.39.9.59 1.41.59.51 0 1.02-.2 1.41-.59l7.78-7.78 2.81-2.81c.8-.78.8-2.07 0-2.86zM5.41 20L4 18.59l7.72-7.72 1.47 1.35L5.41 20z\"/>\n",
       "  </svg>\n",
       "      </button>\n",
       "      \n",
       "  <style>\n",
       "    .colab-df-container {\n",
       "      display:flex;\n",
       "      flex-wrap:wrap;\n",
       "      gap: 12px;\n",
       "    }\n",
       "\n",
       "    .colab-df-convert {\n",
       "      background-color: #E8F0FE;\n",
       "      border: none;\n",
       "      border-radius: 50%;\n",
       "      cursor: pointer;\n",
       "      display: none;\n",
       "      fill: #1967D2;\n",
       "      height: 32px;\n",
       "      padding: 0 0 0 0;\n",
       "      width: 32px;\n",
       "    }\n",
       "\n",
       "    .colab-df-convert:hover {\n",
       "      background-color: #E2EBFA;\n",
       "      box-shadow: 0px 1px 2px rgba(60, 64, 67, 0.3), 0px 1px 3px 1px rgba(60, 64, 67, 0.15);\n",
       "      fill: #174EA6;\n",
       "    }\n",
       "\n",
       "    [theme=dark] .colab-df-convert {\n",
       "      background-color: #3B4455;\n",
       "      fill: #D2E3FC;\n",
       "    }\n",
       "\n",
       "    [theme=dark] .colab-df-convert:hover {\n",
       "      background-color: #434B5C;\n",
       "      box-shadow: 0px 1px 3px 1px rgba(0, 0, 0, 0.15);\n",
       "      filter: drop-shadow(0px 1px 2px rgba(0, 0, 0, 0.3));\n",
       "      fill: #FFFFFF;\n",
       "    }\n",
       "  </style>\n",
       "\n",
       "      <script>\n",
       "        const buttonEl =\n",
       "          document.querySelector('#df-cf2d6e54-bcc1-4061-ad71-bbc3f8d665c4 button.colab-df-convert');\n",
       "        buttonEl.style.display =\n",
       "          google.colab.kernel.accessAllowed ? 'block' : 'none';\n",
       "\n",
       "        async function convertToInteractive(key) {\n",
       "          const element = document.querySelector('#df-cf2d6e54-bcc1-4061-ad71-bbc3f8d665c4');\n",
       "          const dataTable =\n",
       "            await google.colab.kernel.invokeFunction('convertToInteractive',\n",
       "                                                     [key], {});\n",
       "          if (!dataTable) return;\n",
       "\n",
       "          const docLinkHtml = 'Like what you see? Visit the ' +\n",
       "            '<a target=\"_blank\" href=https://colab.research.google.com/notebooks/data_table.ipynb>data table notebook</a>'\n",
       "            + ' to learn more about interactive tables.';\n",
       "          element.innerHTML = '';\n",
       "          dataTable['output_type'] = 'display_data';\n",
       "          await google.colab.output.renderOutput(dataTable, element);\n",
       "          const docLink = document.createElement('div');\n",
       "          docLink.innerHTML = docLinkHtml;\n",
       "          element.appendChild(docLink);\n",
       "        }\n",
       "      </script>\n",
       "    </div>\n",
       "  </div>\n",
       "  "
      ],
      "text/plain": [
       "   predictor  importance\n",
       "16      OBPM    0.368334\n",
       "15     WS/48    0.336582\n",
       "11      USG%    0.106954\n",
       "18       BPM    0.021084\n",
       "12       OWS    0.017468"
      ]
     },
     "execution_count": 91,
     "metadata": {},
     "output_type": "execute_result"
    }
   ],
   "source": [
    "# Bagged trees feature importances\n",
    "feat_imp = pd.DataFrame(columns = ['predictor', 'importance'])\n",
    "\n",
    "total = [0] * 65\n",
    "for i, temp_model in enumerate(br_model.estimators_):\n",
    "    feat = br_model.estimators_features_[i]\n",
    "    for j, pred in enumerate(feat):\n",
    "        total[pred] += temp_model.feature_importances_[j]\n",
    "imps = np.array(total) / len(br_model.estimators_)\n",
    "\n",
    "feat_imp.loc[:, 'predictor'] = br_model.feature_names_in_\n",
    "feat_imp.loc[:,'importance'] = imps\n",
    "\n",
    "feat_imp.sort_values(by = 'importance', ascending = False).head()"
   ]
  },
  {
   "attachments": {},
   "cell_type": "markdown",
   "id": "8182968b",
   "metadata": {
    "id": "8182968b"
   },
   "source": [
    "### XGBoost\n",
    "\n",
    "**Optimal XGBoost Model**\n",
    "\n",
    "The optimal XGBoost model, with subsample of 0.5, reg_lambda of 0.1, n_estimators of 3000, max_depth of 5, learning_rate of 0.01, and gamma of 4, outshines others with a test MAE of 0.4065. Prominent predictors encompass Offensive Box Plus/Minus, Win Shares Per 48 Minutes, Box Plus/Minus, Usage Percentage, and Win Shares."
   ]
  },
  {
   "cell_type": "code",
   "execution_count": 94,
   "id": "fYP9BGTX7Q8Z",
   "metadata": {
    "colab": {
     "base_uri": "https://localhost:8080/"
    },
    "id": "fYP9BGTX7Q8Z",
    "outputId": "2a4e3f5a-339c-4780-9d13-ba275440b25b"
   },
   "outputs": [
    {
     "name": "stdout",
     "output_type": "stream",
     "text": [
      "Fitting 3 folds for each of 10 candidates, totalling 30 fits\n",
      "-0.3593182796554393\n",
      "{'subsample': 0.5, 'reg_lambda': 0.1, 'n_estimators': 5000, 'max_depth': 4, 'learning_rate': 0.01, 'gamma': 1}\n"
     ]
    }
   ],
   "source": [
    "# XGBoost coarse randomized search\n",
    "xgb = XGBRegressor()\n",
    "\n",
    "params = {'max_depth': range(1, 15),\n",
    "          'n_estimators': [100, 500, 1000, 5000],\n",
    "          'learning_rate': [0.001, 0.01, 0.1, 1],\n",
    "          'subsample': [0.25, 0.5, 0.75, 1],\n",
    "          'gamma': range(1, 10),\n",
    "          'reg_lambda': [0.1, 0.5, 1, 5, 10]}\n",
    "\n",
    "cv = KFold(n_splits = 3, shuffle = True, random_state = 1)\n",
    "\n",
    "grid = RandomizedSearchCV(xgb, params, cv = cv, verbose = 1, n_jobs = -1,\n",
    "                          scoring = 'neg_mean_absolute_error')\n",
    "grid.fit(X_train, y_train)\n",
    "\n",
    "print(grid.best_score_)\n",
    "print(grid.best_params_)"
   ]
  },
  {
   "cell_type": "code",
   "execution_count": 97,
   "id": "HzAPlOZu82Ox",
   "metadata": {
    "colab": {
     "base_uri": "https://localhost:8080/"
    },
    "id": "HzAPlOZu82Ox",
    "outputId": "feb0b95c-09b5-4c6e-8072-3d5b67144275"
   },
   "outputs": [
    {
     "name": "stdout",
     "output_type": "stream",
     "text": [
      "Fitting 3 folds for each of 10 candidates, totalling 30 fits\n",
      "-0.43621912660683454\n",
      "{'subsample': 0.5, 'reg_lambda': 0.1, 'n_estimators': 3000, 'max_depth': 5, 'learning_rate': 0.01, 'gamma': 4}\n"
     ]
    }
   ],
   "source": [
    "# XGBoost fine randomized search\n",
    "xgb = XGBRegressor()\n",
    "\n",
    "params = {'max_depth': range(2, 12, 3),\n",
    "          'n_estimators': [2000, 2500, 3000],\n",
    "          'learning_rate': [0.01],\n",
    "          'subsample': [0.5],\n",
    "          'gamma': range(1, 9),\n",
    "          'reg_lambda': [0.1, 0.5, 1]}\n",
    "\n",
    "cv = KFold(n_splits = 3, shuffle = True, random_state = 1)\n",
    "\n",
    "grid = RandomizedSearchCV(xgb, params, cv = cv, verbose = 1, n_jobs = -1,\n",
    "                          scoring = 'neg_mean_absolute_error')\n",
    "grid.fit(X_train, y_train)\n",
    "\n",
    "print(grid.best_score_)\n",
    "print(grid.best_params_)"
   ]
  },
  {
   "cell_type": "code",
   "execution_count": 98,
   "id": "gD_UVEyo9YKc",
   "metadata": {
    "colab": {
     "base_uri": "https://localhost:8080/",
     "height": 244
    },
    "id": "gD_UVEyo9YKc",
    "outputId": "5a906d06-1426-4cc5-e364-749c95b8847e"
   },
   "outputs": [
    {
     "data": {
      "text/html": [
       "<style>#sk-container-id-5 {color: black;background-color: white;}#sk-container-id-5 pre{padding: 0;}#sk-container-id-5 div.sk-toggleable {background-color: white;}#sk-container-id-5 label.sk-toggleable__label {cursor: pointer;display: block;width: 100%;margin-bottom: 0;padding: 0.3em;box-sizing: border-box;text-align: center;}#sk-container-id-5 label.sk-toggleable__label-arrow:before {content: \"▸\";float: left;margin-right: 0.25em;color: #696969;}#sk-container-id-5 label.sk-toggleable__label-arrow:hover:before {color: black;}#sk-container-id-5 div.sk-estimator:hover label.sk-toggleable__label-arrow:before {color: black;}#sk-container-id-5 div.sk-toggleable__content {max-height: 0;max-width: 0;overflow: hidden;text-align: left;background-color: #f0f8ff;}#sk-container-id-5 div.sk-toggleable__content pre {margin: 0.2em;color: black;border-radius: 0.25em;background-color: #f0f8ff;}#sk-container-id-5 input.sk-toggleable__control:checked~div.sk-toggleable__content {max-height: 200px;max-width: 100%;overflow: auto;}#sk-container-id-5 input.sk-toggleable__control:checked~label.sk-toggleable__label-arrow:before {content: \"▾\";}#sk-container-id-5 div.sk-estimator input.sk-toggleable__control:checked~label.sk-toggleable__label {background-color: #d4ebff;}#sk-container-id-5 div.sk-label input.sk-toggleable__control:checked~label.sk-toggleable__label {background-color: #d4ebff;}#sk-container-id-5 input.sk-hidden--visually {border: 0;clip: rect(1px 1px 1px 1px);clip: rect(1px, 1px, 1px, 1px);height: 1px;margin: -1px;overflow: hidden;padding: 0;position: absolute;width: 1px;}#sk-container-id-5 div.sk-estimator {font-family: monospace;background-color: #f0f8ff;border: 1px dotted black;border-radius: 0.25em;box-sizing: border-box;margin-bottom: 0.5em;}#sk-container-id-5 div.sk-estimator:hover {background-color: #d4ebff;}#sk-container-id-5 div.sk-parallel-item::after {content: \"\";width: 100%;border-bottom: 1px solid gray;flex-grow: 1;}#sk-container-id-5 div.sk-label:hover label.sk-toggleable__label {background-color: #d4ebff;}#sk-container-id-5 div.sk-serial::before {content: \"\";position: absolute;border-left: 1px solid gray;box-sizing: border-box;top: 0;bottom: 0;left: 50%;z-index: 0;}#sk-container-id-5 div.sk-serial {display: flex;flex-direction: column;align-items: center;background-color: white;padding-right: 0.2em;padding-left: 0.2em;position: relative;}#sk-container-id-5 div.sk-item {position: relative;z-index: 1;}#sk-container-id-5 div.sk-parallel {display: flex;align-items: stretch;justify-content: center;background-color: white;position: relative;}#sk-container-id-5 div.sk-item::before, #sk-container-id-5 div.sk-parallel-item::before {content: \"\";position: absolute;border-left: 1px solid gray;box-sizing: border-box;top: 0;bottom: 0;left: 50%;z-index: -1;}#sk-container-id-5 div.sk-parallel-item {display: flex;flex-direction: column;z-index: 1;position: relative;background-color: white;}#sk-container-id-5 div.sk-parallel-item:first-child::after {align-self: flex-end;width: 50%;}#sk-container-id-5 div.sk-parallel-item:last-child::after {align-self: flex-start;width: 50%;}#sk-container-id-5 div.sk-parallel-item:only-child::after {width: 0;}#sk-container-id-5 div.sk-dashed-wrapped {border: 1px dashed gray;margin: 0 0.4em 0.5em 0.4em;box-sizing: border-box;padding-bottom: 0.4em;background-color: white;}#sk-container-id-5 div.sk-label label {font-family: monospace;font-weight: bold;display: inline-block;line-height: 1.2em;}#sk-container-id-5 div.sk-label-container {text-align: center;}#sk-container-id-5 div.sk-container {/* jupyter's `normalize.less` sets `[hidden] { display: none; }` but bootstrap.min.css set `[hidden] { display: none !important; }` so we also need the `!important` here to be able to override the default hidden behavior on the sphinx rendered scikit-learn.org. See: https://github.com/scikit-learn/scikit-learn/issues/21755 */display: inline-block !important;position: relative;}#sk-container-id-5 div.sk-text-repr-fallback {display: none;}</style><div id=\"sk-container-id-5\" class=\"sk-top-container\"><div class=\"sk-text-repr-fallback\"><pre>XGBRegressor(base_score=None, booster=None, callbacks=None,\n",
       "             colsample_bylevel=None, colsample_bynode=None,\n",
       "             colsample_bytree=None, early_stopping_rounds=None,\n",
       "             enable_categorical=False, eval_metric=None, feature_types=None,\n",
       "             gamma=4, gpu_id=None, grow_policy=None, importance_type=None,\n",
       "             interaction_constraints=None, learning_rate=0.01, max_bin=None,\n",
       "             max_cat_threshold=None, max_cat_to_onehot=None,\n",
       "             max_delta_step=None, max_depth=5, max_leaves=None,\n",
       "             min_child_weight=None, missing=nan, monotone_constraints=None,\n",
       "             n_estimators=3000, n_jobs=None, num_parallel_tree=None,\n",
       "             predictor=None, random_state=1, ...)</pre><b>In a Jupyter environment, please rerun this cell to show the HTML representation or trust the notebook. <br />On GitHub, the HTML representation is unable to render, please try loading this page with nbviewer.org.</b></div><div class=\"sk-container\" hidden><div class=\"sk-item\"><div class=\"sk-estimator sk-toggleable\"><input class=\"sk-toggleable__control sk-hidden--visually\" id=\"sk-estimator-id-7\" type=\"checkbox\" checked><label for=\"sk-estimator-id-7\" class=\"sk-toggleable__label sk-toggleable__label-arrow\">XGBRegressor</label><div class=\"sk-toggleable__content\"><pre>XGBRegressor(base_score=None, booster=None, callbacks=None,\n",
       "             colsample_bylevel=None, colsample_bynode=None,\n",
       "             colsample_bytree=None, early_stopping_rounds=None,\n",
       "             enable_categorical=False, eval_metric=None, feature_types=None,\n",
       "             gamma=4, gpu_id=None, grow_policy=None, importance_type=None,\n",
       "             interaction_constraints=None, learning_rate=0.01, max_bin=None,\n",
       "             max_cat_threshold=None, max_cat_to_onehot=None,\n",
       "             max_delta_step=None, max_depth=5, max_leaves=None,\n",
       "             min_child_weight=None, missing=nan, monotone_constraints=None,\n",
       "             n_estimators=3000, n_jobs=None, num_parallel_tree=None,\n",
       "             predictor=None, random_state=1, ...)</pre></div></div></div></div></div>"
      ],
      "text/plain": [
       "XGBRegressor(base_score=None, booster=None, callbacks=None,\n",
       "             colsample_bylevel=None, colsample_bynode=None,\n",
       "             colsample_bytree=None, early_stopping_rounds=None,\n",
       "             enable_categorical=False, eval_metric=None, feature_types=None,\n",
       "             gamma=4, gpu_id=None, grow_policy=None, importance_type=None,\n",
       "             interaction_constraints=None, learning_rate=0.01, max_bin=None,\n",
       "             max_cat_threshold=None, max_cat_to_onehot=None,\n",
       "             max_delta_step=None, max_depth=5, max_leaves=None,\n",
       "             min_child_weight=None, missing=nan, monotone_constraints=None,\n",
       "             n_estimators=3000, n_jobs=None, num_parallel_tree=None,\n",
       "             predictor=None, random_state=1, ...)"
      ]
     },
     "execution_count": 98,
     "metadata": {},
     "output_type": "execute_result"
    }
   ],
   "source": [
    "# Final XGBoost model with optimal parameters\n",
    "xgb_model = XGBRegressor(subsample = 0.5, reg_lambda = 0.1,\n",
    "                         n_estimators = 3000, max_depth = 5,\n",
    "                         learning_rate = 0.01, gamma = 4, random_state = 1)\n",
    "xgb_model.fit(X_train, y_train)"
   ]
  },
  {
   "cell_type": "code",
   "execution_count": 99,
   "id": "UlbvcVzd9jqY",
   "metadata": {
    "colab": {
     "base_uri": "https://localhost:8080/"
    },
    "id": "UlbvcVzd9jqY",
    "outputId": "3a497e35-c745-4d4f-b9a0-d3e05d664a13"
   },
   "outputs": [
    {
     "name": "stdout",
     "output_type": "stream",
     "text": [
      "MAE:  0.40654860944217375\n"
     ]
    }
   ],
   "source": [
    "# XGBoost test MAE\n",
    "xgb_pred = xgb_model.predict(X_test)\n",
    "print('MAE: ', mean_absolute_error(xgb_pred, y_test))"
   ]
  },
  {
   "cell_type": "code",
   "execution_count": 103,
   "id": "1qKMAHLJ96Rk",
   "metadata": {
    "colab": {
     "base_uri": "https://localhost:8080/",
     "height": 204
    },
    "id": "1qKMAHLJ96Rk",
    "outputId": "10ec0c0b-dc30-407a-b540-5c2b30d8fb34"
   },
   "outputs": [
    {
     "data": {
      "text/html": [
       "\n",
       "  <div id=\"df-381436d8-8898-46f9-8d74-cbec20e482e3\">\n",
       "    <div class=\"colab-df-container\">\n",
       "      <div>\n",
       "<style scoped>\n",
       "    .dataframe tbody tr th:only-of-type {\n",
       "        vertical-align: middle;\n",
       "    }\n",
       "\n",
       "    .dataframe tbody tr th {\n",
       "        vertical-align: top;\n",
       "    }\n",
       "\n",
       "    .dataframe thead th {\n",
       "        text-align: right;\n",
       "    }\n",
       "</style>\n",
       "<table border=\"1\" class=\"dataframe\">\n",
       "  <thead>\n",
       "    <tr style=\"text-align: right;\">\n",
       "      <th></th>\n",
       "      <th>predictor</th>\n",
       "      <th>importance</th>\n",
       "    </tr>\n",
       "  </thead>\n",
       "  <tbody>\n",
       "    <tr>\n",
       "      <th>0</th>\n",
       "      <td>OBPM</td>\n",
       "      <td>0.295606</td>\n",
       "    </tr>\n",
       "    <tr>\n",
       "      <th>1</th>\n",
       "      <td>WS/48</td>\n",
       "      <td>0.266708</td>\n",
       "    </tr>\n",
       "    <tr>\n",
       "      <th>2</th>\n",
       "      <td>BPM</td>\n",
       "      <td>0.066346</td>\n",
       "    </tr>\n",
       "    <tr>\n",
       "      <th>3</th>\n",
       "      <td>USG%</td>\n",
       "      <td>0.059370</td>\n",
       "    </tr>\n",
       "    <tr>\n",
       "      <th>4</th>\n",
       "      <td>WS</td>\n",
       "      <td>0.032284</td>\n",
       "    </tr>\n",
       "  </tbody>\n",
       "</table>\n",
       "</div>\n",
       "      <button class=\"colab-df-convert\" onclick=\"convertToInteractive('df-381436d8-8898-46f9-8d74-cbec20e482e3')\"\n",
       "              title=\"Convert this dataframe to an interactive table.\"\n",
       "              style=\"display:none;\">\n",
       "        \n",
       "  <svg xmlns=\"http://www.w3.org/2000/svg\" height=\"24px\"viewBox=\"0 0 24 24\"\n",
       "       width=\"24px\">\n",
       "    <path d=\"M0 0h24v24H0V0z\" fill=\"none\"/>\n",
       "    <path d=\"M18.56 5.44l.94 2.06.94-2.06 2.06-.94-2.06-.94-.94-2.06-.94 2.06-2.06.94zm-11 1L8.5 8.5l.94-2.06 2.06-.94-2.06-.94L8.5 2.5l-.94 2.06-2.06.94zm10 10l.94 2.06.94-2.06 2.06-.94-2.06-.94-.94-2.06-.94 2.06-2.06.94z\"/><path d=\"M17.41 7.96l-1.37-1.37c-.4-.4-.92-.59-1.43-.59-.52 0-1.04.2-1.43.59L10.3 9.45l-7.72 7.72c-.78.78-.78 2.05 0 2.83L4 21.41c.39.39.9.59 1.41.59.51 0 1.02-.2 1.41-.59l7.78-7.78 2.81-2.81c.8-.78.8-2.07 0-2.86zM5.41 20L4 18.59l7.72-7.72 1.47 1.35L5.41 20z\"/>\n",
       "  </svg>\n",
       "      </button>\n",
       "      \n",
       "  <style>\n",
       "    .colab-df-container {\n",
       "      display:flex;\n",
       "      flex-wrap:wrap;\n",
       "      gap: 12px;\n",
       "    }\n",
       "\n",
       "    .colab-df-convert {\n",
       "      background-color: #E8F0FE;\n",
       "      border: none;\n",
       "      border-radius: 50%;\n",
       "      cursor: pointer;\n",
       "      display: none;\n",
       "      fill: #1967D2;\n",
       "      height: 32px;\n",
       "      padding: 0 0 0 0;\n",
       "      width: 32px;\n",
       "    }\n",
       "\n",
       "    .colab-df-convert:hover {\n",
       "      background-color: #E2EBFA;\n",
       "      box-shadow: 0px 1px 2px rgba(60, 64, 67, 0.3), 0px 1px 3px 1px rgba(60, 64, 67, 0.15);\n",
       "      fill: #174EA6;\n",
       "    }\n",
       "\n",
       "    [theme=dark] .colab-df-convert {\n",
       "      background-color: #3B4455;\n",
       "      fill: #D2E3FC;\n",
       "    }\n",
       "\n",
       "    [theme=dark] .colab-df-convert:hover {\n",
       "      background-color: #434B5C;\n",
       "      box-shadow: 0px 1px 3px 1px rgba(0, 0, 0, 0.15);\n",
       "      filter: drop-shadow(0px 1px 2px rgba(0, 0, 0, 0.3));\n",
       "      fill: #FFFFFF;\n",
       "    }\n",
       "  </style>\n",
       "\n",
       "      <script>\n",
       "        const buttonEl =\n",
       "          document.querySelector('#df-381436d8-8898-46f9-8d74-cbec20e482e3 button.colab-df-convert');\n",
       "        buttonEl.style.display =\n",
       "          google.colab.kernel.accessAllowed ? 'block' : 'none';\n",
       "\n",
       "        async function convertToInteractive(key) {\n",
       "          const element = document.querySelector('#df-381436d8-8898-46f9-8d74-cbec20e482e3');\n",
       "          const dataTable =\n",
       "            await google.colab.kernel.invokeFunction('convertToInteractive',\n",
       "                                                     [key], {});\n",
       "          if (!dataTable) return;\n",
       "\n",
       "          const docLinkHtml = 'Like what you see? Visit the ' +\n",
       "            '<a target=\"_blank\" href=https://colab.research.google.com/notebooks/data_table.ipynb>data table notebook</a>'\n",
       "            + ' to learn more about interactive tables.';\n",
       "          element.innerHTML = '';\n",
       "          dataTable['output_type'] = 'display_data';\n",
       "          await google.colab.output.renderOutput(dataTable, element);\n",
       "          const docLink = document.createElement('div');\n",
       "          docLink.innerHTML = docLinkHtml;\n",
       "          element.appendChild(docLink);\n",
       "        }\n",
       "      </script>\n",
       "    </div>\n",
       "  </div>\n",
       "  "
      ],
      "text/plain": [
       "  predictor  importance\n",
       "0      OBPM    0.295606\n",
       "1     WS/48    0.266708\n",
       "2       BPM    0.066346\n",
       "3      USG%    0.059370\n",
       "4        WS    0.032284"
      ]
     },
     "execution_count": 103,
     "metadata": {},
     "output_type": "execute_result"
    }
   ],
   "source": [
    "# XGBoost feature importance\n",
    "feat_imp = pd.DataFrame(columns = ['predictor', 'importance'])\n",
    "imps = xgb_model.feature_importances_\n",
    "\n",
    "feat_imp.loc[:,'predictor'] = X.columns\n",
    "feat_imp.loc[:,'importance'] = imps\n",
    "\n",
    "feat_imp.sort_values(by = 'importance', ascending = False).reset_index(drop = True).head()"
   ]
  },
  {
   "cell_type": "markdown",
   "id": "a221dcc6",
   "metadata": {
    "id": "a221dcc6"
   },
   "source": [
    "## Model Ensemble "
   ]
  },
  {
   "attachments": {},
   "cell_type": "markdown",
   "id": "961bcb1d",
   "metadata": {
    "id": "961bcb1d"
   },
   "source": [
    "### Voting ensemble\n",
    "\n",
    "Now we will assemble our tuned models into powerful ensembles and witness the symphony of predictions.\n",
    "\n",
    "Voting Ensemble Reprise\n",
    "The voting ensemble, comprising XGBoost, MARS, Decision Tree, Random Forest, and Bagged Trees, orchestrates a test MAE of 0.5821. It gracefully blends the diverse predictions of its members."
   ]
  },
  {
   "cell_type": "code",
   "execution_count": 104,
   "id": "7VR9jVymCYZX",
   "metadata": {
    "colab": {
     "base_uri": "https://localhost:8080/",
     "height": 201
    },
    "id": "7VR9jVymCYZX",
    "outputId": "54a73b7f-e7aa-449e-9f18-99181d01c929"
   },
   "outputs": [
    {
     "data": {
      "text/html": [
       "<style>#sk-container-id-6 {color: black;background-color: white;}#sk-container-id-6 pre{padding: 0;}#sk-container-id-6 div.sk-toggleable {background-color: white;}#sk-container-id-6 label.sk-toggleable__label {cursor: pointer;display: block;width: 100%;margin-bottom: 0;padding: 0.3em;box-sizing: border-box;text-align: center;}#sk-container-id-6 label.sk-toggleable__label-arrow:before {content: \"▸\";float: left;margin-right: 0.25em;color: #696969;}#sk-container-id-6 label.sk-toggleable__label-arrow:hover:before {color: black;}#sk-container-id-6 div.sk-estimator:hover label.sk-toggleable__label-arrow:before {color: black;}#sk-container-id-6 div.sk-toggleable__content {max-height: 0;max-width: 0;overflow: hidden;text-align: left;background-color: #f0f8ff;}#sk-container-id-6 div.sk-toggleable__content pre {margin: 0.2em;color: black;border-radius: 0.25em;background-color: #f0f8ff;}#sk-container-id-6 input.sk-toggleable__control:checked~div.sk-toggleable__content {max-height: 200px;max-width: 100%;overflow: auto;}#sk-container-id-6 input.sk-toggleable__control:checked~label.sk-toggleable__label-arrow:before {content: \"▾\";}#sk-container-id-6 div.sk-estimator input.sk-toggleable__control:checked~label.sk-toggleable__label {background-color: #d4ebff;}#sk-container-id-6 div.sk-label input.sk-toggleable__control:checked~label.sk-toggleable__label {background-color: #d4ebff;}#sk-container-id-6 input.sk-hidden--visually {border: 0;clip: rect(1px 1px 1px 1px);clip: rect(1px, 1px, 1px, 1px);height: 1px;margin: -1px;overflow: hidden;padding: 0;position: absolute;width: 1px;}#sk-container-id-6 div.sk-estimator {font-family: monospace;background-color: #f0f8ff;border: 1px dotted black;border-radius: 0.25em;box-sizing: border-box;margin-bottom: 0.5em;}#sk-container-id-6 div.sk-estimator:hover {background-color: #d4ebff;}#sk-container-id-6 div.sk-parallel-item::after {content: \"\";width: 100%;border-bottom: 1px solid gray;flex-grow: 1;}#sk-container-id-6 div.sk-label:hover label.sk-toggleable__label {background-color: #d4ebff;}#sk-container-id-6 div.sk-serial::before {content: \"\";position: absolute;border-left: 1px solid gray;box-sizing: border-box;top: 0;bottom: 0;left: 50%;z-index: 0;}#sk-container-id-6 div.sk-serial {display: flex;flex-direction: column;align-items: center;background-color: white;padding-right: 0.2em;padding-left: 0.2em;position: relative;}#sk-container-id-6 div.sk-item {position: relative;z-index: 1;}#sk-container-id-6 div.sk-parallel {display: flex;align-items: stretch;justify-content: center;background-color: white;position: relative;}#sk-container-id-6 div.sk-item::before, #sk-container-id-6 div.sk-parallel-item::before {content: \"\";position: absolute;border-left: 1px solid gray;box-sizing: border-box;top: 0;bottom: 0;left: 50%;z-index: -1;}#sk-container-id-6 div.sk-parallel-item {display: flex;flex-direction: column;z-index: 1;position: relative;background-color: white;}#sk-container-id-6 div.sk-parallel-item:first-child::after {align-self: flex-end;width: 50%;}#sk-container-id-6 div.sk-parallel-item:last-child::after {align-self: flex-start;width: 50%;}#sk-container-id-6 div.sk-parallel-item:only-child::after {width: 0;}#sk-container-id-6 div.sk-dashed-wrapped {border: 1px dashed gray;margin: 0 0.4em 0.5em 0.4em;box-sizing: border-box;padding-bottom: 0.4em;background-color: white;}#sk-container-id-6 div.sk-label label {font-family: monospace;font-weight: bold;display: inline-block;line-height: 1.2em;}#sk-container-id-6 div.sk-label-container {text-align: center;}#sk-container-id-6 div.sk-container {/* jupyter's `normalize.less` sets `[hidden] { display: none; }` but bootstrap.min.css set `[hidden] { display: none !important; }` so we also need the `!important` here to be able to override the default hidden behavior on the sphinx rendered scikit-learn.org. See: https://github.com/scikit-learn/scikit-learn/issues/21755 */display: inline-block !important;position: relative;}#sk-container-id-6 div.sk-text-repr-fallback {display: none;}</style><div id=\"sk-container-id-6\" class=\"sk-top-container\"><div class=\"sk-text-repr-fallback\"><pre>VotingRegressor(estimators=[(&#x27;xgb&#x27;,\n",
       "                             XGBRegressor(base_score=None, booster=None,\n",
       "                                          callbacks=None,\n",
       "                                          colsample_bylevel=None,\n",
       "                                          colsample_bynode=None,\n",
       "                                          colsample_bytree=None,\n",
       "                                          early_stopping_rounds=None,\n",
       "                                          enable_categorical=False,\n",
       "                                          eval_metric=None, feature_types=None,\n",
       "                                          gamma=4, gpu_id=None,\n",
       "                                          grow_policy=None,\n",
       "                                          importance_type=None,\n",
       "                                          interaction_constraints=None,\n",
       "                                          learning_rate=0....\n",
       "                             DecisionTreeRegressor(max_depth=13,\n",
       "                                                   max_leaf_nodes=620,\n",
       "                                                   random_state=1)),\n",
       "                            (&#x27;rf&#x27;,\n",
       "                             RandomForestRegressor(max_depth=40,\n",
       "                                                   max_features=40,\n",
       "                                                   max_leaf_nodes=2000,\n",
       "                                                   n_estimators=199, n_jobs=-1,\n",
       "                                                   oob_score=True,\n",
       "                                                   random_state=1)),\n",
       "                            (&#x27;br&#x27;,\n",
       "                             BaggingRegressor(base_estimator=DecisionTreeRegressor(random_state=1),\n",
       "                                              bootstrap=False, max_features=0.8,\n",
       "                                              max_samples=0.8,\n",
       "                                              n_estimators=1200, n_jobs=-1,\n",
       "                                              random_state=1))])</pre><b>In a Jupyter environment, please rerun this cell to show the HTML representation or trust the notebook. <br />On GitHub, the HTML representation is unable to render, please try loading this page with nbviewer.org.</b></div><div class=\"sk-container\" hidden><div class=\"sk-item sk-dashed-wrapped\"><div class=\"sk-label-container\"><div class=\"sk-label sk-toggleable\"><input class=\"sk-toggleable__control sk-hidden--visually\" id=\"sk-estimator-id-8\" type=\"checkbox\" ><label for=\"sk-estimator-id-8\" class=\"sk-toggleable__label sk-toggleable__label-arrow\">VotingRegressor</label><div class=\"sk-toggleable__content\"><pre>VotingRegressor(estimators=[(&#x27;xgb&#x27;,\n",
       "                             XGBRegressor(base_score=None, booster=None,\n",
       "                                          callbacks=None,\n",
       "                                          colsample_bylevel=None,\n",
       "                                          colsample_bynode=None,\n",
       "                                          colsample_bytree=None,\n",
       "                                          early_stopping_rounds=None,\n",
       "                                          enable_categorical=False,\n",
       "                                          eval_metric=None, feature_types=None,\n",
       "                                          gamma=4, gpu_id=None,\n",
       "                                          grow_policy=None,\n",
       "                                          importance_type=None,\n",
       "                                          interaction_constraints=None,\n",
       "                                          learning_rate=0....\n",
       "                             DecisionTreeRegressor(max_depth=13,\n",
       "                                                   max_leaf_nodes=620,\n",
       "                                                   random_state=1)),\n",
       "                            (&#x27;rf&#x27;,\n",
       "                             RandomForestRegressor(max_depth=40,\n",
       "                                                   max_features=40,\n",
       "                                                   max_leaf_nodes=2000,\n",
       "                                                   n_estimators=199, n_jobs=-1,\n",
       "                                                   oob_score=True,\n",
       "                                                   random_state=1)),\n",
       "                            (&#x27;br&#x27;,\n",
       "                             BaggingRegressor(base_estimator=DecisionTreeRegressor(random_state=1),\n",
       "                                              bootstrap=False, max_features=0.8,\n",
       "                                              max_samples=0.8,\n",
       "                                              n_estimators=1200, n_jobs=-1,\n",
       "                                              random_state=1))])</pre></div></div></div><div class=\"sk-parallel\"><div class=\"sk-parallel-item\"><div class=\"sk-item\"><div class=\"sk-label-container\"><div class=\"sk-label sk-toggleable\"><label>xgb</label></div></div><div class=\"sk-serial\"><div class=\"sk-item\"><div class=\"sk-estimator sk-toggleable\"><input class=\"sk-toggleable__control sk-hidden--visually\" id=\"sk-estimator-id-9\" type=\"checkbox\" ><label for=\"sk-estimator-id-9\" class=\"sk-toggleable__label sk-toggleable__label-arrow\">XGBRegressor</label><div class=\"sk-toggleable__content\"><pre>XGBRegressor(base_score=None, booster=None, callbacks=None,\n",
       "             colsample_bylevel=None, colsample_bynode=None,\n",
       "             colsample_bytree=None, early_stopping_rounds=None,\n",
       "             enable_categorical=False, eval_metric=None, feature_types=None,\n",
       "             gamma=4, gpu_id=None, grow_policy=None, importance_type=None,\n",
       "             interaction_constraints=None, learning_rate=0.01, max_bin=None,\n",
       "             max_cat_threshold=None, max_cat_to_onehot=None,\n",
       "             max_delta_step=None, max_depth=5, max_leaves=None,\n",
       "             min_child_weight=None, missing=nan, monotone_constraints=None,\n",
       "             n_estimators=3000, n_jobs=None, num_parallel_tree=None,\n",
       "             predictor=None, random_state=1, ...)</pre></div></div></div></div></div></div><div class=\"sk-parallel-item\"><div class=\"sk-item\"><div class=\"sk-label-container\"><div class=\"sk-label sk-toggleable\"><label>mars</label></div></div><div class=\"sk-serial\"><div class=\"sk-item\"><div class=\"sk-estimator sk-toggleable\"><input class=\"sk-toggleable__control sk-hidden--visually\" id=\"sk-estimator-id-10\" type=\"checkbox\" ><label for=\"sk-estimator-id-10\" class=\"sk-toggleable__label sk-toggleable__label-arrow\">Earth</label><div class=\"sk-toggleable__content\"><pre>Earth(feature_importance_type=&#x27;rss&#x27;, max_degree=3, max_terms=500)</pre></div></div></div></div></div></div><div class=\"sk-parallel-item\"><div class=\"sk-item\"><div class=\"sk-label-container\"><div class=\"sk-label sk-toggleable\"><label>dt</label></div></div><div class=\"sk-serial\"><div class=\"sk-item\"><div class=\"sk-estimator sk-toggleable\"><input class=\"sk-toggleable__control sk-hidden--visually\" id=\"sk-estimator-id-11\" type=\"checkbox\" ><label for=\"sk-estimator-id-11\" class=\"sk-toggleable__label sk-toggleable__label-arrow\">DecisionTreeRegressor</label><div class=\"sk-toggleable__content\"><pre>DecisionTreeRegressor(max_depth=13, max_leaf_nodes=620, random_state=1)</pre></div></div></div></div></div></div><div class=\"sk-parallel-item\"><div class=\"sk-item\"><div class=\"sk-label-container\"><div class=\"sk-label sk-toggleable\"><label>rf</label></div></div><div class=\"sk-serial\"><div class=\"sk-item\"><div class=\"sk-estimator sk-toggleable\"><input class=\"sk-toggleable__control sk-hidden--visually\" id=\"sk-estimator-id-12\" type=\"checkbox\" ><label for=\"sk-estimator-id-12\" class=\"sk-toggleable__label sk-toggleable__label-arrow\">RandomForestRegressor</label><div class=\"sk-toggleable__content\"><pre>RandomForestRegressor(max_depth=40, max_features=40, max_leaf_nodes=2000,\n",
       "                      n_estimators=199, n_jobs=-1, oob_score=True,\n",
       "                      random_state=1)</pre></div></div></div></div></div></div><div class=\"sk-parallel-item\"><div class=\"sk-item\"><div class=\"sk-label-container\"><div class=\"sk-label sk-toggleable\"><label>br</label></div></div><div class=\"sk-serial\"><div class=\"sk-item sk-dashed-wrapped\"><div class=\"sk-parallel\"><div class=\"sk-parallel-item\"><div class=\"sk-item\"><div class=\"sk-label-container\"><div class=\"sk-label sk-toggleable\"><input class=\"sk-toggleable__control sk-hidden--visually\" id=\"sk-estimator-id-13\" type=\"checkbox\" ><label for=\"sk-estimator-id-13\" class=\"sk-toggleable__label sk-toggleable__label-arrow\">base_estimator: DecisionTreeRegressor</label><div class=\"sk-toggleable__content\"><pre>DecisionTreeRegressor(random_state=1)</pre></div></div></div><div class=\"sk-serial\"><div class=\"sk-item\"><div class=\"sk-estimator sk-toggleable\"><input class=\"sk-toggleable__control sk-hidden--visually\" id=\"sk-estimator-id-14\" type=\"checkbox\" ><label for=\"sk-estimator-id-14\" class=\"sk-toggleable__label sk-toggleable__label-arrow\">DecisionTreeRegressor</label><div class=\"sk-toggleable__content\"><pre>DecisionTreeRegressor(random_state=1)</pre></div></div></div></div></div></div></div></div></div></div></div></div></div></div></div>"
      ],
      "text/plain": [
       "VotingRegressor(estimators=[('xgb',\n",
       "                             XGBRegressor(base_score=None, booster=None,\n",
       "                                          callbacks=None,\n",
       "                                          colsample_bylevel=None,\n",
       "                                          colsample_bynode=None,\n",
       "                                          colsample_bytree=None,\n",
       "                                          early_stopping_rounds=None,\n",
       "                                          enable_categorical=False,\n",
       "                                          eval_metric=None, feature_types=None,\n",
       "                                          gamma=4, gpu_id=None,\n",
       "                                          grow_policy=None,\n",
       "                                          importance_type=None,\n",
       "                                          interaction_constraints=None,\n",
       "                                          learning_rate=0....\n",
       "                             DecisionTreeRegressor(max_depth=13,\n",
       "                                                   max_leaf_nodes=620,\n",
       "                                                   random_state=1)),\n",
       "                            ('rf',\n",
       "                             RandomForestRegressor(max_depth=40,\n",
       "                                                   max_features=40,\n",
       "                                                   max_leaf_nodes=2000,\n",
       "                                                   n_estimators=199, n_jobs=-1,\n",
       "                                                   oob_score=True,\n",
       "                                                   random_state=1)),\n",
       "                            ('br',\n",
       "                             BaggingRegressor(base_estimator=DecisionTreeRegressor(random_state=1),\n",
       "                                              bootstrap=False, max_features=0.8,\n",
       "                                              max_samples=0.8,\n",
       "                                              n_estimators=1200, n_jobs=-1,\n",
       "                                              random_state=1))])"
      ]
     },
     "execution_count": 104,
     "metadata": {},
     "output_type": "execute_result"
    }
   ],
   "source": [
    "# Voting ensemble\n",
    "ve = VotingRegressor(estimators=[('xgb', xgb_model), ('mars', mars_model),\n",
    "                                 ('dt', dt_model),('rf', rf_model),\n",
    "                                 ('br', br_model)])\n",
    "ve.fit(X_train, y_train)"
   ]
  },
  {
   "cell_type": "code",
   "execution_count": 105,
   "id": "567LEFC1C3Rn",
   "metadata": {
    "colab": {
     "base_uri": "https://localhost:8080/"
    },
    "id": "567LEFC1C3Rn",
    "outputId": "f99a3aa1-1467-4aa4-9557-61ddfe6e49db"
   },
   "outputs": [
    {
     "name": "stdout",
     "output_type": "stream",
     "text": [
      "MAE:  0.5820726171145701\n"
     ]
    }
   ],
   "source": [
    "# Voting ensemble test MAE\n",
    "ve_preds = ve.predict(X_test)\n",
    "print('MAE: ', mean_absolute_error(ve_preds, y_test))"
   ]
  },
  {
   "attachments": {},
   "cell_type": "markdown",
   "id": "ca651ba0",
   "metadata": {
    "id": "ca651ba0"
   },
   "source": [
    "### Stacking Ensembles\n",
    "\n",
    "Our stacking ensembles, each with its distinctive metamodel, unveil their prowess. The bagged tree metamodel achieves a test MAE of 0.3804, the XGBoost metamodel boasts a MAE of 0.3736, while the MARS metamodel takes the lead with the lowest test MAE of 0.3496.\n",
    "\n",
    "**Stacking Ensemble with Bagged Tree Final Estimator:**"
   ]
  },
  {
   "cell_type": "code",
   "execution_count": 111,
   "id": "oIqWVzXmHXkn",
   "metadata": {
    "colab": {
     "base_uri": "https://localhost:8080/",
     "height": 293
    },
    "id": "oIqWVzXmHXkn",
    "outputId": "87e09847-e895-4b06-c486-1180179ab163"
   },
   "outputs": [
    {
     "data": {
      "text/html": [
       "<style>#sk-container-id-8 {color: black;background-color: white;}#sk-container-id-8 pre{padding: 0;}#sk-container-id-8 div.sk-toggleable {background-color: white;}#sk-container-id-8 label.sk-toggleable__label {cursor: pointer;display: block;width: 100%;margin-bottom: 0;padding: 0.3em;box-sizing: border-box;text-align: center;}#sk-container-id-8 label.sk-toggleable__label-arrow:before {content: \"▸\";float: left;margin-right: 0.25em;color: #696969;}#sk-container-id-8 label.sk-toggleable__label-arrow:hover:before {color: black;}#sk-container-id-8 div.sk-estimator:hover label.sk-toggleable__label-arrow:before {color: black;}#sk-container-id-8 div.sk-toggleable__content {max-height: 0;max-width: 0;overflow: hidden;text-align: left;background-color: #f0f8ff;}#sk-container-id-8 div.sk-toggleable__content pre {margin: 0.2em;color: black;border-radius: 0.25em;background-color: #f0f8ff;}#sk-container-id-8 input.sk-toggleable__control:checked~div.sk-toggleable__content {max-height: 200px;max-width: 100%;overflow: auto;}#sk-container-id-8 input.sk-toggleable__control:checked~label.sk-toggleable__label-arrow:before {content: \"▾\";}#sk-container-id-8 div.sk-estimator input.sk-toggleable__control:checked~label.sk-toggleable__label {background-color: #d4ebff;}#sk-container-id-8 div.sk-label input.sk-toggleable__control:checked~label.sk-toggleable__label {background-color: #d4ebff;}#sk-container-id-8 input.sk-hidden--visually {border: 0;clip: rect(1px 1px 1px 1px);clip: rect(1px, 1px, 1px, 1px);height: 1px;margin: -1px;overflow: hidden;padding: 0;position: absolute;width: 1px;}#sk-container-id-8 div.sk-estimator {font-family: monospace;background-color: #f0f8ff;border: 1px dotted black;border-radius: 0.25em;box-sizing: border-box;margin-bottom: 0.5em;}#sk-container-id-8 div.sk-estimator:hover {background-color: #d4ebff;}#sk-container-id-8 div.sk-parallel-item::after {content: \"\";width: 100%;border-bottom: 1px solid gray;flex-grow: 1;}#sk-container-id-8 div.sk-label:hover label.sk-toggleable__label {background-color: #d4ebff;}#sk-container-id-8 div.sk-serial::before {content: \"\";position: absolute;border-left: 1px solid gray;box-sizing: border-box;top: 0;bottom: 0;left: 50%;z-index: 0;}#sk-container-id-8 div.sk-serial {display: flex;flex-direction: column;align-items: center;background-color: white;padding-right: 0.2em;padding-left: 0.2em;position: relative;}#sk-container-id-8 div.sk-item {position: relative;z-index: 1;}#sk-container-id-8 div.sk-parallel {display: flex;align-items: stretch;justify-content: center;background-color: white;position: relative;}#sk-container-id-8 div.sk-item::before, #sk-container-id-8 div.sk-parallel-item::before {content: \"\";position: absolute;border-left: 1px solid gray;box-sizing: border-box;top: 0;bottom: 0;left: 50%;z-index: -1;}#sk-container-id-8 div.sk-parallel-item {display: flex;flex-direction: column;z-index: 1;position: relative;background-color: white;}#sk-container-id-8 div.sk-parallel-item:first-child::after {align-self: flex-end;width: 50%;}#sk-container-id-8 div.sk-parallel-item:last-child::after {align-self: flex-start;width: 50%;}#sk-container-id-8 div.sk-parallel-item:only-child::after {width: 0;}#sk-container-id-8 div.sk-dashed-wrapped {border: 1px dashed gray;margin: 0 0.4em 0.5em 0.4em;box-sizing: border-box;padding-bottom: 0.4em;background-color: white;}#sk-container-id-8 div.sk-label label {font-family: monospace;font-weight: bold;display: inline-block;line-height: 1.2em;}#sk-container-id-8 div.sk-label-container {text-align: center;}#sk-container-id-8 div.sk-container {/* jupyter's `normalize.less` sets `[hidden] { display: none; }` but bootstrap.min.css set `[hidden] { display: none !important; }` so we also need the `!important` here to be able to override the default hidden behavior on the sphinx rendered scikit-learn.org. See: https://github.com/scikit-learn/scikit-learn/issues/21755 */display: inline-block !important;position: relative;}#sk-container-id-8 div.sk-text-repr-fallback {display: none;}</style><div id=\"sk-container-id-8\" class=\"sk-top-container\"><div class=\"sk-text-repr-fallback\"><pre>StackingRegressor(cv=KFold(n_splits=5, random_state=1, shuffle=True),\n",
       "                  estimators=[(&#x27;xgb&#x27;,\n",
       "                               XGBRegressor(base_score=None, booster=None,\n",
       "                                            callbacks=None,\n",
       "                                            colsample_bylevel=None,\n",
       "                                            colsample_bynode=None,\n",
       "                                            colsample_bytree=None,\n",
       "                                            early_stopping_rounds=None,\n",
       "                                            enable_categorical=False,\n",
       "                                            eval_metric=None,\n",
       "                                            feature_types=None, gamma=4,\n",
       "                                            gpu_id=None, grow_policy=None,\n",
       "                                            importance_type...\n",
       "                                                     max_features=40,\n",
       "                                                     max_leaf_nodes=2000,\n",
       "                                                     n_estimators=199,\n",
       "                                                     n_jobs=-1, oob_score=True,\n",
       "                                                     random_state=1)),\n",
       "                              (&#x27;br&#x27;,\n",
       "                               BaggingRegressor(base_estimator=DecisionTreeRegressor(random_state=1),\n",
       "                                                bootstrap=False,\n",
       "                                                max_features=0.8,\n",
       "                                                max_samples=0.8,\n",
       "                                                n_estimators=1200, n_jobs=-1,\n",
       "                                                random_state=1))],\n",
       "                  final_estimator=BaggingRegressor(base_estimator=DecisionTreeRegressor(),\n",
       "                                                   n_jobs=-1, random_state=1))</pre><b>In a Jupyter environment, please rerun this cell to show the HTML representation or trust the notebook. <br />On GitHub, the HTML representation is unable to render, please try loading this page with nbviewer.org.</b></div><div class=\"sk-container\" hidden><div class=\"sk-item sk-dashed-wrapped\"><div class=\"sk-label-container\"><div class=\"sk-label sk-toggleable\"><input class=\"sk-toggleable__control sk-hidden--visually\" id=\"sk-estimator-id-23\" type=\"checkbox\" ><label for=\"sk-estimator-id-23\" class=\"sk-toggleable__label sk-toggleable__label-arrow\">StackingRegressor</label><div class=\"sk-toggleable__content\"><pre>StackingRegressor(cv=KFold(n_splits=5, random_state=1, shuffle=True),\n",
       "                  estimators=[(&#x27;xgb&#x27;,\n",
       "                               XGBRegressor(base_score=None, booster=None,\n",
       "                                            callbacks=None,\n",
       "                                            colsample_bylevel=None,\n",
       "                                            colsample_bynode=None,\n",
       "                                            colsample_bytree=None,\n",
       "                                            early_stopping_rounds=None,\n",
       "                                            enable_categorical=False,\n",
       "                                            eval_metric=None,\n",
       "                                            feature_types=None, gamma=4,\n",
       "                                            gpu_id=None, grow_policy=None,\n",
       "                                            importance_type...\n",
       "                                                     max_features=40,\n",
       "                                                     max_leaf_nodes=2000,\n",
       "                                                     n_estimators=199,\n",
       "                                                     n_jobs=-1, oob_score=True,\n",
       "                                                     random_state=1)),\n",
       "                              (&#x27;br&#x27;,\n",
       "                               BaggingRegressor(base_estimator=DecisionTreeRegressor(random_state=1),\n",
       "                                                bootstrap=False,\n",
       "                                                max_features=0.8,\n",
       "                                                max_samples=0.8,\n",
       "                                                n_estimators=1200, n_jobs=-1,\n",
       "                                                random_state=1))],\n",
       "                  final_estimator=BaggingRegressor(base_estimator=DecisionTreeRegressor(),\n",
       "                                                   n_jobs=-1, random_state=1))</pre></div></div></div><div class=\"sk-serial\"><div class=\"sk-item\"><div class=\"sk-parallel\"><div class=\"sk-parallel-item\"><div class=\"sk-item\"><div class=\"sk-label-container\"><div class=\"sk-label sk-toggleable\"><label>xgb</label></div></div><div class=\"sk-serial\"><div class=\"sk-item\"><div class=\"sk-estimator sk-toggleable\"><input class=\"sk-toggleable__control sk-hidden--visually\" id=\"sk-estimator-id-24\" type=\"checkbox\" ><label for=\"sk-estimator-id-24\" class=\"sk-toggleable__label sk-toggleable__label-arrow\">XGBRegressor</label><div class=\"sk-toggleable__content\"><pre>XGBRegressor(base_score=None, booster=None, callbacks=None,\n",
       "             colsample_bylevel=None, colsample_bynode=None,\n",
       "             colsample_bytree=None, early_stopping_rounds=None,\n",
       "             enable_categorical=False, eval_metric=None, feature_types=None,\n",
       "             gamma=4, gpu_id=None, grow_policy=None, importance_type=None,\n",
       "             interaction_constraints=None, learning_rate=0.01, max_bin=None,\n",
       "             max_cat_threshold=None, max_cat_to_onehot=None,\n",
       "             max_delta_step=None, max_depth=5, max_leaves=None,\n",
       "             min_child_weight=None, missing=nan, monotone_constraints=None,\n",
       "             n_estimators=3000, n_jobs=None, num_parallel_tree=None,\n",
       "             predictor=None, random_state=1, ...)</pre></div></div></div></div></div></div><div class=\"sk-parallel-item\"><div class=\"sk-item\"><div class=\"sk-label-container\"><div class=\"sk-label sk-toggleable\"><label>mars</label></div></div><div class=\"sk-serial\"><div class=\"sk-item\"><div class=\"sk-estimator sk-toggleable\"><input class=\"sk-toggleable__control sk-hidden--visually\" id=\"sk-estimator-id-25\" type=\"checkbox\" ><label for=\"sk-estimator-id-25\" class=\"sk-toggleable__label sk-toggleable__label-arrow\">Earth</label><div class=\"sk-toggleable__content\"><pre>Earth(feature_importance_type=&#x27;rss&#x27;, max_degree=3, max_terms=500)</pre></div></div></div></div></div></div><div class=\"sk-parallel-item\"><div class=\"sk-item\"><div class=\"sk-label-container\"><div class=\"sk-label sk-toggleable\"><label>dt</label></div></div><div class=\"sk-serial\"><div class=\"sk-item\"><div class=\"sk-estimator sk-toggleable\"><input class=\"sk-toggleable__control sk-hidden--visually\" id=\"sk-estimator-id-26\" type=\"checkbox\" ><label for=\"sk-estimator-id-26\" class=\"sk-toggleable__label sk-toggleable__label-arrow\">DecisionTreeRegressor</label><div class=\"sk-toggleable__content\"><pre>DecisionTreeRegressor(max_depth=13, max_leaf_nodes=620, random_state=1)</pre></div></div></div></div></div></div><div class=\"sk-parallel-item\"><div class=\"sk-item\"><div class=\"sk-label-container\"><div class=\"sk-label sk-toggleable\"><label>rf</label></div></div><div class=\"sk-serial\"><div class=\"sk-item\"><div class=\"sk-estimator sk-toggleable\"><input class=\"sk-toggleable__control sk-hidden--visually\" id=\"sk-estimator-id-27\" type=\"checkbox\" ><label for=\"sk-estimator-id-27\" class=\"sk-toggleable__label sk-toggleable__label-arrow\">RandomForestRegressor</label><div class=\"sk-toggleable__content\"><pre>RandomForestRegressor(max_depth=40, max_features=40, max_leaf_nodes=2000,\n",
       "                      n_estimators=199, n_jobs=-1, oob_score=True,\n",
       "                      random_state=1)</pre></div></div></div></div></div></div><div class=\"sk-parallel-item\"><div class=\"sk-item\"><div class=\"sk-label-container\"><div class=\"sk-label sk-toggleable\"><label>br</label></div></div><div class=\"sk-serial\"><div class=\"sk-item sk-dashed-wrapped\"><div class=\"sk-parallel\"><div class=\"sk-parallel-item\"><div class=\"sk-item\"><div class=\"sk-label-container\"><div class=\"sk-label sk-toggleable\"><input class=\"sk-toggleable__control sk-hidden--visually\" id=\"sk-estimator-id-28\" type=\"checkbox\" ><label for=\"sk-estimator-id-28\" class=\"sk-toggleable__label sk-toggleable__label-arrow\">base_estimator: DecisionTreeRegressor</label><div class=\"sk-toggleable__content\"><pre>DecisionTreeRegressor(random_state=1)</pre></div></div></div><div class=\"sk-serial\"><div class=\"sk-item\"><div class=\"sk-estimator sk-toggleable\"><input class=\"sk-toggleable__control sk-hidden--visually\" id=\"sk-estimator-id-29\" type=\"checkbox\" ><label for=\"sk-estimator-id-29\" class=\"sk-toggleable__label sk-toggleable__label-arrow\">DecisionTreeRegressor</label><div class=\"sk-toggleable__content\"><pre>DecisionTreeRegressor(random_state=1)</pre></div></div></div></div></div></div></div></div></div></div></div></div></div><div class=\"sk-item\"><div class=\"sk-parallel\"><div class=\"sk-parallel-item\"><div class=\"sk-item\"><div class=\"sk-label-container\"><div class=\"sk-label sk-toggleable\"><label>final_estimator</label></div></div><div class=\"sk-serial\"><div class=\"sk-item sk-dashed-wrapped\"><div class=\"sk-parallel\"><div class=\"sk-parallel-item\"><div class=\"sk-item\"><div class=\"sk-label-container\"><div class=\"sk-label sk-toggleable\"><input class=\"sk-toggleable__control sk-hidden--visually\" id=\"sk-estimator-id-30\" type=\"checkbox\" ><label for=\"sk-estimator-id-30\" class=\"sk-toggleable__label sk-toggleable__label-arrow\">base_estimator: DecisionTreeRegressor</label><div class=\"sk-toggleable__content\"><pre>DecisionTreeRegressor()</pre></div></div></div><div class=\"sk-serial\"><div class=\"sk-item\"><div class=\"sk-estimator sk-toggleable\"><input class=\"sk-toggleable__control sk-hidden--visually\" id=\"sk-estimator-id-31\" type=\"checkbox\" ><label for=\"sk-estimator-id-31\" class=\"sk-toggleable__label sk-toggleable__label-arrow\">DecisionTreeRegressor</label><div class=\"sk-toggleable__content\"><pre>DecisionTreeRegressor()</pre></div></div></div></div></div></div></div></div></div></div></div></div></div></div></div></div></div>"
      ],
      "text/plain": [
       "StackingRegressor(cv=KFold(n_splits=5, random_state=1, shuffle=True),\n",
       "                  estimators=[('xgb',\n",
       "                               XGBRegressor(base_score=None, booster=None,\n",
       "                                            callbacks=None,\n",
       "                                            colsample_bylevel=None,\n",
       "                                            colsample_bynode=None,\n",
       "                                            colsample_bytree=None,\n",
       "                                            early_stopping_rounds=None,\n",
       "                                            enable_categorical=False,\n",
       "                                            eval_metric=None,\n",
       "                                            feature_types=None, gamma=4,\n",
       "                                            gpu_id=None, grow_policy=None,\n",
       "                                            importance_type...\n",
       "                                                     max_features=40,\n",
       "                                                     max_leaf_nodes=2000,\n",
       "                                                     n_estimators=199,\n",
       "                                                     n_jobs=-1, oob_score=True,\n",
       "                                                     random_state=1)),\n",
       "                              ('br',\n",
       "                               BaggingRegressor(base_estimator=DecisionTreeRegressor(random_state=1),\n",
       "                                                bootstrap=False,\n",
       "                                                max_features=0.8,\n",
       "                                                max_samples=0.8,\n",
       "                                                n_estimators=1200, n_jobs=-1,\n",
       "                                                random_state=1))],\n",
       "                  final_estimator=BaggingRegressor(base_estimator=DecisionTreeRegressor(),\n",
       "                                                   n_jobs=-1, random_state=1))"
      ]
     },
     "execution_count": 111,
     "metadata": {},
     "output_type": "execute_result"
    }
   ],
   "source": [
    "# Stacking ensemble with bagged final estimator\n",
    "cv = KFold(n_splits = 5, shuffle = True, random_state = 1)\n",
    "\n",
    "br_en = StackingRegressor(estimators = [('xgb', xgb_model),\n",
    "                                        ('mars', mars_model),\n",
    "                                        ('dt', dt_model),\n",
    "                                        ('rf', rf_model),\n",
    "                                        ('br', br_model)],\n",
    "                            final_estimator = BaggingRegressor(base_estimator = DecisionTreeRegressor(),\n",
    "                                                               random_state = 1,\n",
    "                                                               n_jobs=-1),\n",
    "                            cv = cv)\n",
    "br_en.fit(X_train, y_train)"
   ]
  },
  {
   "cell_type": "code",
   "execution_count": 112,
   "id": "FfWDmtsuISyD",
   "metadata": {
    "colab": {
     "base_uri": "https://localhost:8080/"
    },
    "id": "FfWDmtsuISyD",
    "outputId": "024ba453-ecd9-4c83-8b7c-184f66bc0dda"
   },
   "outputs": [
    {
     "name": "stdout",
     "output_type": "stream",
     "text": [
      "MAE:  0.3804250942749399\n"
     ]
    }
   ],
   "source": [
    "# Bagged stacking ensemble test MAE\n",
    "br_en_preds = br_en.predict(X_test)\n",
    "print('MAE: ', mean_absolute_error(br_en_preds, y_test))"
   ]
  },
  {
   "attachments": {},
   "cell_type": "markdown",
   "id": "26044aaa",
   "metadata": {},
   "source": [
    "**Stacking Ensemble with XGBoost Final Estimator:**"
   ]
  },
  {
   "cell_type": "code",
   "execution_count": 113,
   "id": "Xr_MpANxIhrL",
   "metadata": {
    "colab": {
     "base_uri": "https://localhost:8080/",
     "height": 253
    },
    "id": "Xr_MpANxIhrL",
    "outputId": "88955177-9236-41c8-c65c-9d61bd80cff7"
   },
   "outputs": [
    {
     "data": {
      "text/html": [
       "<style>#sk-container-id-9 {color: black;background-color: white;}#sk-container-id-9 pre{padding: 0;}#sk-container-id-9 div.sk-toggleable {background-color: white;}#sk-container-id-9 label.sk-toggleable__label {cursor: pointer;display: block;width: 100%;margin-bottom: 0;padding: 0.3em;box-sizing: border-box;text-align: center;}#sk-container-id-9 label.sk-toggleable__label-arrow:before {content: \"▸\";float: left;margin-right: 0.25em;color: #696969;}#sk-container-id-9 label.sk-toggleable__label-arrow:hover:before {color: black;}#sk-container-id-9 div.sk-estimator:hover label.sk-toggleable__label-arrow:before {color: black;}#sk-container-id-9 div.sk-toggleable__content {max-height: 0;max-width: 0;overflow: hidden;text-align: left;background-color: #f0f8ff;}#sk-container-id-9 div.sk-toggleable__content pre {margin: 0.2em;color: black;border-radius: 0.25em;background-color: #f0f8ff;}#sk-container-id-9 input.sk-toggleable__control:checked~div.sk-toggleable__content {max-height: 200px;max-width: 100%;overflow: auto;}#sk-container-id-9 input.sk-toggleable__control:checked~label.sk-toggleable__label-arrow:before {content: \"▾\";}#sk-container-id-9 div.sk-estimator input.sk-toggleable__control:checked~label.sk-toggleable__label {background-color: #d4ebff;}#sk-container-id-9 div.sk-label input.sk-toggleable__control:checked~label.sk-toggleable__label {background-color: #d4ebff;}#sk-container-id-9 input.sk-hidden--visually {border: 0;clip: rect(1px 1px 1px 1px);clip: rect(1px, 1px, 1px, 1px);height: 1px;margin: -1px;overflow: hidden;padding: 0;position: absolute;width: 1px;}#sk-container-id-9 div.sk-estimator {font-family: monospace;background-color: #f0f8ff;border: 1px dotted black;border-radius: 0.25em;box-sizing: border-box;margin-bottom: 0.5em;}#sk-container-id-9 div.sk-estimator:hover {background-color: #d4ebff;}#sk-container-id-9 div.sk-parallel-item::after {content: \"\";width: 100%;border-bottom: 1px solid gray;flex-grow: 1;}#sk-container-id-9 div.sk-label:hover label.sk-toggleable__label {background-color: #d4ebff;}#sk-container-id-9 div.sk-serial::before {content: \"\";position: absolute;border-left: 1px solid gray;box-sizing: border-box;top: 0;bottom: 0;left: 50%;z-index: 0;}#sk-container-id-9 div.sk-serial {display: flex;flex-direction: column;align-items: center;background-color: white;padding-right: 0.2em;padding-left: 0.2em;position: relative;}#sk-container-id-9 div.sk-item {position: relative;z-index: 1;}#sk-container-id-9 div.sk-parallel {display: flex;align-items: stretch;justify-content: center;background-color: white;position: relative;}#sk-container-id-9 div.sk-item::before, #sk-container-id-9 div.sk-parallel-item::before {content: \"\";position: absolute;border-left: 1px solid gray;box-sizing: border-box;top: 0;bottom: 0;left: 50%;z-index: -1;}#sk-container-id-9 div.sk-parallel-item {display: flex;flex-direction: column;z-index: 1;position: relative;background-color: white;}#sk-container-id-9 div.sk-parallel-item:first-child::after {align-self: flex-end;width: 50%;}#sk-container-id-9 div.sk-parallel-item:last-child::after {align-self: flex-start;width: 50%;}#sk-container-id-9 div.sk-parallel-item:only-child::after {width: 0;}#sk-container-id-9 div.sk-dashed-wrapped {border: 1px dashed gray;margin: 0 0.4em 0.5em 0.4em;box-sizing: border-box;padding-bottom: 0.4em;background-color: white;}#sk-container-id-9 div.sk-label label {font-family: monospace;font-weight: bold;display: inline-block;line-height: 1.2em;}#sk-container-id-9 div.sk-label-container {text-align: center;}#sk-container-id-9 div.sk-container {/* jupyter's `normalize.less` sets `[hidden] { display: none; }` but bootstrap.min.css set `[hidden] { display: none !important; }` so we also need the `!important` here to be able to override the default hidden behavior on the sphinx rendered scikit-learn.org. See: https://github.com/scikit-learn/scikit-learn/issues/21755 */display: inline-block !important;position: relative;}#sk-container-id-9 div.sk-text-repr-fallback {display: none;}</style><div id=\"sk-container-id-9\" class=\"sk-top-container\"><div class=\"sk-text-repr-fallback\"><pre>StackingRegressor(cv=KFold(n_splits=5, random_state=1, shuffle=True),\n",
       "                  estimators=[(&#x27;xgb&#x27;,\n",
       "                               XGBRegressor(base_score=None, booster=None,\n",
       "                                            callbacks=None,\n",
       "                                            colsample_bylevel=None,\n",
       "                                            colsample_bynode=None,\n",
       "                                            colsample_bytree=None,\n",
       "                                            early_stopping_rounds=None,\n",
       "                                            enable_categorical=False,\n",
       "                                            eval_metric=None,\n",
       "                                            feature_types=None, gamma=4,\n",
       "                                            gpu_id=None, grow_policy=None,\n",
       "                                            importance_type...\n",
       "                                               gpu_id=None, grow_policy=None,\n",
       "                                               importance_type=None,\n",
       "                                               interaction_constraints=None,\n",
       "                                               learning_rate=None, max_bin=None,\n",
       "                                               max_cat_threshold=None,\n",
       "                                               max_cat_to_onehot=None,\n",
       "                                               max_delta_step=None,\n",
       "                                               max_depth=None, max_leaves=None,\n",
       "                                               min_child_weight=None,\n",
       "                                               missing=nan,\n",
       "                                               monotone_constraints=None,\n",
       "                                               n_estimators=100, n_jobs=None,\n",
       "                                               num_parallel_tree=None,\n",
       "                                               predictor=None, random_state=1, ...))</pre><b>In a Jupyter environment, please rerun this cell to show the HTML representation or trust the notebook. <br />On GitHub, the HTML representation is unable to render, please try loading this page with nbviewer.org.</b></div><div class=\"sk-container\" hidden><div class=\"sk-item sk-dashed-wrapped\"><div class=\"sk-label-container\"><div class=\"sk-label sk-toggleable\"><input class=\"sk-toggleable__control sk-hidden--visually\" id=\"sk-estimator-id-32\" type=\"checkbox\" ><label for=\"sk-estimator-id-32\" class=\"sk-toggleable__label sk-toggleable__label-arrow\">StackingRegressor</label><div class=\"sk-toggleable__content\"><pre>StackingRegressor(cv=KFold(n_splits=5, random_state=1, shuffle=True),\n",
       "                  estimators=[(&#x27;xgb&#x27;,\n",
       "                               XGBRegressor(base_score=None, booster=None,\n",
       "                                            callbacks=None,\n",
       "                                            colsample_bylevel=None,\n",
       "                                            colsample_bynode=None,\n",
       "                                            colsample_bytree=None,\n",
       "                                            early_stopping_rounds=None,\n",
       "                                            enable_categorical=False,\n",
       "                                            eval_metric=None,\n",
       "                                            feature_types=None, gamma=4,\n",
       "                                            gpu_id=None, grow_policy=None,\n",
       "                                            importance_type...\n",
       "                                               gpu_id=None, grow_policy=None,\n",
       "                                               importance_type=None,\n",
       "                                               interaction_constraints=None,\n",
       "                                               learning_rate=None, max_bin=None,\n",
       "                                               max_cat_threshold=None,\n",
       "                                               max_cat_to_onehot=None,\n",
       "                                               max_delta_step=None,\n",
       "                                               max_depth=None, max_leaves=None,\n",
       "                                               min_child_weight=None,\n",
       "                                               missing=nan,\n",
       "                                               monotone_constraints=None,\n",
       "                                               n_estimators=100, n_jobs=None,\n",
       "                                               num_parallel_tree=None,\n",
       "                                               predictor=None, random_state=1, ...))</pre></div></div></div><div class=\"sk-serial\"><div class=\"sk-item\"><div class=\"sk-parallel\"><div class=\"sk-parallel-item\"><div class=\"sk-item\"><div class=\"sk-label-container\"><div class=\"sk-label sk-toggleable\"><label>xgb</label></div></div><div class=\"sk-serial\"><div class=\"sk-item\"><div class=\"sk-estimator sk-toggleable\"><input class=\"sk-toggleable__control sk-hidden--visually\" id=\"sk-estimator-id-33\" type=\"checkbox\" ><label for=\"sk-estimator-id-33\" class=\"sk-toggleable__label sk-toggleable__label-arrow\">XGBRegressor</label><div class=\"sk-toggleable__content\"><pre>XGBRegressor(base_score=None, booster=None, callbacks=None,\n",
       "             colsample_bylevel=None, colsample_bynode=None,\n",
       "             colsample_bytree=None, early_stopping_rounds=None,\n",
       "             enable_categorical=False, eval_metric=None, feature_types=None,\n",
       "             gamma=4, gpu_id=None, grow_policy=None, importance_type=None,\n",
       "             interaction_constraints=None, learning_rate=0.01, max_bin=None,\n",
       "             max_cat_threshold=None, max_cat_to_onehot=None,\n",
       "             max_delta_step=None, max_depth=5, max_leaves=None,\n",
       "             min_child_weight=None, missing=nan, monotone_constraints=None,\n",
       "             n_estimators=3000, n_jobs=None, num_parallel_tree=None,\n",
       "             predictor=None, random_state=1, ...)</pre></div></div></div></div></div></div><div class=\"sk-parallel-item\"><div class=\"sk-item\"><div class=\"sk-label-container\"><div class=\"sk-label sk-toggleable\"><label>mars</label></div></div><div class=\"sk-serial\"><div class=\"sk-item\"><div class=\"sk-estimator sk-toggleable\"><input class=\"sk-toggleable__control sk-hidden--visually\" id=\"sk-estimator-id-34\" type=\"checkbox\" ><label for=\"sk-estimator-id-34\" class=\"sk-toggleable__label sk-toggleable__label-arrow\">Earth</label><div class=\"sk-toggleable__content\"><pre>Earth(feature_importance_type=&#x27;rss&#x27;, max_degree=3, max_terms=500)</pre></div></div></div></div></div></div><div class=\"sk-parallel-item\"><div class=\"sk-item\"><div class=\"sk-label-container\"><div class=\"sk-label sk-toggleable\"><label>dt</label></div></div><div class=\"sk-serial\"><div class=\"sk-item\"><div class=\"sk-estimator sk-toggleable\"><input class=\"sk-toggleable__control sk-hidden--visually\" id=\"sk-estimator-id-35\" type=\"checkbox\" ><label for=\"sk-estimator-id-35\" class=\"sk-toggleable__label sk-toggleable__label-arrow\">DecisionTreeRegressor</label><div class=\"sk-toggleable__content\"><pre>DecisionTreeRegressor(max_depth=13, max_leaf_nodes=620, random_state=1)</pre></div></div></div></div></div></div><div class=\"sk-parallel-item\"><div class=\"sk-item\"><div class=\"sk-label-container\"><div class=\"sk-label sk-toggleable\"><label>rf</label></div></div><div class=\"sk-serial\"><div class=\"sk-item\"><div class=\"sk-estimator sk-toggleable\"><input class=\"sk-toggleable__control sk-hidden--visually\" id=\"sk-estimator-id-36\" type=\"checkbox\" ><label for=\"sk-estimator-id-36\" class=\"sk-toggleable__label sk-toggleable__label-arrow\">RandomForestRegressor</label><div class=\"sk-toggleable__content\"><pre>RandomForestRegressor(max_depth=40, max_features=40, max_leaf_nodes=2000,\n",
       "                      n_estimators=199, n_jobs=-1, oob_score=True,\n",
       "                      random_state=1)</pre></div></div></div></div></div></div><div class=\"sk-parallel-item\"><div class=\"sk-item\"><div class=\"sk-label-container\"><div class=\"sk-label sk-toggleable\"><label>br</label></div></div><div class=\"sk-serial\"><div class=\"sk-item sk-dashed-wrapped\"><div class=\"sk-parallel\"><div class=\"sk-parallel-item\"><div class=\"sk-item\"><div class=\"sk-label-container\"><div class=\"sk-label sk-toggleable\"><input class=\"sk-toggleable__control sk-hidden--visually\" id=\"sk-estimator-id-37\" type=\"checkbox\" ><label for=\"sk-estimator-id-37\" class=\"sk-toggleable__label sk-toggleable__label-arrow\">base_estimator: DecisionTreeRegressor</label><div class=\"sk-toggleable__content\"><pre>DecisionTreeRegressor(random_state=1)</pre></div></div></div><div class=\"sk-serial\"><div class=\"sk-item\"><div class=\"sk-estimator sk-toggleable\"><input class=\"sk-toggleable__control sk-hidden--visually\" id=\"sk-estimator-id-38\" type=\"checkbox\" ><label for=\"sk-estimator-id-38\" class=\"sk-toggleable__label sk-toggleable__label-arrow\">DecisionTreeRegressor</label><div class=\"sk-toggleable__content\"><pre>DecisionTreeRegressor(random_state=1)</pre></div></div></div></div></div></div></div></div></div></div></div></div></div><div class=\"sk-item\"><div class=\"sk-parallel\"><div class=\"sk-parallel-item\"><div class=\"sk-item\"><div class=\"sk-label-container\"><div class=\"sk-label sk-toggleable\"><label>final_estimator</label></div></div><div class=\"sk-serial\"><div class=\"sk-item\"><div class=\"sk-estimator sk-toggleable\"><input class=\"sk-toggleable__control sk-hidden--visually\" id=\"sk-estimator-id-39\" type=\"checkbox\" ><label for=\"sk-estimator-id-39\" class=\"sk-toggleable__label sk-toggleable__label-arrow\">XGBRegressor</label><div class=\"sk-toggleable__content\"><pre>XGBRegressor(base_score=None, booster=None, callbacks=None,\n",
       "             colsample_bylevel=None, colsample_bynode=None,\n",
       "             colsample_bytree=None, early_stopping_rounds=None,\n",
       "             enable_categorical=False, eval_metric=None, feature_types=None,\n",
       "             gamma=None, gpu_id=None, grow_policy=None, importance_type=None,\n",
       "             interaction_constraints=None, learning_rate=None, max_bin=None,\n",
       "             max_cat_threshold=None, max_cat_to_onehot=None,\n",
       "             max_delta_step=None, max_depth=None, max_leaves=None,\n",
       "             min_child_weight=None, missing=nan, monotone_constraints=None,\n",
       "             n_estimators=100, n_jobs=None, num_parallel_tree=None,\n",
       "             predictor=None, random_state=1, ...)</pre></div></div></div></div></div></div></div></div></div></div></div></div>"
      ],
      "text/plain": [
       "StackingRegressor(cv=KFold(n_splits=5, random_state=1, shuffle=True),\n",
       "                  estimators=[('xgb',\n",
       "                               XGBRegressor(base_score=None, booster=None,\n",
       "                                            callbacks=None,\n",
       "                                            colsample_bylevel=None,\n",
       "                                            colsample_bynode=None,\n",
       "                                            colsample_bytree=None,\n",
       "                                            early_stopping_rounds=None,\n",
       "                                            enable_categorical=False,\n",
       "                                            eval_metric=None,\n",
       "                                            feature_types=None, gamma=4,\n",
       "                                            gpu_id=None, grow_policy=None,\n",
       "                                            importance_type...\n",
       "                                               gpu_id=None, grow_policy=None,\n",
       "                                               importance_type=None,\n",
       "                                               interaction_constraints=None,\n",
       "                                               learning_rate=None, max_bin=None,\n",
       "                                               max_cat_threshold=None,\n",
       "                                               max_cat_to_onehot=None,\n",
       "                                               max_delta_step=None,\n",
       "                                               max_depth=None, max_leaves=None,\n",
       "                                               min_child_weight=None,\n",
       "                                               missing=nan,\n",
       "                                               monotone_constraints=None,\n",
       "                                               n_estimators=100, n_jobs=None,\n",
       "                                               num_parallel_tree=None,\n",
       "                                               predictor=None, random_state=1, ...))"
      ]
     },
     "execution_count": 113,
     "metadata": {},
     "output_type": "execute_result"
    }
   ],
   "source": [
    "# Stacking ensemble with XGBoost final estimator\n",
    "cv = KFold(n_splits = 5, shuffle = True, random_state = 1)\n",
    "\n",
    "xgb_en = StackingRegressor(estimators = [('xgb', xgb_model),\n",
    "                                         ('mars', mars_model),\n",
    "                                         ('dt', dt_model),\n",
    "                                         ('rf', rf_model),\n",
    "                                         ('br', br_model)],\n",
    "                            final_estimator = XGBRegressor(random_state = 1),\n",
    "                            cv = cv)\n",
    "xgb_en.fit(X_train, y_train)"
   ]
  },
  {
   "cell_type": "code",
   "execution_count": 114,
   "id": "CGrUghLOItHZ",
   "metadata": {
    "colab": {
     "base_uri": "https://localhost:8080/"
    },
    "id": "CGrUghLOItHZ",
    "outputId": "da2cc1c7-ab31-4922-9c89-4c8c33e46757"
   },
   "outputs": [
    {
     "name": "stdout",
     "output_type": "stream",
     "text": [
      "MAE:  0.3736327594208072\n"
     ]
    }
   ],
   "source": [
    "# XGBoost stacking ensemble test MAE\n",
    "xgb_en_preds = xgb_en.predict(X_test)\n",
    "print('MAE: ', mean_absolute_error(xgb_en_preds, y_test))"
   ]
  },
  {
   "attachments": {},
   "cell_type": "markdown",
   "id": "efc554fc",
   "metadata": {},
   "source": [
    "**Stacking Ensemble with MARS Final Estimator**"
   ]
  },
  {
   "cell_type": "code",
   "execution_count": 109,
   "id": "qyNcIN3TE_M6",
   "metadata": {
    "colab": {
     "base_uri": "https://localhost:8080/",
     "height": 253
    },
    "id": "qyNcIN3TE_M6",
    "outputId": "e07b1b74-4a80-4d93-bc54-04f5835fdc69"
   },
   "outputs": [
    {
     "data": {
      "text/html": [
       "<style>#sk-container-id-7 {color: black;background-color: white;}#sk-container-id-7 pre{padding: 0;}#sk-container-id-7 div.sk-toggleable {background-color: white;}#sk-container-id-7 label.sk-toggleable__label {cursor: pointer;display: block;width: 100%;margin-bottom: 0;padding: 0.3em;box-sizing: border-box;text-align: center;}#sk-container-id-7 label.sk-toggleable__label-arrow:before {content: \"▸\";float: left;margin-right: 0.25em;color: #696969;}#sk-container-id-7 label.sk-toggleable__label-arrow:hover:before {color: black;}#sk-container-id-7 div.sk-estimator:hover label.sk-toggleable__label-arrow:before {color: black;}#sk-container-id-7 div.sk-toggleable__content {max-height: 0;max-width: 0;overflow: hidden;text-align: left;background-color: #f0f8ff;}#sk-container-id-7 div.sk-toggleable__content pre {margin: 0.2em;color: black;border-radius: 0.25em;background-color: #f0f8ff;}#sk-container-id-7 input.sk-toggleable__control:checked~div.sk-toggleable__content {max-height: 200px;max-width: 100%;overflow: auto;}#sk-container-id-7 input.sk-toggleable__control:checked~label.sk-toggleable__label-arrow:before {content: \"▾\";}#sk-container-id-7 div.sk-estimator input.sk-toggleable__control:checked~label.sk-toggleable__label {background-color: #d4ebff;}#sk-container-id-7 div.sk-label input.sk-toggleable__control:checked~label.sk-toggleable__label {background-color: #d4ebff;}#sk-container-id-7 input.sk-hidden--visually {border: 0;clip: rect(1px 1px 1px 1px);clip: rect(1px, 1px, 1px, 1px);height: 1px;margin: -1px;overflow: hidden;padding: 0;position: absolute;width: 1px;}#sk-container-id-7 div.sk-estimator {font-family: monospace;background-color: #f0f8ff;border: 1px dotted black;border-radius: 0.25em;box-sizing: border-box;margin-bottom: 0.5em;}#sk-container-id-7 div.sk-estimator:hover {background-color: #d4ebff;}#sk-container-id-7 div.sk-parallel-item::after {content: \"\";width: 100%;border-bottom: 1px solid gray;flex-grow: 1;}#sk-container-id-7 div.sk-label:hover label.sk-toggleable__label {background-color: #d4ebff;}#sk-container-id-7 div.sk-serial::before {content: \"\";position: absolute;border-left: 1px solid gray;box-sizing: border-box;top: 0;bottom: 0;left: 50%;z-index: 0;}#sk-container-id-7 div.sk-serial {display: flex;flex-direction: column;align-items: center;background-color: white;padding-right: 0.2em;padding-left: 0.2em;position: relative;}#sk-container-id-7 div.sk-item {position: relative;z-index: 1;}#sk-container-id-7 div.sk-parallel {display: flex;align-items: stretch;justify-content: center;background-color: white;position: relative;}#sk-container-id-7 div.sk-item::before, #sk-container-id-7 div.sk-parallel-item::before {content: \"\";position: absolute;border-left: 1px solid gray;box-sizing: border-box;top: 0;bottom: 0;left: 50%;z-index: -1;}#sk-container-id-7 div.sk-parallel-item {display: flex;flex-direction: column;z-index: 1;position: relative;background-color: white;}#sk-container-id-7 div.sk-parallel-item:first-child::after {align-self: flex-end;width: 50%;}#sk-container-id-7 div.sk-parallel-item:last-child::after {align-self: flex-start;width: 50%;}#sk-container-id-7 div.sk-parallel-item:only-child::after {width: 0;}#sk-container-id-7 div.sk-dashed-wrapped {border: 1px dashed gray;margin: 0 0.4em 0.5em 0.4em;box-sizing: border-box;padding-bottom: 0.4em;background-color: white;}#sk-container-id-7 div.sk-label label {font-family: monospace;font-weight: bold;display: inline-block;line-height: 1.2em;}#sk-container-id-7 div.sk-label-container {text-align: center;}#sk-container-id-7 div.sk-container {/* jupyter's `normalize.less` sets `[hidden] { display: none; }` but bootstrap.min.css set `[hidden] { display: none !important; }` so we also need the `!important` here to be able to override the default hidden behavior on the sphinx rendered scikit-learn.org. See: https://github.com/scikit-learn/scikit-learn/issues/21755 */display: inline-block !important;position: relative;}#sk-container-id-7 div.sk-text-repr-fallback {display: none;}</style><div id=\"sk-container-id-7\" class=\"sk-top-container\"><div class=\"sk-text-repr-fallback\"><pre>StackingRegressor(cv=KFold(n_splits=5, random_state=1, shuffle=True),\n",
       "                  estimators=[(&#x27;xgb&#x27;,\n",
       "                               XGBRegressor(base_score=None, booster=None,\n",
       "                                            callbacks=None,\n",
       "                                            colsample_bylevel=None,\n",
       "                                            colsample_bynode=None,\n",
       "                                            colsample_bytree=None,\n",
       "                                            early_stopping_rounds=None,\n",
       "                                            enable_categorical=False,\n",
       "                                            eval_metric=None,\n",
       "                                            feature_types=None, gamma=4,\n",
       "                                            gpu_id=None, grow_policy=None,\n",
       "                                            importance_type...\n",
       "                               RandomForestRegressor(max_depth=40,\n",
       "                                                     max_features=40,\n",
       "                                                     max_leaf_nodes=2000,\n",
       "                                                     n_estimators=199,\n",
       "                                                     n_jobs=-1, oob_score=True,\n",
       "                                                     random_state=1)),\n",
       "                              (&#x27;br&#x27;,\n",
       "                               BaggingRegressor(base_estimator=DecisionTreeRegressor(random_state=1),\n",
       "                                                bootstrap=False,\n",
       "                                                max_features=0.8,\n",
       "                                                max_samples=0.8,\n",
       "                                                n_estimators=1200, n_jobs=-1,\n",
       "                                                random_state=1))],\n",
       "                  final_estimator=Earth(feature_importance_type=&#x27;rss&#x27;,\n",
       "                                        max_degree=3))</pre><b>In a Jupyter environment, please rerun this cell to show the HTML representation or trust the notebook. <br />On GitHub, the HTML representation is unable to render, please try loading this page with nbviewer.org.</b></div><div class=\"sk-container\" hidden><div class=\"sk-item sk-dashed-wrapped\"><div class=\"sk-label-container\"><div class=\"sk-label sk-toggleable\"><input class=\"sk-toggleable__control sk-hidden--visually\" id=\"sk-estimator-id-15\" type=\"checkbox\" ><label for=\"sk-estimator-id-15\" class=\"sk-toggleable__label sk-toggleable__label-arrow\">StackingRegressor</label><div class=\"sk-toggleable__content\"><pre>StackingRegressor(cv=KFold(n_splits=5, random_state=1, shuffle=True),\n",
       "                  estimators=[(&#x27;xgb&#x27;,\n",
       "                               XGBRegressor(base_score=None, booster=None,\n",
       "                                            callbacks=None,\n",
       "                                            colsample_bylevel=None,\n",
       "                                            colsample_bynode=None,\n",
       "                                            colsample_bytree=None,\n",
       "                                            early_stopping_rounds=None,\n",
       "                                            enable_categorical=False,\n",
       "                                            eval_metric=None,\n",
       "                                            feature_types=None, gamma=4,\n",
       "                                            gpu_id=None, grow_policy=None,\n",
       "                                            importance_type...\n",
       "                               RandomForestRegressor(max_depth=40,\n",
       "                                                     max_features=40,\n",
       "                                                     max_leaf_nodes=2000,\n",
       "                                                     n_estimators=199,\n",
       "                                                     n_jobs=-1, oob_score=True,\n",
       "                                                     random_state=1)),\n",
       "                              (&#x27;br&#x27;,\n",
       "                               BaggingRegressor(base_estimator=DecisionTreeRegressor(random_state=1),\n",
       "                                                bootstrap=False,\n",
       "                                                max_features=0.8,\n",
       "                                                max_samples=0.8,\n",
       "                                                n_estimators=1200, n_jobs=-1,\n",
       "                                                random_state=1))],\n",
       "                  final_estimator=Earth(feature_importance_type=&#x27;rss&#x27;,\n",
       "                                        max_degree=3))</pre></div></div></div><div class=\"sk-serial\"><div class=\"sk-item\"><div class=\"sk-parallel\"><div class=\"sk-parallel-item\"><div class=\"sk-item\"><div class=\"sk-label-container\"><div class=\"sk-label sk-toggleable\"><label>xgb</label></div></div><div class=\"sk-serial\"><div class=\"sk-item\"><div class=\"sk-estimator sk-toggleable\"><input class=\"sk-toggleable__control sk-hidden--visually\" id=\"sk-estimator-id-16\" type=\"checkbox\" ><label for=\"sk-estimator-id-16\" class=\"sk-toggleable__label sk-toggleable__label-arrow\">XGBRegressor</label><div class=\"sk-toggleable__content\"><pre>XGBRegressor(base_score=None, booster=None, callbacks=None,\n",
       "             colsample_bylevel=None, colsample_bynode=None,\n",
       "             colsample_bytree=None, early_stopping_rounds=None,\n",
       "             enable_categorical=False, eval_metric=None, feature_types=None,\n",
       "             gamma=4, gpu_id=None, grow_policy=None, importance_type=None,\n",
       "             interaction_constraints=None, learning_rate=0.01, max_bin=None,\n",
       "             max_cat_threshold=None, max_cat_to_onehot=None,\n",
       "             max_delta_step=None, max_depth=5, max_leaves=None,\n",
       "             min_child_weight=None, missing=nan, monotone_constraints=None,\n",
       "             n_estimators=3000, n_jobs=None, num_parallel_tree=None,\n",
       "             predictor=None, random_state=1, ...)</pre></div></div></div></div></div></div><div class=\"sk-parallel-item\"><div class=\"sk-item\"><div class=\"sk-label-container\"><div class=\"sk-label sk-toggleable\"><label>mars</label></div></div><div class=\"sk-serial\"><div class=\"sk-item\"><div class=\"sk-estimator sk-toggleable\"><input class=\"sk-toggleable__control sk-hidden--visually\" id=\"sk-estimator-id-17\" type=\"checkbox\" ><label for=\"sk-estimator-id-17\" class=\"sk-toggleable__label sk-toggleable__label-arrow\">Earth</label><div class=\"sk-toggleable__content\"><pre>Earth(feature_importance_type=&#x27;rss&#x27;, max_degree=3, max_terms=500)</pre></div></div></div></div></div></div><div class=\"sk-parallel-item\"><div class=\"sk-item\"><div class=\"sk-label-container\"><div class=\"sk-label sk-toggleable\"><label>dt</label></div></div><div class=\"sk-serial\"><div class=\"sk-item\"><div class=\"sk-estimator sk-toggleable\"><input class=\"sk-toggleable__control sk-hidden--visually\" id=\"sk-estimator-id-18\" type=\"checkbox\" ><label for=\"sk-estimator-id-18\" class=\"sk-toggleable__label sk-toggleable__label-arrow\">DecisionTreeRegressor</label><div class=\"sk-toggleable__content\"><pre>DecisionTreeRegressor(max_depth=13, max_leaf_nodes=620, random_state=1)</pre></div></div></div></div></div></div><div class=\"sk-parallel-item\"><div class=\"sk-item\"><div class=\"sk-label-container\"><div class=\"sk-label sk-toggleable\"><label>rf</label></div></div><div class=\"sk-serial\"><div class=\"sk-item\"><div class=\"sk-estimator sk-toggleable\"><input class=\"sk-toggleable__control sk-hidden--visually\" id=\"sk-estimator-id-19\" type=\"checkbox\" ><label for=\"sk-estimator-id-19\" class=\"sk-toggleable__label sk-toggleable__label-arrow\">RandomForestRegressor</label><div class=\"sk-toggleable__content\"><pre>RandomForestRegressor(max_depth=40, max_features=40, max_leaf_nodes=2000,\n",
       "                      n_estimators=199, n_jobs=-1, oob_score=True,\n",
       "                      random_state=1)</pre></div></div></div></div></div></div><div class=\"sk-parallel-item\"><div class=\"sk-item\"><div class=\"sk-label-container\"><div class=\"sk-label sk-toggleable\"><label>br</label></div></div><div class=\"sk-serial\"><div class=\"sk-item sk-dashed-wrapped\"><div class=\"sk-parallel\"><div class=\"sk-parallel-item\"><div class=\"sk-item\"><div class=\"sk-label-container\"><div class=\"sk-label sk-toggleable\"><input class=\"sk-toggleable__control sk-hidden--visually\" id=\"sk-estimator-id-20\" type=\"checkbox\" ><label for=\"sk-estimator-id-20\" class=\"sk-toggleable__label sk-toggleable__label-arrow\">base_estimator: DecisionTreeRegressor</label><div class=\"sk-toggleable__content\"><pre>DecisionTreeRegressor(random_state=1)</pre></div></div></div><div class=\"sk-serial\"><div class=\"sk-item\"><div class=\"sk-estimator sk-toggleable\"><input class=\"sk-toggleable__control sk-hidden--visually\" id=\"sk-estimator-id-21\" type=\"checkbox\" ><label for=\"sk-estimator-id-21\" class=\"sk-toggleable__label sk-toggleable__label-arrow\">DecisionTreeRegressor</label><div class=\"sk-toggleable__content\"><pre>DecisionTreeRegressor(random_state=1)</pre></div></div></div></div></div></div></div></div></div></div></div></div></div><div class=\"sk-item\"><div class=\"sk-parallel\"><div class=\"sk-parallel-item\"><div class=\"sk-item\"><div class=\"sk-label-container\"><div class=\"sk-label sk-toggleable\"><label>final_estimator</label></div></div><div class=\"sk-serial\"><div class=\"sk-item\"><div class=\"sk-estimator sk-toggleable\"><input class=\"sk-toggleable__control sk-hidden--visually\" id=\"sk-estimator-id-22\" type=\"checkbox\" ><label for=\"sk-estimator-id-22\" class=\"sk-toggleable__label sk-toggleable__label-arrow\">Earth</label><div class=\"sk-toggleable__content\"><pre>Earth(feature_importance_type=&#x27;rss&#x27;, max_degree=3)</pre></div></div></div></div></div></div></div></div></div></div></div></div>"
      ],
      "text/plain": [
       "StackingRegressor(cv=KFold(n_splits=5, random_state=1, shuffle=True),\n",
       "                  estimators=[('xgb',\n",
       "                               XGBRegressor(base_score=None, booster=None,\n",
       "                                            callbacks=None,\n",
       "                                            colsample_bylevel=None,\n",
       "                                            colsample_bynode=None,\n",
       "                                            colsample_bytree=None,\n",
       "                                            early_stopping_rounds=None,\n",
       "                                            enable_categorical=False,\n",
       "                                            eval_metric=None,\n",
       "                                            feature_types=None, gamma=4,\n",
       "                                            gpu_id=None, grow_policy=None,\n",
       "                                            importance_type...\n",
       "                               RandomForestRegressor(max_depth=40,\n",
       "                                                     max_features=40,\n",
       "                                                     max_leaf_nodes=2000,\n",
       "                                                     n_estimators=199,\n",
       "                                                     n_jobs=-1, oob_score=True,\n",
       "                                                     random_state=1)),\n",
       "                              ('br',\n",
       "                               BaggingRegressor(base_estimator=DecisionTreeRegressor(random_state=1),\n",
       "                                                bootstrap=False,\n",
       "                                                max_features=0.8,\n",
       "                                                max_samples=0.8,\n",
       "                                                n_estimators=1200, n_jobs=-1,\n",
       "                                                random_state=1))],\n",
       "                  final_estimator=Earth(feature_importance_type='rss',\n",
       "                                        max_degree=3))"
      ]
     },
     "execution_count": 109,
     "metadata": {},
     "output_type": "execute_result"
    }
   ],
   "source": [
    "# Stacking ensemble with MARS final estimator\n",
    "cv = KFold(n_splits = 5, shuffle = True, random_state = 1)\n",
    "\n",
    "mars_en = StackingRegressor(estimators = [('xgb', xgb_model),\n",
    "                                          ('mars', mars_model),\n",
    "                                          ('dt', dt_model),\n",
    "                                          ('rf', rf_model),\n",
    "                                          ('br', br_model)],\n",
    "                            final_estimator = Earth(max_degree = 3, \n",
    "                                                    feature_importance_type = 'rss'),\n",
    "                            cv = cv)\n",
    "mars_en.fit(X_train, y_train)"
   ]
  },
  {
   "cell_type": "code",
   "execution_count": 110,
   "id": "q7fILOH_HNLj",
   "metadata": {
    "colab": {
     "base_uri": "https://localhost:8080/"
    },
    "id": "q7fILOH_HNLj",
    "outputId": "fabe66da-a4d5-4448-d313-365eb9ad5004"
   },
   "outputs": [
    {
     "name": "stdout",
     "output_type": "stream",
     "text": [
      "MAE:  0.34955098230095305\n"
     ]
    }
   ],
   "source": [
    "# MARS stacking ensemble test MAE\n",
    "mars_en_preds = mars_en.predict(X_test)\n",
    "print('MAE: ', mean_absolute_error(mars_en_preds, y_test))"
   ]
  },
  {
   "cell_type": "code",
   "execution_count": 131,
   "id": "6aoCnhXaQ-9n",
   "metadata": {
    "id": "6aoCnhXaQ-9n"
   },
   "outputs": [],
   "source": [
    "# Feature importances for each individual model in MARS stacking ensemble\n",
    "xgb_feat_imp = pd.DataFrame(columns = ['predictor', 'importance'])\n",
    "mars_feat_imp = pd.DataFrame(columns = ['predictor', 'importance'])\n",
    "dt_feat_imp = pd.DataFrame(columns = ['predictor', 'importance'])\n",
    "rf_feat_imp = pd.DataFrame(columns = ['predictor', 'importance'])\n",
    "br_feat_imp = pd.DataFrame(columns = ['predictor', 'importance'])\n",
    "\n",
    "xgb_imps = mars_en.estimators_[0].feature_importances_\n",
    "mars_imps = mars_en.estimators_[1].feature_importances_\n",
    "dt_imps = mars_en.estimators_[2].feature_importances_\n",
    "rf_imps = mars_en.estimators_[3].feature_importances_\n",
    "\n",
    "total = [0] * 65\n",
    "for i, temp_model in enumerate(mars_en.estimators_[4].estimators_):\n",
    "    feat = mars_en.estimators_[4].estimators_features_[i]\n",
    "    for j, pred in enumerate(feat):\n",
    "        total[pred] += temp_model.feature_importances_[j]\n",
    "br_imps = np.array(total) / len(mars_en.estimators_[4].estimators_)\n",
    "\n",
    "xgb_feat_imp.loc[:,'predictor'] = X.columns\n",
    "xgb_feat_imp.loc[:,'importance'] = xgb_imps\n",
    "\n",
    "mars_feat_imp.loc[:,'predictor'] = X.columns\n",
    "mars_feat_imp.loc[:,'importance'] = mars_imps\n",
    "\n",
    "dt_feat_imp.loc[:,'predictor'] = X.columns\n",
    "dt_feat_imp.loc[:,'importance'] = dt_imps\n",
    "\n",
    "rf_feat_imp.loc[:,'predictor'] = X.columns\n",
    "rf_feat_imp.loc[:,'importance'] = rf_imps\n",
    "\n",
    "br_feat_imp.loc[:,'predictor'] = X.columns\n",
    "br_feat_imp.loc[:,'importance'] = br_imps\n"
   ]
  },
  {
   "cell_type": "code",
   "execution_count": 133,
   "id": "DundZABCVLAT",
   "metadata": {
    "id": "DundZABCVLAT"
   },
   "outputs": [],
   "source": [
    "# Weights of each individual model in MARS stacking ensemble\n",
    "feat_imp = pd.DataFrame(columns = ['predictor', 'importance'])\n",
    "imps = mars_en.final_estimator_.feature_importances_"
   ]
  },
  {
   "cell_type": "code",
   "execution_count": 137,
   "id": "AyLpxCuDVdwt",
   "metadata": {
    "id": "AyLpxCuDVdwt"
   },
   "outputs": [],
   "source": [
    "# Scaling importances of each model by weight\n",
    "xgb_feat_imp['importance'] = xgb_feat_imp['importance'].apply(lambda x: x * imps[0])\n",
    "mars_feat_imp['importance'] = mars_feat_imp['importance'].apply(lambda x: x * imps[1])\n",
    "dt_feat_imp['importance'] = dt_feat_imp['importance'].apply(lambda x: x * imps[2])\n",
    "rf_feat_imp['importance'] = rf_feat_imp['importance'].apply(lambda x: x * imps[3])\n",
    "br_feat_imp['importance'] = br_feat_imp['importance'].apply(lambda x: x * imps[4])"
   ]
  },
  {
   "attachments": {},
   "cell_type": "markdown",
   "id": "b348d8c1",
   "metadata": {},
   "source": [
    "### Feature Importance\n",
    "\n",
    "As a spectacular finale, let's reveal the weighted feature importances from each individual model in the MARS stacking ensemble. The collaboration of models produces a evidence that indivates Offensive Box Plus/Minus, Win Shares Per 48 Minutes, Box Plus/Minus, Usage Percentage, and Win Shares take the center stage."
   ]
  },
  {
   "cell_type": "code",
   "execution_count": 145,
   "id": "D4zN2sEBWT2t",
   "metadata": {
    "colab": {
     "base_uri": "https://localhost:8080/",
     "height": 204
    },
    "id": "D4zN2sEBWT2t",
    "outputId": "0a3a1aad-59e8-46d2-b2f1-e1f7882386fc"
   },
   "outputs": [
    {
     "data": {
      "text/html": [
       "\n",
       "  <div id=\"df-c75c3331-5bbd-41fb-a7ed-9b9ede831b40\">\n",
       "    <div class=\"colab-df-container\">\n",
       "      <div>\n",
       "<style scoped>\n",
       "    .dataframe tbody tr th:only-of-type {\n",
       "        vertical-align: middle;\n",
       "    }\n",
       "\n",
       "    .dataframe tbody tr th {\n",
       "        vertical-align: top;\n",
       "    }\n",
       "\n",
       "    .dataframe thead th {\n",
       "        text-align: right;\n",
       "    }\n",
       "</style>\n",
       "<table border=\"1\" class=\"dataframe\">\n",
       "  <thead>\n",
       "    <tr style=\"text-align: right;\">\n",
       "      <th></th>\n",
       "      <th>predictor</th>\n",
       "      <th>importance</th>\n",
       "    </tr>\n",
       "  </thead>\n",
       "  <tbody>\n",
       "    <tr>\n",
       "      <th>0</th>\n",
       "      <td>OBPM</td>\n",
       "      <td>0.293376</td>\n",
       "    </tr>\n",
       "    <tr>\n",
       "      <th>1</th>\n",
       "      <td>WS/48</td>\n",
       "      <td>0.265573</td>\n",
       "    </tr>\n",
       "    <tr>\n",
       "      <th>2</th>\n",
       "      <td>BPM</td>\n",
       "      <td>0.070088</td>\n",
       "    </tr>\n",
       "    <tr>\n",
       "      <th>3</th>\n",
       "      <td>USG%</td>\n",
       "      <td>0.060268</td>\n",
       "    </tr>\n",
       "    <tr>\n",
       "      <th>4</th>\n",
       "      <td>WS</td>\n",
       "      <td>0.032031</td>\n",
       "    </tr>\n",
       "  </tbody>\n",
       "</table>\n",
       "</div>\n",
       "      <button class=\"colab-df-convert\" onclick=\"convertToInteractive('df-c75c3331-5bbd-41fb-a7ed-9b9ede831b40')\"\n",
       "              title=\"Convert this dataframe to an interactive table.\"\n",
       "              style=\"display:none;\">\n",
       "        \n",
       "  <svg xmlns=\"http://www.w3.org/2000/svg\" height=\"24px\"viewBox=\"0 0 24 24\"\n",
       "       width=\"24px\">\n",
       "    <path d=\"M0 0h24v24H0V0z\" fill=\"none\"/>\n",
       "    <path d=\"M18.56 5.44l.94 2.06.94-2.06 2.06-.94-2.06-.94-.94-2.06-.94 2.06-2.06.94zm-11 1L8.5 8.5l.94-2.06 2.06-.94-2.06-.94L8.5 2.5l-.94 2.06-2.06.94zm10 10l.94 2.06.94-2.06 2.06-.94-2.06-.94-.94-2.06-.94 2.06-2.06.94z\"/><path d=\"M17.41 7.96l-1.37-1.37c-.4-.4-.92-.59-1.43-.59-.52 0-1.04.2-1.43.59L10.3 9.45l-7.72 7.72c-.78.78-.78 2.05 0 2.83L4 21.41c.39.39.9.59 1.41.59.51 0 1.02-.2 1.41-.59l7.78-7.78 2.81-2.81c.8-.78.8-2.07 0-2.86zM5.41 20L4 18.59l7.72-7.72 1.47 1.35L5.41 20z\"/>\n",
       "  </svg>\n",
       "      </button>\n",
       "      \n",
       "  <style>\n",
       "    .colab-df-container {\n",
       "      display:flex;\n",
       "      flex-wrap:wrap;\n",
       "      gap: 12px;\n",
       "    }\n",
       "\n",
       "    .colab-df-convert {\n",
       "      background-color: #E8F0FE;\n",
       "      border: none;\n",
       "      border-radius: 50%;\n",
       "      cursor: pointer;\n",
       "      display: none;\n",
       "      fill: #1967D2;\n",
       "      height: 32px;\n",
       "      padding: 0 0 0 0;\n",
       "      width: 32px;\n",
       "    }\n",
       "\n",
       "    .colab-df-convert:hover {\n",
       "      background-color: #E2EBFA;\n",
       "      box-shadow: 0px 1px 2px rgba(60, 64, 67, 0.3), 0px 1px 3px 1px rgba(60, 64, 67, 0.15);\n",
       "      fill: #174EA6;\n",
       "    }\n",
       "\n",
       "    [theme=dark] .colab-df-convert {\n",
       "      background-color: #3B4455;\n",
       "      fill: #D2E3FC;\n",
       "    }\n",
       "\n",
       "    [theme=dark] .colab-df-convert:hover {\n",
       "      background-color: #434B5C;\n",
       "      box-shadow: 0px 1px 3px 1px rgba(0, 0, 0, 0.15);\n",
       "      filter: drop-shadow(0px 1px 2px rgba(0, 0, 0, 0.3));\n",
       "      fill: #FFFFFF;\n",
       "    }\n",
       "  </style>\n",
       "\n",
       "      <script>\n",
       "        const buttonEl =\n",
       "          document.querySelector('#df-c75c3331-5bbd-41fb-a7ed-9b9ede831b40 button.colab-df-convert');\n",
       "        buttonEl.style.display =\n",
       "          google.colab.kernel.accessAllowed ? 'block' : 'none';\n",
       "\n",
       "        async function convertToInteractive(key) {\n",
       "          const element = document.querySelector('#df-c75c3331-5bbd-41fb-a7ed-9b9ede831b40');\n",
       "          const dataTable =\n",
       "            await google.colab.kernel.invokeFunction('convertToInteractive',\n",
       "                                                     [key], {});\n",
       "          if (!dataTable) return;\n",
       "\n",
       "          const docLinkHtml = 'Like what you see? Visit the ' +\n",
       "            '<a target=\"_blank\" href=https://colab.research.google.com/notebooks/data_table.ipynb>data table notebook</a>'\n",
       "            + ' to learn more about interactive tables.';\n",
       "          element.innerHTML = '';\n",
       "          dataTable['output_type'] = 'display_data';\n",
       "          await google.colab.output.renderOutput(dataTable, element);\n",
       "          const docLink = document.createElement('div');\n",
       "          docLink.innerHTML = docLinkHtml;\n",
       "          element.appendChild(docLink);\n",
       "        }\n",
       "      </script>\n",
       "    </div>\n",
       "  </div>\n",
       "  "
      ],
      "text/plain": [
       "  predictor  importance\n",
       "0      OBPM    0.293376\n",
       "1     WS/48    0.265573\n",
       "2       BPM    0.070088\n",
       "3      USG%    0.060268\n",
       "4        WS    0.032031"
      ]
     },
     "execution_count": 145,
     "metadata": {},
     "output_type": "execute_result"
    }
   ],
   "source": [
    "# Adding weighted feature importances of each model\n",
    "feat_imp.loc[:,'predictor'] = X.columns\n",
    "feat_imp.loc[:,'importance'] = xgb_feat_imp['importance'] + mars_feat_imp['importance'] + dt_feat_imp['importance'] + rf_feat_imp['importance'] + br_feat_imp['importance']\n",
    "\n",
    "feat_imp.sort_values(by = 'importance', ascending = False).reset_index(drop = True).head()"
   ]
  },
  {
   "attachments": {},
   "cell_type": "markdown",
   "id": "62a185cb",
   "metadata": {
    "id": "62a185cb"
   },
   "source": [
    "## Conclusions and Recommendations\n",
    "\n",
    "### Overview of models\n",
    "<html>\n",
    "<style>\n",
    "table, td, th {\n",
    "  border: 1px solid black;\n",
    "}\n",
    "\n",
    "table {\n",
    "  border-collapse: collapse;\n",
    "  width: 100%;\n",
    "}\n",
    "\n",
    "th {\n",
    "  text-align: left;\n",
    "}\n",
    "    \n",
    "\n",
    "</style>\n",
    "<body>\n",
    "\n",
    "\n",
    "<table style=\"width:100%\">\n",
    "     <colgroup>\n",
    "       <col span=\"1\" style=\"width: 15%;\">\n",
    "       <col span=\"1\" style=\"width: 20%;\">\n",
    "       <col span=\"1\" style=\"width: 25%;\">\n",
    "       <col span=\"1\" style=\"width: 40%;\">\n",
    "    </colgroup>\n",
    "  <tr>\n",
    "    <th>Ranking</th>\n",
    "    <th>Model Type</th>\n",
    "    <th>Test MAE</th>    \n",
    "    <th>Most Important Features</th>\n",
    "  </tr>\n",
    "  <tr>\n",
    "    <td>1</td>\n",
    "    <td>Stacking ensemble w/ MARS metamodel</td>\n",
    "    <td>0.3496</td>    \n",
    "    <td>OBPM, WS/48, BPM, USG%, WS</td>\n",
    "  </tr>\n",
    "  <tr>\n",
    "    <td>2</td>\n",
    "    <td>Stacking ensemble w/ XGBoost metamodel</td>\n",
    "    <td>0.3736</td>    \n",
    "    <td>Did not calculate</td>\n",
    "  </tr>\n",
    "  <tr>\n",
    "    <td>3</td>\n",
    "    <td>Stacking ensemble w/ bagged tree metamodel</td>\n",
    "    <td>0.3804</td>    \n",
    "    <td>Did not calculate</td>\n",
    "  </tr>\n",
    "  <tr>\n",
    "    <td>4</td>\n",
    "    <td>XGBoost</td>\n",
    "    <td>0.4065</td>    \n",
    "    <td>OBPM, WS/48, BPM, USG%, WS</td> \n",
    "  </tr>\n",
    "  <tr>\n",
    "    <td>5</td>\n",
    "    <td>MARS</td>\n",
    "    <td>0.4209</td>    \n",
    "    <td>BPM, USG%, WS/48, DBPM, BLK%</td> \n",
    "  </tr>\n",
    "  <tr>\n",
    "    <td>6</td>\n",
    "    <td>Voting ensemble</td>\n",
    "    <td>0.5821</td>    \n",
    "    <td>Did not calculate</td> \n",
    "  </tr>\n",
    "  <tr>\n",
    "    <td>7</td>\n",
    "    <td>Bagged trees</td>\n",
    "    <td>0.6934</td>    \n",
    "    <td>OBPM, WS/48, USG%, BPM, OWS</td> \n",
    "  </tr>\n",
    "  <tr>\n",
    "    <td>8</td>\n",
    "    <td>Random forest</td>\n",
    "    <td>0.7263</td>    \n",
    "    <td>WS/48, OBPM, USG%, OWS, BPM</td> \n",
    "  </tr>\n",
    "  <tr>\n",
    "    <td>9</td>\n",
    "    <td>Decision tree</td>\n",
    "    <td>1.1376</td>    \n",
    "    <td>OBPM, WS/48, USG%, 3PAr, TS%</td> \n",
    "  </tr>\n",
    "</table>"
   ]
  },
  {
   "attachments": {},
   "cell_type": "markdown",
   "id": "f5535b8e",
   "metadata": {},
   "source": [
    "### Conclusions\n",
    "\n",
    "- The best model, with a test Mean Absolute Error (MAE) of 0.3496, demonstrates robust predictive capability for Player Efficiency Rating (PER) given the specified predictors, with an error approximately 1/15 of a standard deviation.\n",
    "- Offensive Box Plus/Minus, Win Shares Per 48 Minutes, Box Plus/Minus, Usage Percentage, and Win Shares emerged as the most critical predictors for PER, with Offensive Box Plus/Minus holding the highest significance.\n",
    "- Offensive Box Plus/Minus reflects a player's impact on the team's score during their on-court presence. This underscores the notion that offensive performance significantly outweighs defensive contributions in overall player efficiency.\n",
    "  - In the contemporary league landscape dominated by offensive prowess, players who excel at scoring are highly valued. The emphasis on diverse skillsets for scoring is evident across players of varying profiles.\n",
    "- The importance of Usage Percentage as a predictor suggests that players who can sustain longer playing times are likely to be more valuable to their teams, contributing to their overall efficiency."
   ]
  },
  {
   "attachments": {},
   "cell_type": "markdown",
   "id": "211c8d7a",
   "metadata": {},
   "source": [
    "### Recommendations to Stakeholders\n",
    "\n",
    "- Players are encouraged to enhance their overall shooting proficiency across various facets.\n",
    "- Coaches and scouts should prioritize recruiting well-rounded shooters over specialists to optimize offensive efficiency.\n",
    "- The emphasis should be placed on selecting players who exhibit excellent conditioning, allowing them to maximize their on-court involvement.\n",
    "- Players are advised to prioritize maintaining high-level performance for extended durations, emphasizing the importance of endurance and sustained effectiveness."
   ]
  },
  {
   "attachments": {},
   "cell_type": "markdown",
   "id": "b861f9a4",
   "metadata": {},
   "source": [
    "### Shortcomings of the Model\n",
    "\n",
    "- Stakeholders should acknowledge that the model lacks the capability to measure intangibles, recognizing that athlete analysis involves elements beyond the quantifiable variables considered.\n",
    "- Furthermore, the individual nature of Player Efficiency Rating (PER) means the model cannot capture player-to-player interactions. Exploring the development of a model predicting team efficiency based on individual player statistics could be an intriguing avenue for future research, albeit beyond the current project's scope."
   ]
  }
 ],
 "metadata": {
  "colab": {
   "provenance": []
  },
  "kernelspec": {
   "display_name": "Python 3",
   "language": "python",
   "name": "python3"
  },
  "language_info": {
   "codemirror_mode": {
    "name": "ipython",
    "version": 3
   },
   "file_extension": ".py",
   "mimetype": "text/x-python",
   "name": "python",
   "nbconvert_exporter": "python",
   "pygments_lexer": "ipython3",
   "version": "3.11.2 (v3.11.2:878ead1ac1, Feb  7 2023, 10:02:41) [Clang 13.0.0 (clang-1300.0.29.30)]"
  },
  "vscode": {
   "interpreter": {
    "hash": "949777d72b0d2535278d3dc13498b2535136f6dfe0678499012e853ee9abcab1"
   }
  }
 },
 "nbformat": 4,
 "nbformat_minor": 5
}
